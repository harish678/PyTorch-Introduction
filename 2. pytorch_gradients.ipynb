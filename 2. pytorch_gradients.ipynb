{
  "nbformat": 4,
  "nbformat_minor": 0,
  "metadata": {
    "anaconda-cloud": {},
    "kernelspec": {
      "display_name": "Python 3",
      "language": "python",
      "name": "python3"
    },
    "language_info": {
      "codemirror_mode": {
        "name": "ipython",
        "version": 3
      },
      "file_extension": ".py",
      "mimetype": "text/x-python",
      "name": "python",
      "nbconvert_exporter": "python",
      "pygments_lexer": "ipython3",
      "version": "3.5.5"
    },
    "colab": {
      "name": "pytorch_gradients.ipynb",
      "provenance": [],
      "toc_visible": true
    }
  },
  "cells": [
    {
      "cell_type": "markdown",
      "metadata": {
        "id": "cPycNWDWGdS8",
        "colab_type": "text"
      },
      "source": [
        "# PyTorch Fundamentals\n",
        "## 2. Tensors with Variables and Gradients"
      ]
    },
    {
      "cell_type": "markdown",
      "metadata": {
        "collapsed": true,
        "id": "1zFUz4ZeGdTA",
        "colab_type": "text"
      },
      "source": [
        "### Varibales and Gradients\n",
        "\n",
        "- A Variable wraps a Tensor\n",
        "- Allows accumulation of gradients"
      ]
    },
    {
      "cell_type": "code",
      "metadata": {
        "id": "p4vd3E6rGdTB",
        "colab_type": "code",
        "colab": {}
      },
      "source": [
        "import torch\n",
        "from torch.autograd import Variable"
      ],
      "execution_count": 0,
      "outputs": []
    },
    {
      "cell_type": "markdown",
      "metadata": {
        "id": "xsqtYPhuIwSo",
        "colab_type": "text"
      },
      "source": [
        "Need to import `Variable` to create variables earlier in version of `Pytorch < 0.4.0`"
      ]
    },
    {
      "cell_type": "code",
      "metadata": {
        "id": "ZDMF2fJ3HWwq",
        "colab_type": "code",
        "colab": {
          "base_uri": "https://localhost:8080/",
          "height": 51
        },
        "outputId": "9a439eed-25ed-4c75-be50-5aaa3ac3f5af"
      },
      "source": [
        "a = Variable(torch.ones((2,2)), requires_grad=True)\n",
        "a"
      ],
      "execution_count": 2,
      "outputs": [
        {
          "output_type": "execute_result",
          "data": {
            "text/plain": [
              "tensor([[1., 1.],\n",
              "        [1., 1.]], requires_grad=True)"
            ]
          },
          "metadata": {
            "tags": []
          },
          "execution_count": 2
        }
      ]
    },
    {
      "cell_type": "code",
      "metadata": {
        "id": "7l0WzwApHwhD",
        "colab_type": "code",
        "colab": {
          "base_uri": "https://localhost:8080/",
          "height": 51
        },
        "outputId": "468ac405-ecad-469d-8bda-bb4a21d4e959"
      },
      "source": [
        "# Not a Variable\n",
        "torch.ones((2,2))"
      ],
      "execution_count": 3,
      "outputs": [
        {
          "output_type": "execute_result",
          "data": {
            "text/plain": [
              "tensor([[1., 1.],\n",
              "        [1., 1.]])"
            ]
          },
          "metadata": {
            "tags": []
          },
          "execution_count": 3
        }
      ]
    },
    {
      "cell_type": "markdown",
      "metadata": {
        "id": "0sijiNxCIpWZ",
        "colab_type": "text"
      },
      "source": [
        "The Variable API has been deprecated in `Pytorch0.4.0`: \n",
        "\n",
        "Variables are no longer necessary to use autograd with tensors. Autograd automatically supports Tensors with `requires_grad` set to True. "
      ]
    },
    {
      "cell_type": "code",
      "metadata": {
        "id": "tF9JGZ0IJFcK",
        "colab_type": "code",
        "colab": {
          "base_uri": "https://localhost:8080/",
          "height": 34
        },
        "outputId": "f7ba89e3-02d4-496c-cfab-b0baa8855e34"
      },
      "source": [
        "print(torch.__version__)"
      ],
      "execution_count": 4,
      "outputs": [
        {
          "output_type": "stream",
          "text": [
            "1.3.1+cu100\n"
          ],
          "name": "stdout"
        }
      ]
    },
    {
      "cell_type": "code",
      "metadata": {
        "id": "iQloKeP6GdTG",
        "colab_type": "code",
        "colab": {
          "base_uri": "https://localhost:8080/",
          "height": 51
        },
        "outputId": "2bff9826-c1c2-46bf-a9e6-2a088eb42d53"
      },
      "source": [
        "a = torch.ones((2, 2), requires_grad=True)\n",
        "a"
      ],
      "execution_count": 5,
      "outputs": [
        {
          "output_type": "execute_result",
          "data": {
            "text/plain": [
              "tensor([[1., 1.],\n",
              "        [1., 1.]], requires_grad=True)"
            ]
          },
          "metadata": {
            "tags": []
          },
          "execution_count": 5
        }
      ]
    },
    {
      "cell_type": "code",
      "metadata": {
        "id": "S9Jn24LzGdTM",
        "colab_type": "code",
        "colab": {
          "base_uri": "https://localhost:8080/",
          "height": 34
        },
        "outputId": "addd6199-116b-444c-a3d3-c8d83dd2805a"
      },
      "source": [
        "a.requires_grad"
      ],
      "execution_count": 6,
      "outputs": [
        {
          "output_type": "execute_result",
          "data": {
            "text/plain": [
              "True"
            ]
          },
          "metadata": {
            "tags": []
          },
          "execution_count": 6
        }
      ]
    },
    {
      "cell_type": "code",
      "metadata": {
        "id": "ltRd2yF6GdTP",
        "colab_type": "code",
        "colab": {}
      },
      "source": [
        "# Not a variable\n",
        "no_gradient = torch.ones(2, 2)"
      ],
      "execution_count": 0,
      "outputs": []
    },
    {
      "cell_type": "code",
      "metadata": {
        "id": "k316SgAwGdTU",
        "colab_type": "code",
        "colab": {
          "base_uri": "https://localhost:8080/",
          "height": 34
        },
        "outputId": "b5b55c7b-98ab-444c-ec90-f85cb1ece670"
      },
      "source": [
        "no_gradient.requires_grad"
      ],
      "execution_count": 8,
      "outputs": [
        {
          "output_type": "execute_result",
          "data": {
            "text/plain": [
              "False"
            ]
          },
          "metadata": {
            "tags": []
          },
          "execution_count": 8
        }
      ]
    },
    {
      "cell_type": "markdown",
      "metadata": {
        "id": "VLicOn3pGdTj",
        "colab_type": "text"
      },
      "source": [
        "### Manually and Automatically Calculating Gradients"
      ]
    },
    {
      "cell_type": "markdown",
      "metadata": {
        "id": "05Nzl5sSGdTk",
        "colab_type": "text"
      },
      "source": [
        "**What exactly is `requires_grad`?**\n",
        "- Allows calculation of gradients w.r.t. the variable"
      ]
    },
    {
      "cell_type": "markdown",
      "metadata": {
        "id": "HSiJF-KNGdTl",
        "colab_type": "text"
      },
      "source": [
        "$$y_i = 5(x_i+1)^2$$"
      ]
    },
    {
      "cell_type": "code",
      "metadata": {
        "id": "rWhMtZbCGdTm",
        "colab_type": "code",
        "colab": {}
      },
      "source": [
        "import numpy as np\n",
        "\n",
        "x = torch.from_numpy(np.array([1.0,2.0]))\n",
        "x.requires_grad=True"
      ],
      "execution_count": 0,
      "outputs": []
    },
    {
      "cell_type": "markdown",
      "metadata": {
        "id": "IecpYaRsGdTq",
        "colab_type": "text"
      },
      "source": [
        "$$y_i\\bigr\\rvert_{x_i=1} = 5(1 + 1)^2 = 5(2)^2 = 5(4) = 20$$"
      ]
    },
    {
      "cell_type": "code",
      "metadata": {
        "id": "_7sr_LpzGdTr",
        "colab_type": "code",
        "colab": {
          "base_uri": "https://localhost:8080/",
          "height": 34
        },
        "outputId": "ab742c7e-86e6-4dfe-bc64-dd0201b391ce"
      },
      "source": [
        "y = 5 * (x + 1) ** 2\n",
        "y"
      ],
      "execution_count": 10,
      "outputs": [
        {
          "output_type": "execute_result",
          "data": {
            "text/plain": [
              "tensor([20., 45.], dtype=torch.float64, grad_fn=<MulBackward0>)"
            ]
          },
          "metadata": {
            "tags": []
          },
          "execution_count": 10
        }
      ]
    },
    {
      "cell_type": "markdown",
      "metadata": {
        "id": "NqQvvf1DGdTu",
        "colab_type": "text"
      },
      "source": [
        "**Backward should be called only on a scalar (i.e. 1-element tensor) or with gradient w.r.t. the variable**\n",
        "- Let's reduce y to a scalar then..."
      ]
    },
    {
      "cell_type": "markdown",
      "metadata": {
        "id": "BVPNxHb6GdTv",
        "colab_type": "text"
      },
      "source": [
        "$$o = \\frac{1}{2}\\sum_i y_i$$"
      ]
    },
    {
      "cell_type": "code",
      "metadata": {
        "id": "3lwNPPVbGdTw",
        "colab_type": "code",
        "colab": {
          "base_uri": "https://localhost:8080/",
          "height": 34
        },
        "outputId": "e1c3faaa-d096-4ca8-bd89-6b8f42c4a2c3"
      },
      "source": [
        "o = (1/2) * torch.sum(y)\n",
        "o"
      ],
      "execution_count": 11,
      "outputs": [
        {
          "output_type": "execute_result",
          "data": {
            "text/plain": [
              "tensor(32.5000, dtype=torch.float64, grad_fn=<MulBackward0>)"
            ]
          },
          "metadata": {
            "tags": []
          },
          "execution_count": 11
        }
      ]
    },
    {
      "cell_type": "markdown",
      "metadata": {
        "id": "at3WouojGdT0",
        "colab_type": "text"
      },
      "source": [
        "<center> <b>Recap `y` equation</b>: $y_i = 5(x_i+1)^2$ </center>"
      ]
    },
    {
      "cell_type": "markdown",
      "metadata": {
        "id": "kIz6i3qqGdT1",
        "colab_type": "text"
      },
      "source": [
        "<center> <b>Recap `o` equation</b>: $o = \\frac{1}{2}\\sum_i y_i$ </center>"
      ]
    },
    {
      "cell_type": "markdown",
      "metadata": {
        "id": "J6ZdkyrnGdT2",
        "colab_type": "text"
      },
      "source": [
        "<center> <b>Substitute `y` into `o` equation</b>: $o = \\frac{1}{2} \\sum_i 5(x_i+1)^2$ </center>"
      ]
    },
    {
      "cell_type": "markdown",
      "metadata": {
        "id": "cXxIrd9jGdT3",
        "colab_type": "text"
      },
      "source": [
        "$$\\frac{\\partial o}{\\partial x_i} = \\frac{1}{2}[10(x_i+1)]$$"
      ]
    },
    {
      "cell_type": "markdown",
      "metadata": {
        "id": "MZrIu2cnGdT4",
        "colab_type": "text"
      },
      "source": [
        "$$\\frac{\\partial o}{\\partial x_i}\\bigr\\rvert_{x_i=1} = \\frac{1}{2}[10(1 + 1)] = \\frac{10}{2}(2) = 10$$"
      ]
    },
    {
      "cell_type": "code",
      "metadata": {
        "id": "a-wX9zKkGdT6",
        "colab_type": "code",
        "colab": {}
      },
      "source": [
        "o.backward()"
      ],
      "execution_count": 0,
      "outputs": []
    },
    {
      "cell_type": "code",
      "metadata": {
        "id": "-tw8RtH1GdT9",
        "colab_type": "code",
        "colab": {
          "base_uri": "https://localhost:8080/",
          "height": 34
        },
        "outputId": "5f2d1735-bd58-44bf-f121-b7cd50b9c769"
      },
      "source": [
        "x.grad"
      ],
      "execution_count": 13,
      "outputs": [
        {
          "output_type": "execute_result",
          "data": {
            "text/plain": [
              "tensor([10., 15.], dtype=torch.float64)"
            ]
          },
          "metadata": {
            "tags": []
          },
          "execution_count": 13
        }
      ]
    },
    {
      "cell_type": "code",
      "metadata": {
        "id": "7lcNoJHYGdUF",
        "colab_type": "code",
        "colab": {
          "base_uri": "https://localhost:8080/",
          "height": 34
        },
        "outputId": "28648e1a-a3d1-4bdd-c888-9335b335490d"
      },
      "source": [
        "x.requires_grad"
      ],
      "execution_count": 14,
      "outputs": [
        {
          "output_type": "execute_result",
          "data": {
            "text/plain": [
              "True"
            ]
          },
          "metadata": {
            "tags": []
          },
          "execution_count": 14
        }
      ]
    },
    {
      "cell_type": "code",
      "metadata": {
        "id": "8KOXvVZ7GdUJ",
        "colab_type": "code",
        "colab": {
          "base_uri": "https://localhost:8080/",
          "height": 34
        },
        "outputId": "98468090-dc88-4441-e515-8587a152af8b"
      },
      "source": [
        "y.requires_grad"
      ],
      "execution_count": 15,
      "outputs": [
        {
          "output_type": "execute_result",
          "data": {
            "text/plain": [
              "True"
            ]
          },
          "metadata": {
            "tags": []
          },
          "execution_count": 15
        }
      ]
    },
    {
      "cell_type": "code",
      "metadata": {
        "id": "Z15rNqA0GdUN",
        "colab_type": "code",
        "colab": {
          "base_uri": "https://localhost:8080/",
          "height": 34
        },
        "outputId": "b167f39e-eb9a-4dca-9d04-0b11a4dd1497"
      },
      "source": [
        "o.requires_grad"
      ],
      "execution_count": 16,
      "outputs": [
        {
          "output_type": "execute_result",
          "data": {
            "text/plain": [
              "True"
            ]
          },
          "metadata": {
            "tags": []
          },
          "execution_count": 16
        }
      ]
    },
    {
      "cell_type": "markdown",
      "metadata": {
        "id": "kjgLE9D7GdUS",
        "colab_type": "text"
      },
      "source": [
        "---\n",
        "# Summary\n",
        "- Tensor with Gradients\n",
        "    - Wraps a tensor for gradient accumulation\n",
        "- Gradients\n",
        "    - Define original equation\n",
        "    - Substitute equation with `x` values\n",
        "    - Reduce to scalar output, `o` through `mean`\n",
        "    - Calculate gradients with `o.backward()`\n",
        "    - Then access gradients of the `x` variable through `x.grad`"
      ]
    }
  ]
}