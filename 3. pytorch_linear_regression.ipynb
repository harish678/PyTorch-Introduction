{
  "nbformat": 4,
  "nbformat_minor": 0,
  "metadata": {
    "anaconda-cloud": {},
    "kernelspec": {
      "display_name": "Python 3",
      "language": "python",
      "name": "python3"
    },
    "language_info": {
      "codemirror_mode": {
        "name": "ipython",
        "version": 3
      },
      "file_extension": ".py",
      "mimetype": "text/x-python",
      "name": "python",
      "nbconvert_exporter": "python",
      "pygments_lexer": "ipython3",
      "version": "3.5.5"
    },
    "colab": {
      "name": "pytorch_linear_regression.ipynb",
      "provenance": []
    }
  },
  "cells": [
    {
      "cell_type": "markdown",
      "metadata": {
        "id": "jN4zsoeFNMAF",
        "colab_type": "text"
      },
      "source": [
        "\n",
        "# Linear Regression with PyTorch\n",
        "## 1. About Linear Regression\n"
      ]
    },
    {
      "cell_type": "markdown",
      "metadata": {
        "id": "_JC-ijthNMAJ",
        "colab_type": "text"
      },
      "source": [
        "### 1.1 Simple Linear Regression Basics\n",
        "- Allows us to understand **relationship** between two **continuous variables**\n",
        "- Example\n",
        "    - x: independent variable\n",
        "        - weight\n",
        "    - y: dependent variable\n",
        "        - height\n",
        "- $y = \\alpha x + \\beta$"
      ]
    },
    {
      "cell_type": "markdown",
      "metadata": {
        "id": "Zbj4ta7HNMAK",
        "colab_type": "text"
      },
      "source": [
        "### 1.2 Example of simple linear regression"
      ]
    },
    {
      "cell_type": "code",
      "metadata": {
        "id": "qyt79iuWNMAM",
        "colab_type": "code",
        "colab": {
          "base_uri": "https://localhost:8080/",
          "height": 265
        },
        "outputId": "528f1158-5bad-4e7e-f3f3-57a013ec454a"
      },
      "source": [
        "import numpy as np\n",
        "import matplotlib.pyplot as plt\n",
        "%matplotlib inline\n",
        "\n",
        "np.random.seed(1)\n",
        "n = 50\n",
        "x = np.random.randn(n)\n",
        "y = x * np.random.randn(n)\n",
        "\n",
        "colors = np.random.rand(n)\n",
        "plt.plot(np.unique(x), np.poly1d(np.polyfit(x, y, 1))(np.unique(x)))\n",
        "\n",
        "plt.scatter(x, y, c=colors, alpha=0.5)\n",
        "plt.show()"
      ],
      "execution_count": 1,
      "outputs": [
        {
          "output_type": "display_data",
          "data": {
            "image/png": "[encoded data removed]",
            "text/plain": [
              "<Figure size 432x288 with 1 Axes>"
            ]
          },
          "metadata": {
            "tags": []
          }
        }
      ]
    },
    {
      "cell_type": "markdown",
      "metadata": {
        "id": "2dmTztAUNMAT",
        "colab_type": "text"
      },
      "source": [
        "### 1.3 Aim of Linear Regression\n",
        "- Minimize the distance between the points and the line ($y = \\alpha x + \\beta$)\n",
        "- Adjusting\n",
        "    - Coefficient: $\\alpha$\n",
        "    - Bias/intercept: $\\beta$\n",
        "\n",
        "## 2. Building a Linear Regression Model with PyTorch\n",
        "\n",
        "### 2.1 Example\n",
        "- Coefficient: $\\alpha = 2$\n",
        "- Bias/intercept: $\\beta = 1$\n",
        "- Equation: $y = 2x + 1$"
      ]
    },
    {
      "cell_type": "markdown",
      "metadata": {
        "id": "DfzGdrIGNMAU",
        "colab_type": "text"
      },
      "source": [
        "### 2.2 Building a Toy Dataset"
      ]
    },
    {
      "cell_type": "code",
      "metadata": {
        "id": "Mf_emJSVNMAV",
        "colab_type": "code",
        "colab": {
          "base_uri": "https://localhost:8080/",
          "height": 34
        },
        "outputId": "a0fe6f08-9d6d-4be7-bcd1-6c9995c99eb8"
      },
      "source": [
        "x_values = [i for i in range(11)]\n",
        "x_values"
      ],
      "execution_count": 2,
      "outputs": [
        {
          "output_type": "execute_result",
          "data": {
            "text/plain": [
              "[0, 1, 2, 3, 4, 5, 6, 7, 8, 9, 10]"
            ]
          },
          "metadata": {
            "tags": []
          },
          "execution_count": 2
        }
      ]
    },
    {
      "cell_type": "code",
      "metadata": {
        "id": "7A3Hr1o7NMAd",
        "colab_type": "code",
        "colab": {
          "base_uri": "https://localhost:8080/",
          "height": 34
        },
        "outputId": "a1030c05-c722-43ae-83f2-6aee564b6e0c"
      },
      "source": [
        "# Convert to numpy\n",
        "x_train = np.array(x_values, dtype=np.float32)\n",
        "x_train.shape"
      ],
      "execution_count": 3,
      "outputs": [
        {
          "output_type": "execute_result",
          "data": {
            "text/plain": [
              "(11,)"
            ]
          },
          "metadata": {
            "tags": []
          },
          "execution_count": 3
        }
      ]
    },
    {
      "cell_type": "code",
      "metadata": {
        "id": "WPguWBShNMAi",
        "colab_type": "code",
        "colab": {
          "base_uri": "https://localhost:8080/",
          "height": 34
        },
        "outputId": "58fa8577-6c20-4087-8c1d-437b4e2b992f"
      },
      "source": [
        "# IMPORTANT: 2D required\n",
        "x_train = x_train.reshape(-1, 1)\n",
        "x_train.shape"
      ],
      "execution_count": 4,
      "outputs": [
        {
          "output_type": "execute_result",
          "data": {
            "text/plain": [
              "(11, 1)"
            ]
          },
          "metadata": {
            "tags": []
          },
          "execution_count": 4
        }
      ]
    },
    {
      "cell_type": "markdown",
      "metadata": {
        "id": "GQYhWNayNMAl",
        "colab_type": "text"
      },
      "source": [
        "$y = 2x + 1$"
      ]
    },
    {
      "cell_type": "code",
      "metadata": {
        "id": "d2ItFzRcNMAn",
        "colab_type": "code",
        "colab": {
          "base_uri": "https://localhost:8080/",
          "height": 34
        },
        "outputId": "fd9d4a4a-1268-4978-d674-47e98c8827ea"
      },
      "source": [
        "y_values = [2*i + 1 for i in x_values]\n",
        "y_values"
      ],
      "execution_count": 5,
      "outputs": [
        {
          "output_type": "execute_result",
          "data": {
            "text/plain": [
              "[1, 3, 5, 7, 9, 11, 13, 15, 17, 19, 21]"
            ]
          },
          "metadata": {
            "tags": []
          },
          "execution_count": 5
        }
      ]
    },
    {
      "cell_type": "code",
      "metadata": {
        "id": "_RGdTk3qNMA1",
        "colab_type": "code",
        "colab": {
          "base_uri": "https://localhost:8080/",
          "height": 34
        },
        "outputId": "ff23947f-17c7-4b3c-9cf8-050904f068a1"
      },
      "source": [
        "y_train = np.array(y_values, dtype=np.float32)\n",
        "y_train.shape"
      ],
      "execution_count": 6,
      "outputs": [
        {
          "output_type": "execute_result",
          "data": {
            "text/plain": [
              "(11,)"
            ]
          },
          "metadata": {
            "tags": []
          },
          "execution_count": 6
        }
      ]
    },
    {
      "cell_type": "code",
      "metadata": {
        "id": "iTcK31BxNMA4",
        "colab_type": "code",
        "colab": {
          "base_uri": "https://localhost:8080/",
          "height": 34
        },
        "outputId": "b0c084df-6c08-416f-f26e-2ee5605a964a"
      },
      "source": [
        "# IMPORTANT: 2D required\n",
        "y_train = y_train.reshape(-1, 1)\n",
        "y_train.shape"
      ],
      "execution_count": 7,
      "outputs": [
        {
          "output_type": "execute_result",
          "data": {
            "text/plain": [
              "(11, 1)"
            ]
          },
          "metadata": {
            "tags": []
          },
          "execution_count": 7
        }
      ]
    },
    {
      "cell_type": "markdown",
      "metadata": {
        "id": "Xv3DzHSPNMA-",
        "colab_type": "text"
      },
      "source": [
        "### 2.3 Building Model"
      ]
    },
    {
      "cell_type": "markdown",
      "metadata": {
        "id": "nbRO-KY_NMA_",
        "colab_type": "text"
      },
      "source": [
        "**Critical Imports**"
      ]
    },
    {
      "cell_type": "code",
      "metadata": {
        "id": "OVnH0rKSNMBA",
        "colab_type": "code",
        "colab": {}
      },
      "source": [
        "import torch\n",
        "import torch.nn as nn"
      ],
      "execution_count": 0,
      "outputs": []
    },
    {
      "cell_type": "markdown",
      "metadata": {
        "id": "wMmllVG3NMBE",
        "colab_type": "text"
      },
      "source": [
        "**Create Model**\n",
        "1. Linear model\n",
        "    - True Equation: $y = 2x + 1$\n",
        "2. Forward\n",
        "    - Example\n",
        "        - Input $x = 1 $\n",
        "        - Output $\\hat y = ?$"
      ]
    },
    {
      "cell_type": "code",
      "metadata": {
        "id": "qNMx69XQNMBF",
        "colab_type": "code",
        "colab": {}
      },
      "source": [
        "# Create class\n",
        "class LinearRegressionModel(nn.Module):\n",
        "    def __init__(self, input_dim, output_dim):\n",
        "        super(LinearRegressionModel, self).__init__()\n",
        "        self.linear = nn.Linear(input_dim, output_dim)  \n",
        "    \n",
        "    def forward(self, x):\n",
        "        out = self.linear(x)\n",
        "        return out"
      ],
      "execution_count": 0,
      "outputs": []
    },
    {
      "cell_type": "markdown",
      "metadata": {
        "id": "LgXHO3aVNMBL",
        "colab_type": "text"
      },
      "source": [
        "**Instantiate Model Class**\n",
        "- input: [0, 1, 2, 3, 4, 5, 6, 7, 8, 9, 10]\n",
        "- desired output: [1, 3, 5, 7, 9, 11, 13, 15, 17, 19, 21]"
      ]
    },
    {
      "cell_type": "code",
      "metadata": {
        "id": "xCWjRgB2NMBM",
        "colab_type": "code",
        "colab": {}
      },
      "source": [
        "input_dim = 1\n",
        "output_dim = 1\n",
        "\n",
        "model = LinearRegressionModel(input_dim, output_dim)"
      ],
      "execution_count": 0,
      "outputs": []
    },
    {
      "cell_type": "markdown",
      "metadata": {
        "id": "4ETO48zUNMBQ",
        "colab_type": "text"
      },
      "source": [
        "**Instantiate Loss Class**\n",
        "- MSE Loss: Mean Squared Error\n",
        "- $MSE = \\frac{1}{n} \\sum_{i=1}^n(\\hat y_i - y_i)$\n",
        "    - $\\hat y$: prediction\n",
        "    - $y$: true value"
      ]
    },
    {
      "cell_type": "code",
      "metadata": {
        "id": "glXMiw1SNMBR",
        "colab_type": "code",
        "colab": {}
      },
      "source": [
        "criterion = nn.MSELoss()"
      ],
      "execution_count": 0,
      "outputs": []
    },
    {
      "cell_type": "markdown",
      "metadata": {
        "id": "3SP3RFxONMBU",
        "colab_type": "text"
      },
      "source": [
        "**Instantiate Optimizer Class**\n",
        "- Simplified equation\n",
        "    - $\\theta = \\theta - \\eta \\cdot \\nabla_\\theta $\n",
        "        - $\\theta$: parameters (our variables)\n",
        "        - $\\eta$: learning rate (how fast we want to learn)\n",
        "        - $\\nabla_\\theta$: parameters' gradients\n",
        "- Even simplier equation\n",
        "    - `parameters = parameters - learning_rate * parameters_gradients`\n",
        "        - parameters: $\\alpha$ and $\\beta$ in $ y = \\alpha x + \\beta$\n",
        "        - desired parameters: $\\alpha = 2$ and $\\beta = 1$ in $ y = 2x + 1$"
      ]
    },
    {
      "cell_type": "code",
      "metadata": {
        "id": "JFEkaHdENMBV",
        "colab_type": "code",
        "colab": {}
      },
      "source": [
        "learning_rate = 0.01\n",
        "\n",
        "optimizer = torch.optim.SGD(model.parameters(), lr=learning_rate)"
      ],
      "execution_count": 0,
      "outputs": []
    },
    {
      "cell_type": "markdown",
      "metadata": {
        "id": "_yO_qx4ENMBZ",
        "colab_type": "text"
      },
      "source": [
        "**Train Model**\n",
        "- 1 epoch: going through the whole x_train data once\n",
        "    - 100 epochs: \n",
        "        - 100x mapping `x_train = [0, 1, 2, 3, 4, 5, 6, 7, 8, 9, 10]`\n",
        "        \n",
        "- Process \n",
        "    1. Convert inputs/labels to tensors with gradients\n",
        "    2. Clear gradient buffets\n",
        "    3. Get output given inputs \n",
        "    4. Get loss\n",
        "    5. Get gradients w.r.t. parameters\n",
        "    6. Update parameters using gradients\n",
        "        - `parameters = parameters - learning_rate * parameters_gradients`\n",
        "    7. REPEAT"
      ]
    },
    {
      "cell_type": "code",
      "metadata": {
        "id": "sLQeKucONMBa",
        "colab_type": "code",
        "colab": {}
      },
      "source": [
        "epochs = 100"
      ],
      "execution_count": 0,
      "outputs": []
    },
    {
      "cell_type": "code",
      "metadata": {
        "scrolled": true,
        "id": "AMEuGMa5NMBk",
        "colab_type": "code",
        "colab": {
          "base_uri": "https://localhost:8080/",
          "height": 1000
        },
        "outputId": "d1e7bc65-3973-456b-db8d-c4e381b7d544"
      },
      "source": [
        "for epoch in range(epochs):\n",
        "    epoch += 1\n",
        "    # Convert numpy array to torch Variable\n",
        "    inputs = torch.from_numpy(x_train).requires_grad_()\n",
        "    labels = torch.from_numpy(y_train)\n",
        "\n",
        "    # Clear gradients w.r.t. parameters\n",
        "    optimizer.zero_grad() \n",
        "    \n",
        "    # Forward to get output\n",
        "    outputs = model(inputs)\n",
        "    \n",
        "    # Calculate Loss\n",
        "    loss = criterion(outputs, labels)\n",
        "    \n",
        "    # Getting gradients w.r.t. parameters\n",
        "    loss.backward()\n",
        "    \n",
        "    # Updating parameters\n",
        "    optimizer.step()\n",
        "    \n",
        "    print('epoch {}, loss {}'.format(epoch, loss.item()))"
      ],
      "execution_count": 14,
      "outputs": [
        {
          "output_type": "stream",
          "text": [
            "epoch 1, loss 111.84110260009766\n",
            "epoch 2, loss 9.128509521484375\n",
            "epoch 3, loss 0.7504992485046387\n",
            "epoch 4, loss 0.06706570088863373\n",
            "epoch 5, loss 0.01125488430261612\n",
            "epoch 6, loss 0.006637908052653074\n",
            "epoch 7, loss 0.006197448819875717\n",
            "epoch 8, loss 0.006098343525081873\n",
            "epoch 9, loss 0.006027775350958109\n",
            "epoch 10, loss 0.005960265174508095\n",
            "epoch 11, loss 0.005893712863326073\n",
            "epoch 12, loss 0.005827887449413538\n",
            "epoch 13, loss 0.005762794520705938\n",
            "epoch 14, loss 0.005698444787412882\n",
            "epoch 15, loss 0.00563481030985713\n",
            "epoch 16, loss 0.0055719041265547276\n",
            "epoch 17, loss 0.005509680602699518\n",
            "epoch 18, loss 0.0054481602273881435\n",
            "epoch 19, loss 0.00538730900734663\n",
            "epoch 20, loss 0.005327157210558653\n",
            "epoch 21, loss 0.005267664324492216\n",
            "epoch 22, loss 0.0052088117226958275\n",
            "epoch 23, loss 0.0051506757736206055\n",
            "epoch 24, loss 0.005093161948025227\n",
            "epoch 25, loss 0.005036287009716034\n",
            "epoch 26, loss 0.004979999270290136\n",
            "epoch 27, loss 0.00492442911490798\n",
            "epoch 28, loss 0.00486941821873188\n",
            "epoch 29, loss 0.004815090913325548\n",
            "epoch 30, loss 0.004761321470141411\n",
            "epoch 31, loss 0.004708117339760065\n",
            "epoch 32, loss 0.004655530676245689\n",
            "epoch 33, loss 0.0046035489067435265\n",
            "epoch 34, loss 0.004552181344479322\n",
            "epoch 35, loss 0.004501312971115112\n",
            "epoch 36, loss 0.004451073240488768\n",
            "epoch 37, loss 0.004401332698762417\n",
            "epoch 38, loss 0.004352203104645014\n",
            "epoch 39, loss 0.0043035936541855335\n",
            "epoch 40, loss 0.004255552310496569\n",
            "epoch 41, loss 0.004208007361739874\n",
            "epoch 42, loss 0.004161038435995579\n",
            "epoch 43, loss 0.004114553797990084\n",
            "epoch 44, loss 0.004068625159561634\n",
            "epoch 45, loss 0.0040231808088719845\n",
            "epoch 46, loss 0.003978246822953224\n",
            "epoch 47, loss 0.003933847416192293\n",
            "epoch 48, loss 0.0038899078499525785\n",
            "epoch 49, loss 0.003846497507765889\n",
            "epoch 50, loss 0.003803509520366788\n",
            "epoch 51, loss 0.003761048661544919\n",
            "epoch 52, loss 0.0037190625444054604\n",
            "epoch 53, loss 0.003677481785416603\n",
            "epoch 54, loss 0.003636429086327553\n",
            "epoch 55, loss 0.0035958532243967056\n",
            "epoch 56, loss 0.0035556734073907137\n",
            "epoch 57, loss 0.003515956224873662\n",
            "epoch 58, loss 0.003476708196103573\n",
            "epoch 59, loss 0.0034379027783870697\n",
            "epoch 60, loss 0.003399503882974386\n",
            "epoch 61, loss 0.0033615475986152887\n",
            "epoch 62, loss 0.003323987126350403\n",
            "epoch 63, loss 0.0032868837006390095\n",
            "epoch 64, loss 0.0032501679379493\n",
            "epoch 65, loss 0.003213874762877822\n",
            "epoch 66, loss 0.003177979961037636\n",
            "epoch 67, loss 0.0031425112392753363\n",
            "epoch 68, loss 0.0031074238941073418\n",
            "epoch 69, loss 0.003072718158364296\n",
            "epoch 70, loss 0.0030384010169655085\n",
            "epoch 71, loss 0.0030044815503060818\n",
            "epoch 72, loss 0.0029709218069911003\n",
            "epoch 73, loss 0.0029377478640526533\n",
            "epoch 74, loss 0.0029049369040876627\n",
            "epoch 75, loss 0.0028725212905555964\n",
            "epoch 76, loss 0.0028404344338923693\n",
            "epoch 77, loss 0.002808723133057356\n",
            "epoch 78, loss 0.002777354558929801\n",
            "epoch 79, loss 0.0027463326696306467\n",
            "epoch 80, loss 0.0027156479191035032\n",
            "epoch 81, loss 0.0026853259187191725\n",
            "epoch 82, loss 0.002655354095622897\n",
            "epoch 83, loss 0.0026257100980728865\n",
            "epoch 84, loss 0.002596386708319187\n",
            "epoch 85, loss 0.0025673815980553627\n",
            "epoch 86, loss 0.0025387124624103308\n",
            "epoch 87, loss 0.002510365331545472\n",
            "epoch 88, loss 0.002482330659404397\n",
            "epoch 89, loss 0.002454612636938691\n",
            "epoch 90, loss 0.0024272212758660316\n",
            "epoch 91, loss 0.0024001088459044695\n",
            "epoch 92, loss 0.002373301424086094\n",
            "epoch 93, loss 0.002346797613427043\n",
            "epoch 94, loss 0.0023206055629998446\n",
            "epoch 95, loss 0.0022946782410144806\n",
            "epoch 96, loss 0.0022690431214869022\n",
            "epoch 97, loss 0.0022437009029090405\n",
            "epoch 98, loss 0.0022186627611517906\n",
            "epoch 99, loss 0.00219389284029603\n",
            "epoch 100, loss 0.0021693732123821974\n"
          ],
          "name": "stdout"
        }
      ]
    },
    {
      "cell_type": "markdown",
      "metadata": {
        "id": "Bn-5Ld25NMBo",
        "colab_type": "text"
      },
      "source": [
        "**Compare Data**"
      ]
    },
    {
      "cell_type": "code",
      "metadata": {
        "id": "UUbEQM2bNMBp",
        "colab_type": "code",
        "colab": {
          "base_uri": "https://localhost:8080/",
          "height": 204
        },
        "outputId": "2a527ea4-19f6-4205-c7e8-a0726efccde8"
      },
      "source": [
        "# Purely inference\n",
        "predicted = model(torch.from_numpy(x_train).requires_grad_()).data.numpy()\n",
        "predicted"
      ],
      "execution_count": 15,
      "outputs": [
        {
          "output_type": "execute_result",
          "data": {
            "text/plain": [
              "array([[ 0.9133581],\n",
              "       [ 2.9258351],\n",
              "       [ 4.9383125],\n",
              "       [ 6.95079  ],\n",
              "       [ 8.963266 ],\n",
              "       [10.975743 ],\n",
              "       [12.988221 ],\n",
              "       [15.000698 ],\n",
              "       [17.013176 ],\n",
              "       [19.025654 ],\n",
              "       [21.03813  ]], dtype=float32)"
            ]
          },
          "metadata": {
            "tags": []
          },
          "execution_count": 15
        }
      ]
    },
    {
      "cell_type": "code",
      "metadata": {
        "id": "hY25ffqtNMBs",
        "colab_type": "code",
        "colab": {
          "base_uri": "https://localhost:8080/",
          "height": 204
        },
        "outputId": "cd0989ed-0e82-41c8-d071-bc349f3ced99"
      },
      "source": [
        "# y = 2x + 1 \n",
        "y_train"
      ],
      "execution_count": 16,
      "outputs": [
        {
          "output_type": "execute_result",
          "data": {
            "text/plain": [
              "array([[ 1.],\n",
              "       [ 3.],\n",
              "       [ 5.],\n",
              "       [ 7.],\n",
              "       [ 9.],\n",
              "       [11.],\n",
              "       [13.],\n",
              "       [15.],\n",
              "       [17.],\n",
              "       [19.],\n",
              "       [21.]], dtype=float32)"
            ]
          },
          "metadata": {
            "tags": []
          },
          "execution_count": 16
        }
      ]
    },
    {
      "cell_type": "markdown",
      "metadata": {
        "id": "ZZQClA8JNMBv",
        "colab_type": "text"
      },
      "source": [
        "**Plot Graph**"
      ]
    },
    {
      "cell_type": "code",
      "metadata": {
        "id": "vuHmV7ZVNMBw",
        "colab_type": "code",
        "colab": {
          "base_uri": "https://localhost:8080/",
          "height": 265
        },
        "outputId": "3fdd9908-81c0-4b02-bce4-1868a3185daf"
      },
      "source": [
        "# Clear figure\n",
        "plt.clf()\n",
        "\n",
        "# Get predictions\n",
        "predicted = model(torch.from_numpy(x_train).requires_grad_()).data.numpy()\n",
        "\n",
        "# Plot true data\n",
        "plt.plot(x_train, y_train, 'go', label='True data', alpha=0.5)\n",
        "\n",
        "# Plot predictions\n",
        "plt.plot(x_train, predicted, '--', label='Predictions', alpha=0.5)\n",
        "\n",
        "# Legend and plot\n",
        "plt.legend(loc='best')\n",
        "plt.show()"
      ],
      "execution_count": 17,
      "outputs": [
        {
          "output_type": "display_data",
          "data": {
            "image/png": "[encoded data removed]",
            "text/plain": [
              "<Figure size 432x288 with 1 Axes>"
            ]
          },
          "metadata": {
            "tags": []
          }
        }
      ]
    },
    {
      "cell_type": "markdown",
      "metadata": {
        "id": "DlaNyJpUNMBz",
        "colab_type": "text"
      },
      "source": [
        "**Save Model**"
      ]
    },
    {
      "cell_type": "code",
      "metadata": {
        "id": "qSaTJebeNMB0",
        "colab_type": "code",
        "colab": {}
      },
      "source": [
        "save_model = False\n",
        "if save_model is True:\n",
        "    # Saves only parameters\n",
        "    # alpha & beta\n",
        "    torch.save(model.state_dict(), 'awesome_model.pkl')"
      ],
      "execution_count": 0,
      "outputs": []
    },
    {
      "cell_type": "markdown",
      "metadata": {
        "id": "uzAo5_b3NMB4",
        "colab_type": "text"
      },
      "source": [
        "**Load Model**"
      ]
    },
    {
      "cell_type": "code",
      "metadata": {
        "id": "bHJOCnTMNMB5",
        "colab_type": "code",
        "colab": {}
      },
      "source": [
        "load_model = False\n",
        "if load_model is True:\n",
        "    model.load_state_dict(torch.load('awesome_model.pkl'))"
      ],
      "execution_count": 0,
      "outputs": []
    },
    {
      "cell_type": "markdown",
      "metadata": {
        "id": "0vOg4WXINMB9",
        "colab_type": "text"
      },
      "source": [
        "## 3. Building a Linear Regression Model with PyTorch (GPU)\n",
        "\n"
      ]
    },
    {
      "cell_type": "markdown",
      "metadata": {
        "id": "3iQKDcgZNMB-",
        "colab_type": "text"
      },
      "source": [
        "**CPU Summary**"
      ]
    },
    {
      "cell_type": "code",
      "metadata": {
        "id": "WAJgqkavNMB_",
        "colab_type": "code",
        "colab": {}
      },
      "source": [
        "import torch\n",
        "import torch.nn as nn\n",
        "\n",
        "'''\n",
        "STEP 1: CREATE MODEL CLASS\n",
        "'''\n",
        "class LinearRegressionModel(nn.Module):\n",
        "    def __init__(self, input_dim, output_dim):\n",
        "        super(LinearRegressionModel, self).__init__()\n",
        "        self.linear = nn.Linear(input_dim, output_dim)  \n",
        "    \n",
        "    def forward(self, x):\n",
        "        out = self.linear(x)\n",
        "        return out\n",
        "\n",
        "'''\n",
        "STEP 2: INSTANTIATE MODEL CLASS\n",
        "'''\n",
        "input_dim = 1\n",
        "output_dim = 1\n",
        "\n",
        "model = LinearRegressionModel(input_dim, output_dim)\n",
        "\n",
        "'''\n",
        "STEP 3: INSTANTIATE LOSS CLASS\n",
        "'''\n",
        "\n",
        "criterion = nn.MSELoss()\n",
        "\n",
        "'''\n",
        "STEP 4: INSTANTIATE OPTIMIZER CLASS\n",
        "'''\n",
        "\n",
        "learning_rate = 0.01\n",
        "\n",
        "optimizer = torch.optim.SGD(model.parameters(), lr=learning_rate)\n",
        "\n",
        "'''\n",
        "STEP 5: TRAIN THE MODEL\n",
        "'''\n",
        "epochs = 100\n",
        "for epoch in range(epochs):\n",
        "    epoch += 1\n",
        "    # Convert numpy array to torch Variable\n",
        "    inputs = torch.from_numpy(x_train).requires_grad_()\n",
        "    labels = torch.from_numpy(y_train)\n",
        "\n",
        "    # Clear gradients w.r.t. parameters\n",
        "    optimizer.zero_grad() \n",
        "    \n",
        "    # Forward to get output\n",
        "    outputs = model(inputs)\n",
        "    \n",
        "    # Calculate Loss\n",
        "    loss = criterion(outputs, labels)\n",
        "    \n",
        "    # Getting gradients w.r.t. parameters\n",
        "    loss.backward()\n",
        "    \n",
        "    # Updating parameters\n",
        "    optimizer.step()"
      ],
      "execution_count": 0,
      "outputs": []
    },
    {
      "cell_type": "markdown",
      "metadata": {
        "id": "RvJ_Bw-sNMCD",
        "colab_type": "text"
      },
      "source": [
        "GPU: 2 things must be on GPU\n",
        "- `model`\n",
        "- `tensors with gradients`"
      ]
    },
    {
      "cell_type": "code",
      "metadata": {
        "id": "LVrYmmbbNMCE",
        "colab_type": "code",
        "colab": {
          "base_uri": "https://localhost:8080/",
          "height": 1000
        },
        "outputId": "992f64fd-83a6-4b58-d438-0c98a72e684d"
      },
      "source": [
        "import torch\n",
        "import torch.nn as nn\n",
        "import numpy as np\n",
        "\n",
        "'''\n",
        "STEP 1: CREATE MODEL CLASS\n",
        "'''\n",
        "class LinearRegressionModel(nn.Module):\n",
        "    def __init__(self, input_dim, output_dim):\n",
        "        super(LinearRegressionModel, self).__init__()\n",
        "        self.linear = nn.Linear(input_dim, output_dim)  \n",
        "    \n",
        "    def forward(self, x):\n",
        "        out = self.linear(x)\n",
        "        return out\n",
        "\n",
        "'''\n",
        "STEP 2: INSTANTIATE MODEL CLASS\n",
        "'''\n",
        "input_dim = 1\n",
        "output_dim = 1\n",
        "\n",
        "model = LinearRegressionModel(input_dim, output_dim)\n",
        "\n",
        "\n",
        "#######################\n",
        "#  USE GPU FOR MODEL  #\n",
        "#######################\n",
        "\n",
        "device = torch.device(\"cuda:0\" if torch.cuda.is_available() else \"cpu\")  # check if we have cpu or gpu\n",
        "model.to(device)\n",
        "\n",
        "'''\n",
        "STEP 3: INSTANTIATE LOSS CLASS\n",
        "'''\n",
        "\n",
        "criterion = nn.MSELoss()\n",
        "\n",
        "'''\n",
        "STEP 4: INSTANTIATE OPTIMIZER CLASS\n",
        "'''\n",
        "\n",
        "learning_rate = 0.01\n",
        "\n",
        "optimizer = torch.optim.SGD(model.parameters(), lr=learning_rate)\n",
        "\n",
        "'''\n",
        "STEP 5: TRAIN THE MODEL\n",
        "'''\n",
        "epochs = 100\n",
        "for epoch in range(epochs):\n",
        "    epoch += 1\n",
        "    \n",
        "    #######################\n",
        "    #  USE GPU FOR MODEL  #\n",
        "    #######################\n",
        "    inputs = torch.from_numpy(x_train).to(device)\n",
        "    labels = torch.from_numpy(y_train).to(device)\n",
        "    \n",
        "    # Clear gradients w.r.t. parameters\n",
        "    optimizer.zero_grad() \n",
        "    \n",
        "    # Forward to get output\n",
        "    outputs = model(inputs)\n",
        "    \n",
        "    # Calculate Loss\n",
        "    loss = criterion(outputs, labels)\n",
        "    \n",
        "    # Getting gradients w.r.t. parameters\n",
        "    loss.backward()\n",
        "    \n",
        "    # Updating parameters\n",
        "    optimizer.step()\n",
        "    \n",
        "    # Logging\n",
        "    print('epoch {}, loss {}'.format(epoch, loss.item()))"
      ],
      "execution_count": 21,
      "outputs": [
        {
          "output_type": "stream",
          "text": [
            "epoch 1, loss 264.71337890625\n",
            "epoch 2, loss 21.59242820739746\n",
            "epoch 3, loss 1.7618062496185303\n",
            "epoch 4, loss 0.1442802995443344\n",
            "epoch 5, loss 0.012337516993284225\n",
            "epoch 6, loss 0.0015689523424953222\n",
            "epoch 7, loss 0.0006843228475190699\n",
            "epoch 8, loss 0.000605940236710012\n",
            "epoch 9, loss 0.0005934059736318886\n",
            "epoch 10, loss 0.0005863124970346689\n",
            "epoch 11, loss 0.0005797212943434715\n",
            "epoch 12, loss 0.0005732451681979001\n",
            "epoch 13, loss 0.0005668388912454247\n",
            "epoch 14, loss 0.0005605165497399867\n",
            "epoch 15, loss 0.0005542627186514437\n",
            "epoch 16, loss 0.0005480669206008315\n",
            "epoch 17, loss 0.0005419516819529235\n",
            "epoch 18, loss 0.0005359028000384569\n",
            "epoch 19, loss 0.0005299148615449667\n",
            "epoch 20, loss 0.0005239908932708204\n",
            "epoch 21, loss 0.0005181479500606656\n",
            "epoch 22, loss 0.0005123556475155056\n",
            "epoch 23, loss 0.0005066324374638498\n",
            "epoch 24, loss 0.0005009775632061064\n",
            "epoch 25, loss 0.0004953844472765923\n",
            "epoch 26, loss 0.0004898490733467042\n",
            "epoch 27, loss 0.0004843841015826911\n",
            "epoch 28, loss 0.0004789672966580838\n",
            "epoch 29, loss 0.0004736288683488965\n",
            "epoch 30, loss 0.00046832935186102986\n",
            "epoch 31, loss 0.0004631023621186614\n",
            "epoch 32, loss 0.00045792918535880744\n",
            "epoch 33, loss 0.00045282766222953796\n",
            "epoch 34, loss 0.00044776106369681656\n",
            "epoch 35, loss 0.0004427614330779761\n",
            "epoch 36, loss 0.000437812355812639\n",
            "epoch 37, loss 0.00043293103226460516\n",
            "epoch 38, loss 0.00042808838770724833\n",
            "epoch 39, loss 0.00042330636642873287\n",
            "epoch 40, loss 0.000418583833379671\n",
            "epoch 41, loss 0.00041390443220734596\n",
            "epoch 42, loss 0.0004092860617674887\n",
            "epoch 43, loss 0.0004047141701448709\n",
            "epoch 44, loss 0.00040019903099164367\n",
            "epoch 45, loss 0.0003957296721637249\n",
            "epoch 46, loss 0.0003913056571036577\n",
            "epoch 47, loss 0.0003869319334626198\n",
            "epoch 48, loss 0.00038262121961452067\n",
            "epoch 49, loss 0.00037833844544366\n",
            "epoch 50, loss 0.0003741254040505737\n",
            "epoch 51, loss 0.00036994245601817966\n",
            "epoch 52, loss 0.0003658169589471072\n",
            "epoch 53, loss 0.00036173086846247315\n",
            "epoch 54, loss 0.00035768552334047854\n",
            "epoch 55, loss 0.0003536896256264299\n",
            "epoch 56, loss 0.0003497443103697151\n",
            "epoch 57, loss 0.00034583848901093006\n",
            "epoch 58, loss 0.00034197894274257123\n",
            "epoch 59, loss 0.0003381529822945595\n",
            "epoch 60, loss 0.0003343852295074612\n",
            "epoch 61, loss 0.0003306417493149638\n",
            "epoch 62, loss 0.0003269558947067708\n",
            "epoch 63, loss 0.00032329984242096543\n",
            "epoch 64, loss 0.00031969184055924416\n",
            "epoch 65, loss 0.00031611978192813694\n",
            "epoch 66, loss 0.000312596297590062\n",
            "epoch 67, loss 0.0003091043618042022\n",
            "epoch 68, loss 0.0003056430723518133\n",
            "epoch 69, loss 0.0003022327146027237\n",
            "epoch 70, loss 0.000298860773909837\n",
            "epoch 71, loss 0.00029552262276411057\n",
            "epoch 72, loss 0.00029222367447800934\n",
            "epoch 73, loss 0.00028895633295178413\n",
            "epoch 74, loss 0.0002857277577277273\n",
            "epoch 75, loss 0.00028253960772417486\n",
            "epoch 76, loss 0.0002793845487758517\n",
            "epoch 77, loss 0.0002762613003142178\n",
            "epoch 78, loss 0.0002731842396315187\n",
            "epoch 79, loss 0.0002701283083297312\n",
            "epoch 80, loss 0.0002671212423592806\n",
            "epoch 81, loss 0.0002641294850036502\n",
            "epoch 82, loss 0.00026118746609427035\n",
            "epoch 83, loss 0.00025826183264143765\n",
            "epoch 84, loss 0.00025538518093526363\n",
            "epoch 85, loss 0.0002525276504456997\n",
            "epoch 86, loss 0.0002497122040949762\n",
            "epoch 87, loss 0.00024692085571587086\n",
            "epoch 88, loss 0.00024417194072157145\n",
            "epoch 89, loss 0.00024143372138496488\n",
            "epoch 90, loss 0.00023874655016697943\n",
            "epoch 91, loss 0.00023607874754816294\n",
            "epoch 92, loss 0.0002334352320758626\n",
            "epoch 93, loss 0.00023083447013050318\n",
            "epoch 94, loss 0.00022825281484983861\n",
            "epoch 95, loss 0.00022570240253116935\n",
            "epoch 96, loss 0.0002231885737273842\n",
            "epoch 97, loss 0.000220695132156834\n",
            "epoch 98, loss 0.00021822642884217203\n",
            "epoch 99, loss 0.0002157931012334302\n",
            "epoch 100, loss 0.00021338387159630656\n"
          ],
          "name": "stdout"
        }
      ]
    },
    {
      "cell_type": "markdown",
      "metadata": {
        "id": "9Xi3cEZ1NMCI",
        "colab_type": "text"
      },
      "source": [
        "# Summary"
      ]
    },
    {
      "cell_type": "markdown",
      "metadata": {
        "id": "Vd-3_Q1hNMCK",
        "colab_type": "text"
      },
      "source": [
        "- Simple **linear regression basics**\n",
        "    - $y = Ax + B$\n",
        "    - $y = 2x + 1$\n",
        "- **Example** of simple linear regression\n",
        "- **Aim** of linear regression\n",
        "    - Minimizing distance between the points and the line\n",
        "        - Calculate \"distance\" through `MSE`\n",
        "        - Calculate `gradients`\n",
        "        - Update parameters with `parameters = parameters - learning_rate * gradients`\n",
        "        - Slowly update parameters $A$ and $B$ model the linear relationship between $y$ and $x$ of the form $y = 2x + 1$\n",
        "- Built a linear regression **model** in **CPU and GPU**\n",
        "    - Step 1: Create Model Class\n",
        "    - Step 2: Instantiate Model Class\n",
        "    - Step 3: Instantiate Loss Class\n",
        "    - Step 4: Instantiate Optimizer Class\n",
        "    - Step 5: Train Model\n",
        "- Important things to be on **GPU**\n",
        "    - `model`\n",
        "    - `tensors with gradients`\n",
        "- How to bring to **GPU**?\n",
        "    - `model_name.cuda()`\n",
        "    - `variable_name.cuda()`"
      ]
    }
  ]
}