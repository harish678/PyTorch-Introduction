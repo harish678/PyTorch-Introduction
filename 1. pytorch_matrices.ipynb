{
  "nbformat": 4,
  "nbformat_minor": 0,
  "metadata": {
    "anaconda-cloud": {},
    "kernelspec": {
      "display_name": "Python 3",
      "language": "python",
      "name": "python3"
    },
    "language_info": {
      "codemirror_mode": {
        "name": "ipython",
        "version": 3
      },
      "file_extension": ".py",
      "mimetype": "text/x-python",
      "name": "python",
      "nbconvert_exporter": "python",
      "pygments_lexer": "ipython3",
      "version": "3.6.2"
    },
    "colab": {
      "name": "pytorch_matrices.ipynb",
      "provenance": []
    }
  },
  "cells": [
    {
      "cell_type": "markdown",
      "metadata": {
        "id": "shhCBNLKA7hN",
        "colab_type": "text"
      },
      "source": [
        "\n",
        "# PyTorch Fundamentals"
      ]
    },
    {
      "cell_type": "markdown",
      "metadata": {
        "collapsed": true,
        "id": "OOdWxSe1A7hQ",
        "colab_type": "text"
      },
      "source": [
        "## 1. Matrices\n",
        "\n",
        "\n",
        "### Matrices Brief Introduction\n",
        "- Basic definition: rectangular array of numbers.\n",
        "- Tensors (PyTorch)\n",
        "- Ndarrays (NumPy)"
      ]
    },
    {
      "cell_type": "markdown",
      "metadata": {
        "id": "Tv2nBQgqA7hS",
        "colab_type": "text"
      },
      "source": [
        "**<center> 2 x 2 Matrix (R x C)</center>**"
      ]
    },
    {
      "cell_type": "markdown",
      "metadata": {
        "id": "Eia7in5LA7hU",
        "colab_type": "text"
      },
      "source": [
        "1 | 1 \n",
        "--- | ---\n",
        "1 | 1 "
      ]
    },
    {
      "cell_type": "markdown",
      "metadata": {
        "id": "_XnjuAAxA7hV",
        "colab_type": "text"
      },
      "source": [
        "**<center> 2 x 3 Matrix </center>**"
      ]
    },
    {
      "cell_type": "markdown",
      "metadata": {
        "id": "cXSj0z5SA7hW",
        "colab_type": "text"
      },
      "source": [
        "1 | 1 | 1\n",
        "--- | ---| ---\n",
        "1 | 1 | 1 "
      ]
    },
    {
      "cell_type": "markdown",
      "metadata": {
        "id": "9Zt3omqiA7hX",
        "colab_type": "text"
      },
      "source": [
        "### 1.1 Creating Matrices"
      ]
    },
    {
      "cell_type": "code",
      "metadata": {
        "id": "H5OG9zr6A7hY",
        "colab_type": "code",
        "colab": {}
      },
      "source": [
        "import numpy as np"
      ],
      "execution_count": 0,
      "outputs": []
    },
    {
      "cell_type": "code",
      "metadata": {
        "id": "ArshwNeRA7hd",
        "colab_type": "code",
        "colab": {
          "base_uri": "https://localhost:8080/",
          "height": 34
        },
        "outputId": "8fed9de3-36b2-4e8c-cb0a-2f4391513b27"
      },
      "source": [
        "# Creating a 2x2 array\n",
        "arr = [[1, 2], [3, 4]]\n",
        "print(arr)"
      ],
      "execution_count": 2,
      "outputs": [
        {
          "output_type": "stream",
          "text": [
            "[[1, 2], [3, 4]]\n"
          ],
          "name": "stdout"
        }
      ]
    },
    {
      "cell_type": "code",
      "metadata": {
        "id": "Nfywl-waA7hi",
        "colab_type": "code",
        "colab": {
          "base_uri": "https://localhost:8080/",
          "height": 51
        },
        "outputId": "c90386f0-6975-41f0-8d06-c62d3184f716"
      },
      "source": [
        "# Convert to NumPy\n",
        "np.array(arr)"
      ],
      "execution_count": 3,
      "outputs": [
        {
          "output_type": "execute_result",
          "data": {
            "text/plain": [
              "array([[1, 2],\n",
              "       [3, 4]])"
            ]
          },
          "metadata": {
            "tags": []
          },
          "execution_count": 3
        }
      ]
    },
    {
      "cell_type": "markdown",
      "metadata": {
        "id": "sUKDJGykBeQK",
        "colab_type": "text"
      },
      "source": [
        ">  torch and numpy are very similar."
      ]
    },
    {
      "cell_type": "code",
      "metadata": {
        "id": "MHxLsZV_A7hm",
        "colab_type": "code",
        "colab": {}
      },
      "source": [
        "import torch"
      ],
      "execution_count": 0,
      "outputs": []
    },
    {
      "cell_type": "code",
      "metadata": {
        "id": "PW1nGYDKA7hq",
        "colab_type": "code",
        "colab": {
          "base_uri": "https://localhost:8080/",
          "height": 51
        },
        "outputId": "eaface2d-7912-469a-cd4d-3c1713553220"
      },
      "source": [
        "# Convert to PyTorch Tensor\n",
        "torch.Tensor(arr)"
      ],
      "execution_count": 5,
      "outputs": [
        {
          "output_type": "execute_result",
          "data": {
            "text/plain": [
              "tensor([[1., 2.],\n",
              "        [3., 4.]])"
            ]
          },
          "metadata": {
            "tags": []
          },
          "execution_count": 5
        }
      ]
    },
    {
      "cell_type": "markdown",
      "metadata": {
        "id": "zii8K_3JA7ht",
        "colab_type": "text"
      },
      "source": [
        "### 1.2 Create Matrices with Default Values"
      ]
    },
    {
      "cell_type": "code",
      "metadata": {
        "id": "JEmKDMcfA7hu",
        "colab_type": "code",
        "colab": {
          "base_uri": "https://localhost:8080/",
          "height": 51
        },
        "outputId": "4296cb6e-6fd3-4399-f542-8e5fba828f18"
      },
      "source": [
        "np.ones((2, 2))"
      ],
      "execution_count": 6,
      "outputs": [
        {
          "output_type": "execute_result",
          "data": {
            "text/plain": [
              "array([[1., 1.],\n",
              "       [1., 1.]])"
            ]
          },
          "metadata": {
            "tags": []
          },
          "execution_count": 6
        }
      ]
    },
    {
      "cell_type": "code",
      "metadata": {
        "id": "6mtEdnGGA7h0",
        "colab_type": "code",
        "colab": {
          "base_uri": "https://localhost:8080/",
          "height": 51
        },
        "outputId": "a825c846-86b5-4369-d30f-00e3a24e2606"
      },
      "source": [
        "torch.ones((2, 2))"
      ],
      "execution_count": 7,
      "outputs": [
        {
          "output_type": "execute_result",
          "data": {
            "text/plain": [
              "tensor([[1., 1.],\n",
              "        [1., 1.]])"
            ]
          },
          "metadata": {
            "tags": []
          },
          "execution_count": 7
        }
      ]
    },
    {
      "cell_type": "code",
      "metadata": {
        "id": "UcwNYFdzA7h5",
        "colab_type": "code",
        "colab": {
          "base_uri": "https://localhost:8080/",
          "height": 51
        },
        "outputId": "f924b212-5125-41b8-9eac-1bcae2736748"
      },
      "source": [
        "np.random.rand(2, 2)"
      ],
      "execution_count": 8,
      "outputs": [
        {
          "output_type": "execute_result",
          "data": {
            "text/plain": [
              "array([[0.51793241, 0.29558184],\n",
              "       [0.65971826, 0.71893119]])"
            ]
          },
          "metadata": {
            "tags": []
          },
          "execution_count": 8
        }
      ]
    },
    {
      "cell_type": "code",
      "metadata": {
        "id": "jxeuil90A7h8",
        "colab_type": "code",
        "colab": {
          "base_uri": "https://localhost:8080/",
          "height": 51
        },
        "outputId": "cdfca3bc-9801-4374-d54d-c0eb9bec8ef3"
      },
      "source": [
        "torch.rand(2, 2)"
      ],
      "execution_count": 9,
      "outputs": [
        {
          "output_type": "execute_result",
          "data": {
            "text/plain": [
              "tensor([[0.8560, 0.2339],\n",
              "        [0.5761, 0.6963]])"
            ]
          },
          "metadata": {
            "tags": []
          },
          "execution_count": 9
        }
      ]
    },
    {
      "cell_type": "markdown",
      "metadata": {
        "id": "GA4dWEf_A7iA",
        "colab_type": "text"
      },
      "source": [
        "### 1.3 Seeds for Reproducibility"
      ]
    },
    {
      "cell_type": "code",
      "metadata": {
        "id": "wpwXF6JeA7iB",
        "colab_type": "code",
        "colab": {
          "base_uri": "https://localhost:8080/",
          "height": 51
        },
        "outputId": "b85efbe2-7700-4b62-aa34-5a258a37c5d3"
      },
      "source": [
        "# Seed\n",
        "np.random.seed(0)\n",
        "np.random.rand(2, 2)"
      ],
      "execution_count": 10,
      "outputs": [
        {
          "output_type": "execute_result",
          "data": {
            "text/plain": [
              "array([[0.5488135 , 0.71518937],\n",
              "       [0.60276338, 0.54488318]])"
            ]
          },
          "metadata": {
            "tags": []
          },
          "execution_count": 10
        }
      ]
    },
    {
      "cell_type": "code",
      "metadata": {
        "id": "h05_XRwtA7iE",
        "colab_type": "code",
        "colab": {
          "base_uri": "https://localhost:8080/",
          "height": 51
        },
        "outputId": "b5e6a2e9-28ad-4c20-b553-031469b60f79"
      },
      "source": [
        "# Seed\n",
        "np.random.seed(0)\n",
        "np.random.rand(2, 2)"
      ],
      "execution_count": 11,
      "outputs": [
        {
          "output_type": "execute_result",
          "data": {
            "text/plain": [
              "array([[0.5488135 , 0.71518937],\n",
              "       [0.60276338, 0.54488318]])"
            ]
          },
          "metadata": {
            "tags": []
          },
          "execution_count": 11
        }
      ]
    },
    {
      "cell_type": "code",
      "metadata": {
        "id": "LKDFDQHyA7iJ",
        "colab_type": "code",
        "colab": {
          "base_uri": "https://localhost:8080/",
          "height": 51
        },
        "outputId": "0316c72c-669e-44a6-d8bd-c733ccb90254"
      },
      "source": [
        "# No seed\n",
        "np.random.rand(2, 2)"
      ],
      "execution_count": 12,
      "outputs": [
        {
          "output_type": "execute_result",
          "data": {
            "text/plain": [
              "array([[0.4236548 , 0.64589411],\n",
              "       [0.43758721, 0.891773  ]])"
            ]
          },
          "metadata": {
            "tags": []
          },
          "execution_count": 12
        }
      ]
    },
    {
      "cell_type": "code",
      "metadata": {
        "id": "XpXPnjkcA7iN",
        "colab_type": "code",
        "colab": {
          "base_uri": "https://localhost:8080/",
          "height": 51
        },
        "outputId": "d2dca97a-20bd-4085-e359-4135a7ea3187"
      },
      "source": [
        "# No seed\n",
        "np.random.rand(2, 2)"
      ],
      "execution_count": 13,
      "outputs": [
        {
          "output_type": "execute_result",
          "data": {
            "text/plain": [
              "array([[0.96366276, 0.38344152],\n",
              "       [0.79172504, 0.52889492]])"
            ]
          },
          "metadata": {
            "tags": []
          },
          "execution_count": 13
        }
      ]
    },
    {
      "cell_type": "code",
      "metadata": {
        "id": "Vxjqx8SzA7iQ",
        "colab_type": "code",
        "colab": {
          "base_uri": "https://localhost:8080/",
          "height": 51
        },
        "outputId": "82099106-71a6-4244-b971-8180eeafed93"
      },
      "source": [
        "# Torch Seed\n",
        "torch.manual_seed(0)\n",
        "torch.rand(2, 2)"
      ],
      "execution_count": 14,
      "outputs": [
        {
          "output_type": "execute_result",
          "data": {
            "text/plain": [
              "tensor([[0.4963, 0.7682],\n",
              "        [0.0885, 0.1320]])"
            ]
          },
          "metadata": {
            "tags": []
          },
          "execution_count": 14
        }
      ]
    },
    {
      "cell_type": "code",
      "metadata": {
        "id": "d7k-Uz46A7iU",
        "colab_type": "code",
        "colab": {
          "base_uri": "https://localhost:8080/",
          "height": 51
        },
        "outputId": "eed6f9a3-306d-4de0-9d7e-9e53290ff746"
      },
      "source": [
        "# Torch Seed\n",
        "torch.manual_seed(0)\n",
        "torch.rand(2, 2)"
      ],
      "execution_count": 15,
      "outputs": [
        {
          "output_type": "execute_result",
          "data": {
            "text/plain": [
              "tensor([[0.4963, 0.7682],\n",
              "        [0.0885, 0.1320]])"
            ]
          },
          "metadata": {
            "tags": []
          },
          "execution_count": 15
        }
      ]
    },
    {
      "cell_type": "code",
      "metadata": {
        "id": "gVIjicpqA7ia",
        "colab_type": "code",
        "colab": {
          "base_uri": "https://localhost:8080/",
          "height": 51
        },
        "outputId": "c4d396da-d305-4064-c268-e5408c7c5ccc"
      },
      "source": [
        "# Torch No Seed\n",
        "torch.rand(2, 2)"
      ],
      "execution_count": 16,
      "outputs": [
        {
          "output_type": "execute_result",
          "data": {
            "text/plain": [
              "tensor([[0.3074, 0.6341],\n",
              "        [0.4901, 0.8964]])"
            ]
          },
          "metadata": {
            "tags": []
          },
          "execution_count": 16
        }
      ]
    },
    {
      "cell_type": "code",
      "metadata": {
        "id": "DS-_7pcKA7ie",
        "colab_type": "code",
        "colab": {
          "base_uri": "https://localhost:8080/",
          "height": 51
        },
        "outputId": "709496d2-d666-4b06-f58f-03f4f4d871e3"
      },
      "source": [
        "# Torch No Seed\n",
        "torch.rand(2, 2)"
      ],
      "execution_count": 17,
      "outputs": [
        {
          "output_type": "execute_result",
          "data": {
            "text/plain": [
              "tensor([[0.4556, 0.6323],\n",
              "        [0.3489, 0.4017]])"
            ]
          },
          "metadata": {
            "tags": []
          },
          "execution_count": 17
        }
      ]
    },
    {
      "cell_type": "markdown",
      "metadata": {
        "id": "epeSkUoGA7ih",
        "colab_type": "text"
      },
      "source": [
        "**Seed for GPU is different for now...**"
      ]
    },
    {
      "cell_type": "code",
      "metadata": {
        "id": "nh2QCcWtA7ii",
        "colab_type": "code",
        "colab": {}
      },
      "source": [
        "if torch.cuda.is_available():\n",
        "    torch.cuda.manual_seed_all(0)"
      ],
      "execution_count": 0,
      "outputs": []
    },
    {
      "cell_type": "markdown",
      "metadata": {
        "id": "XyjiDihjA7it",
        "colab_type": "text"
      },
      "source": [
        "### 1.3 NumPy and Torch Bridge"
      ]
    },
    {
      "cell_type": "markdown",
      "metadata": {
        "id": "nCotKzhmA7iu",
        "colab_type": "text"
      },
      "source": [
        "### NumPy to Torch "
      ]
    },
    {
      "cell_type": "code",
      "metadata": {
        "id": "D3rOBgLzA7iw",
        "colab_type": "code",
        "colab": {}
      },
      "source": [
        "# Numpy array\n",
        "np_array = np.ones((2, 2))"
      ],
      "execution_count": 0,
      "outputs": []
    },
    {
      "cell_type": "code",
      "metadata": {
        "id": "tweByTDNA7iz",
        "colab_type": "code",
        "colab": {
          "base_uri": "https://localhost:8080/",
          "height": 51
        },
        "outputId": "f47853ca-4f6f-4e64-ecc6-2e5e376166b3"
      },
      "source": [
        "print(np_array)"
      ],
      "execution_count": 20,
      "outputs": [
        {
          "output_type": "stream",
          "text": [
            "[[1. 1.]\n",
            " [1. 1.]]\n"
          ],
          "name": "stdout"
        }
      ]
    },
    {
      "cell_type": "code",
      "metadata": {
        "id": "JXuFV7FHA7i2",
        "colab_type": "code",
        "colab": {
          "base_uri": "https://localhost:8080/",
          "height": 34
        },
        "outputId": "a86f902c-07e6-4d90-ca94-e558fa84fc17"
      },
      "source": [
        "print(type(np_array))"
      ],
      "execution_count": 21,
      "outputs": [
        {
          "output_type": "stream",
          "text": [
            "<class 'numpy.ndarray'>\n"
          ],
          "name": "stdout"
        }
      ]
    },
    {
      "cell_type": "code",
      "metadata": {
        "id": "d8cJy0uwA7i6",
        "colab_type": "code",
        "colab": {}
      },
      "source": [
        "# Convert to Torch Tensor\n",
        "torch_tensor = torch.from_numpy(np_array)"
      ],
      "execution_count": 0,
      "outputs": []
    },
    {
      "cell_type": "code",
      "metadata": {
        "id": "1j-SY7BTA7i-",
        "colab_type": "code",
        "colab": {
          "base_uri": "https://localhost:8080/",
          "height": 51
        },
        "outputId": "754df961-00b8-461e-aea7-270aa569d052"
      },
      "source": [
        "print(torch_tensor)"
      ],
      "execution_count": 23,
      "outputs": [
        {
          "output_type": "stream",
          "text": [
            "tensor([[1., 1.],\n",
            "        [1., 1.]], dtype=torch.float64)\n"
          ],
          "name": "stdout"
        }
      ]
    },
    {
      "cell_type": "code",
      "metadata": {
        "id": "vpUTuhd_A7jE",
        "colab_type": "code",
        "colab": {
          "base_uri": "https://localhost:8080/",
          "height": 34
        },
        "outputId": "9eb04068-f7e9-4f97-cf43-a1ddeccc1d86"
      },
      "source": [
        "print(type(torch_tensor))"
      ],
      "execution_count": 24,
      "outputs": [
        {
          "output_type": "stream",
          "text": [
            "<class 'torch.Tensor'>\n"
          ],
          "name": "stdout"
        }
      ]
    },
    {
      "cell_type": "code",
      "metadata": {
        "id": "0hUhbIrrA7jJ",
        "colab_type": "code",
        "colab": {
          "base_uri": "https://localhost:8080/",
          "height": 180
        },
        "outputId": "ce9aecdf-ad6d-4b25-bf70-b68156881d5e"
      },
      "source": [
        "# Data types matter: intentional error\n",
        "np_array_new = np.ones((2, 2), dtype=np.uint16)\n",
        "torch.from_numpy(np_array_new)"
      ],
      "execution_count": 25,
      "outputs": [
        {
          "output_type": "error",
          "ename": "TypeError",
          "evalue": "ignored",
          "traceback": [
            "\u001b[0;31m---------------------------------------------------------------------------\u001b[0m",
            "\u001b[0;31mTypeError\u001b[0m                                 Traceback (most recent call last)",
            "\u001b[0;32m<ipython-input-25-a3e6f5e499f0>\u001b[0m in \u001b[0;36m<module>\u001b[0;34m()\u001b[0m\n\u001b[1;32m      1\u001b[0m \u001b[0mnp_array_new\u001b[0m \u001b[0;34m=\u001b[0m \u001b[0mnp\u001b[0m\u001b[0;34m.\u001b[0m\u001b[0mones\u001b[0m\u001b[0;34m(\u001b[0m\u001b[0;34m(\u001b[0m\u001b[0;36m2\u001b[0m\u001b[0;34m,\u001b[0m \u001b[0;36m2\u001b[0m\u001b[0;34m)\u001b[0m\u001b[0;34m,\u001b[0m \u001b[0mdtype\u001b[0m\u001b[0;34m=\u001b[0m\u001b[0mnp\u001b[0m\u001b[0;34m.\u001b[0m\u001b[0muint16\u001b[0m\u001b[0;34m)\u001b[0m\u001b[0;34m\u001b[0m\u001b[0;34m\u001b[0m\u001b[0m\n\u001b[0;32m----> 2\u001b[0;31m \u001b[0mtorch\u001b[0m\u001b[0;34m.\u001b[0m\u001b[0mfrom_numpy\u001b[0m\u001b[0;34m(\u001b[0m\u001b[0mnp_array_new\u001b[0m\u001b[0;34m)\u001b[0m\u001b[0;34m\u001b[0m\u001b[0;34m\u001b[0m\u001b[0m\n\u001b[0m",
            "\u001b[0;31mTypeError\u001b[0m: can't convert np.ndarray of type numpy.uint16. The only supported types are: float64, float32, float16, int64, int32, int16, int8, uint8, and bool."
          ]
        }
      ]
    },
    {
      "cell_type": "markdown",
      "metadata": {
        "id": "Tt8ESLoOA7jM",
        "colab_type": "text"
      },
      "source": [
        "<p>It currently accepts <code class=\"xref py py-attr docutils literal notranslate\"><span class=\"pre\">ndarray</span></code> with dtypes of <code class=\"docutils literal notranslate\"><span class=\"pre\">numpy.float64</span></code>,\n",
        "<code class=\"docutils literal notranslate\"><span class=\"pre\">numpy.float32</span></code>, <code class=\"docutils literal notranslate\"><span class=\"pre\">numpy.float16</span></code>, <code class=\"docutils literal notranslate\"><span class=\"pre\">numpy.int64</span></code>, <code class=\"docutils literal notranslate\"><span class=\"pre\">numpy.int32</span></code>,\n",
        "<code class=\"docutils literal notranslate\"><span class=\"pre\">numpy.int16</span></code>, <code class=\"docutils literal notranslate\"><span class=\"pre\">numpy.int8</span></code>, <code class=\"docutils literal notranslate\"><span class=\"pre\">numpy.uint8</span></code>, and <code class=\"docutils literal notranslate\"><span class=\"pre\">numpy.bool</span></code>.</p>"
      ]
    },
    {
      "cell_type": "code",
      "metadata": {
        "id": "bjb7IZICA7jN",
        "colab_type": "code",
        "colab": {
          "base_uri": "https://localhost:8080/",
          "height": 51
        },
        "outputId": "91745f09-e96b-4148-bab0-21107cb7e4e0"
      },
      "source": [
        "# Data types matter\n",
        "np_array_new = np.ones((2, 2), dtype=np.int64)\n",
        "torch.from_numpy(np_array_new)"
      ],
      "execution_count": 26,
      "outputs": [
        {
          "output_type": "execute_result",
          "data": {
            "text/plain": [
              "tensor([[1, 1],\n",
              "        [1, 1]])"
            ]
          },
          "metadata": {
            "tags": []
          },
          "execution_count": 26
        }
      ]
    },
    {
      "cell_type": "code",
      "metadata": {
        "id": "Ka2Eko2vA7jQ",
        "colab_type": "code",
        "colab": {
          "base_uri": "https://localhost:8080/",
          "height": 51
        },
        "outputId": "7c8ff02f-9cc1-4eff-afcb-5a273b6bcda4"
      },
      "source": [
        "# Data types matter\n",
        "np_array_new = np.ones((2, 2), dtype=np.int32)\n",
        "torch.from_numpy(np_array_new)"
      ],
      "execution_count": 27,
      "outputs": [
        {
          "output_type": "execute_result",
          "data": {
            "text/plain": [
              "tensor([[1, 1],\n",
              "        [1, 1]], dtype=torch.int32)"
            ]
          },
          "metadata": {
            "tags": []
          },
          "execution_count": 27
        }
      ]
    },
    {
      "cell_type": "code",
      "metadata": {
        "id": "qDbQh3qgA7jU",
        "colab_type": "code",
        "colab": {
          "base_uri": "https://localhost:8080/",
          "height": 51
        },
        "outputId": "63baad3d-fec1-4263-9d62-7d56b5605619"
      },
      "source": [
        "# Data types matter\n",
        "np_array_new = np.ones((2, 2), dtype=np.uint8)\n",
        "torch.from_numpy(np_array_new)"
      ],
      "execution_count": 28,
      "outputs": [
        {
          "output_type": "execute_result",
          "data": {
            "text/plain": [
              "tensor([[1, 1],\n",
              "        [1, 1]], dtype=torch.uint8)"
            ]
          },
          "metadata": {
            "tags": []
          },
          "execution_count": 28
        }
      ]
    },
    {
      "cell_type": "code",
      "metadata": {
        "id": "NKf2g9q3A7jZ",
        "colab_type": "code",
        "colab": {
          "base_uri": "https://localhost:8080/",
          "height": 51
        },
        "outputId": "bf6f6a5d-44dc-42b4-fe33-4f0154763db8"
      },
      "source": [
        "# Data types matter\n",
        "np_array_new = np.ones((2, 2), dtype=np.float64)\n",
        "torch.from_numpy(np_array_new)"
      ],
      "execution_count": 29,
      "outputs": [
        {
          "output_type": "execute_result",
          "data": {
            "text/plain": [
              "tensor([[1., 1.],\n",
              "        [1., 1.]], dtype=torch.float64)"
            ]
          },
          "metadata": {
            "tags": []
          },
          "execution_count": 29
        }
      ]
    },
    {
      "cell_type": "code",
      "metadata": {
        "id": "LtINBHw2A7jd",
        "colab_type": "code",
        "colab": {
          "base_uri": "https://localhost:8080/",
          "height": 51
        },
        "outputId": "2d80d108-b8a6-4ced-c256-92d20a466a79"
      },
      "source": [
        "# Data types matter\n",
        "np_array_new = np.ones((2, 2), dtype=np.float32)\n",
        "torch.from_numpy(np_array_new)"
      ],
      "execution_count": 30,
      "outputs": [
        {
          "output_type": "execute_result",
          "data": {
            "text/plain": [
              "tensor([[1., 1.],\n",
              "        [1., 1.]])"
            ]
          },
          "metadata": {
            "tags": []
          },
          "execution_count": 30
        }
      ]
    },
    {
      "cell_type": "code",
      "metadata": {
        "id": "rQ-QDT9JA7jg",
        "colab_type": "code",
        "colab": {
          "base_uri": "https://localhost:8080/",
          "height": 51
        },
        "outputId": "be63a4bc-e222-49f5-b339-e3ddaa447c21"
      },
      "source": [
        "# Data types matter\n",
        "np_array_new = np.ones((2, 2), dtype=np.double)\n",
        "torch.from_numpy(np_array_new)"
      ],
      "execution_count": 31,
      "outputs": [
        {
          "output_type": "execute_result",
          "data": {
            "text/plain": [
              "tensor([[1., 1.],\n",
              "        [1., 1.]], dtype=torch.float64)"
            ]
          },
          "metadata": {
            "tags": []
          },
          "execution_count": 31
        }
      ]
    },
    {
      "cell_type": "markdown",
      "metadata": {
        "id": "1LATq4z8A7jk",
        "colab_type": "text"
      },
      "source": [
        "| NumPy Array Type        | Torch Tensor Type           |\n",
        "| :-------------: |:--------------:|\n",
        "| int64     | LongTensor |\n",
        "| int32     | IntegerTensor |\n",
        "| uint8      | ByteTensor      |\n",
        "| float64 | DoubleTensor     |\n",
        "| float32 | FloatTensor      |\n",
        "| double | DoubleTensor      |"
      ]
    },
    {
      "cell_type": "markdown",
      "metadata": {
        "id": "z9ZeBIw3A7jl",
        "colab_type": "text"
      },
      "source": [
        "### Torch to NumPy"
      ]
    },
    {
      "cell_type": "code",
      "metadata": {
        "id": "EI6ENakIA7jm",
        "colab_type": "code",
        "colab": {}
      },
      "source": [
        "torch_tensor = torch.ones(2, 2)"
      ],
      "execution_count": 0,
      "outputs": []
    },
    {
      "cell_type": "code",
      "metadata": {
        "id": "kHaBmpQtA7jp",
        "colab_type": "code",
        "colab": {
          "base_uri": "https://localhost:8080/",
          "height": 34
        },
        "outputId": "f8515aec-5274-48ff-f99f-7ca4e3c1f4c0"
      },
      "source": [
        "type(torch_tensor)"
      ],
      "execution_count": 33,
      "outputs": [
        {
          "output_type": "execute_result",
          "data": {
            "text/plain": [
              "torch.Tensor"
            ]
          },
          "metadata": {
            "tags": []
          },
          "execution_count": 33
        }
      ]
    },
    {
      "cell_type": "code",
      "metadata": {
        "id": "xSf9BLACA7ju",
        "colab_type": "code",
        "colab": {}
      },
      "source": [
        "torch_to_numpy = torch_tensor.numpy()"
      ],
      "execution_count": 0,
      "outputs": []
    },
    {
      "cell_type": "code",
      "metadata": {
        "id": "6aFUUvZIA7jx",
        "colab_type": "code",
        "colab": {
          "base_uri": "https://localhost:8080/",
          "height": 34
        },
        "outputId": "cb87616f-e77a-4fca-a55d-452ef8b79b97"
      },
      "source": [
        "type(torch_to_numpy)"
      ],
      "execution_count": 35,
      "outputs": [
        {
          "output_type": "execute_result",
          "data": {
            "text/plain": [
              "numpy.ndarray"
            ]
          },
          "metadata": {
            "tags": []
          },
          "execution_count": 35
        }
      ]
    },
    {
      "cell_type": "markdown",
      "metadata": {
        "id": "s1juqNNeA7j0",
        "colab_type": "text"
      },
      "source": [
        "### 1.4 Tensors on CPU vs GPU"
      ]
    },
    {
      "cell_type": "code",
      "metadata": {
        "id": "gwniQshVA7j1",
        "colab_type": "code",
        "colab": {}
      },
      "source": [
        "# CPU\n",
        "tensor_cpu = torch.ones(2, 2)"
      ],
      "execution_count": 0,
      "outputs": []
    },
    {
      "cell_type": "code",
      "metadata": {
        "id": "oc6_-HqhA7j4",
        "colab_type": "code",
        "colab": {}
      },
      "source": [
        "# CPU to GPU\n",
        "if torch.cuda.is_available():\n",
        "    tensor_cpu.cuda()"
      ],
      "execution_count": 0,
      "outputs": []
    },
    {
      "cell_type": "code",
      "metadata": {
        "id": "pEJ7jovtA7j7",
        "colab_type": "code",
        "colab": {
          "base_uri": "https://localhost:8080/",
          "height": 51
        },
        "outputId": "b2385631-1d09-43ff-fa67-4f97327d652c"
      },
      "source": [
        "# GPU to CPU\n",
        "tensor_cpu.cpu()"
      ],
      "execution_count": 38,
      "outputs": [
        {
          "output_type": "execute_result",
          "data": {
            "text/plain": [
              "tensor([[1., 1.],\n",
              "        [1., 1.]])"
            ]
          },
          "metadata": {
            "tags": []
          },
          "execution_count": 38
        }
      ]
    },
    {
      "cell_type": "markdown",
      "metadata": {
        "id": "lwYIDh6IA7kB",
        "colab_type": "text"
      },
      "source": [
        "### 1.5 Tensor Operations"
      ]
    },
    {
      "cell_type": "markdown",
      "metadata": {
        "id": "dIeSxwhlA7kE",
        "colab_type": "text"
      },
      "source": [
        "### Resizing Tensor"
      ]
    },
    {
      "cell_type": "code",
      "metadata": {
        "id": "7CAjTEscA7kF",
        "colab_type": "code",
        "colab": {
          "base_uri": "https://localhost:8080/",
          "height": 51
        },
        "outputId": "a9cb43e0-3b68-4616-f151-6b65cc48ce79"
      },
      "source": [
        "a = torch.ones(2, 2)\n",
        "print(a)"
      ],
      "execution_count": 39,
      "outputs": [
        {
          "output_type": "stream",
          "text": [
            "tensor([[1., 1.],\n",
            "        [1., 1.]])\n"
          ],
          "name": "stdout"
        }
      ]
    },
    {
      "cell_type": "code",
      "metadata": {
        "id": "uRDjGeq6A7kM",
        "colab_type": "code",
        "colab": {
          "base_uri": "https://localhost:8080/",
          "height": 34
        },
        "outputId": "437b6609-fd06-4c4d-b7d0-4e1274c0609a"
      },
      "source": [
        "print(a.size())"
      ],
      "execution_count": 40,
      "outputs": [
        {
          "output_type": "stream",
          "text": [
            "torch.Size([2, 2])\n"
          ],
          "name": "stdout"
        }
      ]
    },
    {
      "cell_type": "code",
      "metadata": {
        "id": "Srje--l5A7kQ",
        "colab_type": "code",
        "colab": {
          "base_uri": "https://localhost:8080/",
          "height": 34
        },
        "outputId": "e6edfc9f-c251-44a5-9aee-80d7dfd2bfbb"
      },
      "source": [
        "# view() converts tensor to one array tensor\n",
        "a.view(4)"
      ],
      "execution_count": 41,
      "outputs": [
        {
          "output_type": "execute_result",
          "data": {
            "text/plain": [
              "tensor([1., 1., 1., 1.])"
            ]
          },
          "metadata": {
            "tags": []
          },
          "execution_count": 41
        }
      ]
    },
    {
      "cell_type": "code",
      "metadata": {
        "id": "LpYsFSjyA7kU",
        "colab_type": "code",
        "colab": {
          "base_uri": "https://localhost:8080/",
          "height": 34
        },
        "outputId": "3e10f52a-effa-40a2-9289-b04d4d51a518"
      },
      "source": [
        "a.view(4).size()"
      ],
      "execution_count": 42,
      "outputs": [
        {
          "output_type": "execute_result",
          "data": {
            "text/plain": [
              "torch.Size([4])"
            ]
          },
          "metadata": {
            "tags": []
          },
          "execution_count": 42
        }
      ]
    },
    {
      "cell_type": "markdown",
      "metadata": {
        "id": "4oYYhOqeA7kZ",
        "colab_type": "text"
      },
      "source": [
        "### Element-wise Addition"
      ]
    },
    {
      "cell_type": "code",
      "metadata": {
        "id": "EyxAXFyNA7kd",
        "colab_type": "code",
        "colab": {
          "base_uri": "https://localhost:8080/",
          "height": 51
        },
        "outputId": "45aa7bba-af26-45ac-edd2-79ce0516b843"
      },
      "source": [
        "a = torch.ones(2, 2)\n",
        "print(a)"
      ],
      "execution_count": 43,
      "outputs": [
        {
          "output_type": "stream",
          "text": [
            "tensor([[1., 1.],\n",
            "        [1., 1.]])\n"
          ],
          "name": "stdout"
        }
      ]
    },
    {
      "cell_type": "code",
      "metadata": {
        "id": "DHCTmEPZA7kg",
        "colab_type": "code",
        "colab": {
          "base_uri": "https://localhost:8080/",
          "height": 51
        },
        "outputId": "77be98de-846f-40de-8f6e-d4357aa68c6c"
      },
      "source": [
        "b = torch.ones(2, 2)\n",
        "print(b)"
      ],
      "execution_count": 44,
      "outputs": [
        {
          "output_type": "stream",
          "text": [
            "tensor([[1., 1.],\n",
            "        [1., 1.]])\n"
          ],
          "name": "stdout"
        }
      ]
    },
    {
      "cell_type": "code",
      "metadata": {
        "id": "HQIM4SowA7kj",
        "colab_type": "code",
        "colab": {
          "base_uri": "https://localhost:8080/",
          "height": 51
        },
        "outputId": "b39b57f6-d0ee-4c0b-c6ec-80e30f331444"
      },
      "source": [
        "# Element-wise addition\n",
        "c = a + b\n",
        "print(c)"
      ],
      "execution_count": 45,
      "outputs": [
        {
          "output_type": "stream",
          "text": [
            "tensor([[2., 2.],\n",
            "        [2., 2.]])\n"
          ],
          "name": "stdout"
        }
      ]
    },
    {
      "cell_type": "code",
      "metadata": {
        "id": "at1lFdizA7km",
        "colab_type": "code",
        "colab": {
          "base_uri": "https://localhost:8080/",
          "height": 51
        },
        "outputId": "94d473be-502b-4de8-d086-51b4898e2e1f"
      },
      "source": [
        "# Element-wise addition\n",
        "c = torch.add(a, b)\n",
        "print(c)"
      ],
      "execution_count": 46,
      "outputs": [
        {
          "output_type": "stream",
          "text": [
            "tensor([[2., 2.],\n",
            "        [2., 2.]])\n"
          ],
          "name": "stdout"
        }
      ]
    },
    {
      "cell_type": "code",
      "metadata": {
        "id": "rV0u0a5wA7kq",
        "colab_type": "code",
        "colab": {
          "base_uri": "https://localhost:8080/",
          "height": 136
        },
        "outputId": "f7cb6640-a4d8-492a-be1e-5cb811b4b178"
      },
      "source": [
        "# In-place addition\n",
        "print('Old c tensor')\n",
        "print(c)\n",
        "\n",
        "c.add_(a)\n",
        "\n",
        "print('-'*60)\n",
        "print('New c tensor')\n",
        "print(c)"
      ],
      "execution_count": 47,
      "outputs": [
        {
          "output_type": "stream",
          "text": [
            "Old c tensor\n",
            "tensor([[2., 2.],\n",
            "        [2., 2.]])\n",
            "------------------------------------------------------------\n",
            "New c tensor\n",
            "tensor([[3., 3.],\n",
            "        [3., 3.]])\n"
          ],
          "name": "stdout"
        }
      ]
    },
    {
      "cell_type": "markdown",
      "metadata": {
        "id": "qDCbD0BnA7kt",
        "colab_type": "text"
      },
      "source": [
        "### Element-wise Subtraction"
      ]
    },
    {
      "cell_type": "code",
      "metadata": {
        "id": "7AJQz6rsA7kv",
        "colab_type": "code",
        "colab": {
          "base_uri": "https://localhost:8080/",
          "height": 85
        },
        "outputId": "61ce61f0-610e-4b40-ee83-5b5ffb4e2935"
      },
      "source": [
        "print(a)\n",
        "print(b)"
      ],
      "execution_count": 48,
      "outputs": [
        {
          "output_type": "stream",
          "text": [
            "tensor([[1., 1.],\n",
            "        [1., 1.]])\n",
            "tensor([[1., 1.],\n",
            "        [1., 1.]])\n"
          ],
          "name": "stdout"
        }
      ]
    },
    {
      "cell_type": "code",
      "metadata": {
        "id": "D-LHfZBqA7ky",
        "colab_type": "code",
        "colab": {
          "base_uri": "https://localhost:8080/",
          "height": 51
        },
        "outputId": "9fc5d0fd-99da-4c4a-8e3a-9c93434860ac"
      },
      "source": [
        "a - b"
      ],
      "execution_count": 49,
      "outputs": [
        {
          "output_type": "execute_result",
          "data": {
            "text/plain": [
              "tensor([[0., 0.],\n",
              "        [0., 0.]])"
            ]
          },
          "metadata": {
            "tags": []
          },
          "execution_count": 49
        }
      ]
    },
    {
      "cell_type": "code",
      "metadata": {
        "id": "_odwZJwGA7k1",
        "colab_type": "code",
        "colab": {
          "base_uri": "https://localhost:8080/",
          "height": 85
        },
        "outputId": "0643e9ca-623b-4739-ed5d-25dfa7ba7839"
      },
      "source": [
        "# Not in-place\n",
        "print(a.sub(b))\n",
        "print(a)"
      ],
      "execution_count": 50,
      "outputs": [
        {
          "output_type": "stream",
          "text": [
            "tensor([[0., 0.],\n",
            "        [0., 0.]])\n",
            "tensor([[1., 1.],\n",
            "        [1., 1.]])\n"
          ],
          "name": "stdout"
        }
      ]
    },
    {
      "cell_type": "code",
      "metadata": {
        "id": "CBjCpIRVA7k4",
        "colab_type": "code",
        "colab": {
          "base_uri": "https://localhost:8080/",
          "height": 85
        },
        "outputId": "dad32dd9-3c6f-4bc9-aaad-c62144f1b586"
      },
      "source": [
        "# Inplace\n",
        "print(a.sub_(b))\n",
        "print(a)"
      ],
      "execution_count": 51,
      "outputs": [
        {
          "output_type": "stream",
          "text": [
            "tensor([[0., 0.],\n",
            "        [0., 0.]])\n",
            "tensor([[0., 0.],\n",
            "        [0., 0.]])\n"
          ],
          "name": "stdout"
        }
      ]
    },
    {
      "cell_type": "markdown",
      "metadata": {
        "id": "Lg34i35LA7k6",
        "colab_type": "text"
      },
      "source": [
        "### Element-Wise Multiplication"
      ]
    },
    {
      "cell_type": "code",
      "metadata": {
        "id": "Dn9KIVTiA7k7",
        "colab_type": "code",
        "colab": {
          "base_uri": "https://localhost:8080/",
          "height": 85
        },
        "outputId": "c14c8875-8a83-4632-b2ce-9409e4fe4fca"
      },
      "source": [
        "a = torch.ones(2, 2)\n",
        "print(a)\n",
        "b = torch.zeros(2, 2)\n",
        "print(b)"
      ],
      "execution_count": 52,
      "outputs": [
        {
          "output_type": "stream",
          "text": [
            "tensor([[1., 1.],\n",
            "        [1., 1.]])\n",
            "tensor([[0., 0.],\n",
            "        [0., 0.]])\n"
          ],
          "name": "stdout"
        }
      ]
    },
    {
      "cell_type": "code",
      "metadata": {
        "id": "Z7j1bEWFA7k9",
        "colab_type": "code",
        "colab": {
          "base_uri": "https://localhost:8080/",
          "height": 51
        },
        "outputId": "ec25575c-68f7-4d7e-e740-4086117c329e"
      },
      "source": [
        "a * b"
      ],
      "execution_count": 53,
      "outputs": [
        {
          "output_type": "execute_result",
          "data": {
            "text/plain": [
              "tensor([[0., 0.],\n",
              "        [0., 0.]])"
            ]
          },
          "metadata": {
            "tags": []
          },
          "execution_count": 53
        }
      ]
    },
    {
      "cell_type": "code",
      "metadata": {
        "id": "Kq6kUn0GA7lA",
        "colab_type": "code",
        "colab": {
          "base_uri": "https://localhost:8080/",
          "height": 85
        },
        "outputId": "520d2d42-4035-4dd9-b1d3-433cf0412a8d"
      },
      "source": [
        "# Not in-place\n",
        "print(torch.mul(a, b))\n",
        "print(a)"
      ],
      "execution_count": 54,
      "outputs": [
        {
          "output_type": "stream",
          "text": [
            "tensor([[0., 0.],\n",
            "        [0., 0.]])\n",
            "tensor([[1., 1.],\n",
            "        [1., 1.]])\n"
          ],
          "name": "stdout"
        }
      ]
    },
    {
      "cell_type": "code",
      "metadata": {
        "id": "Ewc281N-A7lH",
        "colab_type": "code",
        "colab": {
          "base_uri": "https://localhost:8080/",
          "height": 85
        },
        "outputId": "58a5d001-b75b-4bcc-ab76-08cb8fdf92c6"
      },
      "source": [
        "# In-place\n",
        "print(a.mul_(b))\n",
        "print(a)"
      ],
      "execution_count": 55,
      "outputs": [
        {
          "output_type": "stream",
          "text": [
            "tensor([[0., 0.],\n",
            "        [0., 0.]])\n",
            "tensor([[0., 0.],\n",
            "        [0., 0.]])\n"
          ],
          "name": "stdout"
        }
      ]
    },
    {
      "cell_type": "markdown",
      "metadata": {
        "id": "SUsHHbmXA7lJ",
        "colab_type": "text"
      },
      "source": [
        "### Element-Wise Division"
      ]
    },
    {
      "cell_type": "code",
      "metadata": {
        "id": "ftB6hMnOA7lM",
        "colab_type": "code",
        "colab": {}
      },
      "source": [
        "a = torch.ones(2, 2)\n",
        "b = torch.zeros(2, 2)"
      ],
      "execution_count": 0,
      "outputs": []
    },
    {
      "cell_type": "code",
      "metadata": {
        "id": "06M9zop2A7lQ",
        "colab_type": "code",
        "colab": {
          "base_uri": "https://localhost:8080/",
          "height": 51
        },
        "outputId": "e005dca4-f32b-4e69-849c-e26936eb66de"
      },
      "source": [
        "b / a"
      ],
      "execution_count": 57,
      "outputs": [
        {
          "output_type": "execute_result",
          "data": {
            "text/plain": [
              "tensor([[0., 0.],\n",
              "        [0., 0.]])"
            ]
          },
          "metadata": {
            "tags": []
          },
          "execution_count": 57
        }
      ]
    },
    {
      "cell_type": "code",
      "metadata": {
        "id": "2ZKZFHaBA7lU",
        "colab_type": "code",
        "colab": {
          "base_uri": "https://localhost:8080/",
          "height": 51
        },
        "outputId": "d72eccb8-1cd6-46fe-9296-7c6621d46740"
      },
      "source": [
        "torch.div(b, a)"
      ],
      "execution_count": 58,
      "outputs": [
        {
          "output_type": "execute_result",
          "data": {
            "text/plain": [
              "tensor([[0., 0.],\n",
              "        [0., 0.]])"
            ]
          },
          "metadata": {
            "tags": []
          },
          "execution_count": 58
        }
      ]
    },
    {
      "cell_type": "code",
      "metadata": {
        "id": "GXre9ERfA7lb",
        "colab_type": "code",
        "colab": {
          "base_uri": "https://localhost:8080/",
          "height": 51
        },
        "outputId": "9b72010c-dc1e-4488-bf05-c31471be2e78"
      },
      "source": [
        "# Inplace\n",
        "b.div_(a)"
      ],
      "execution_count": 59,
      "outputs": [
        {
          "output_type": "execute_result",
          "data": {
            "text/plain": [
              "tensor([[0., 0.],\n",
              "        [0., 0.]])"
            ]
          },
          "metadata": {
            "tags": []
          },
          "execution_count": 59
        }
      ]
    },
    {
      "cell_type": "markdown",
      "metadata": {
        "id": "n4m05g3EA7lf",
        "colab_type": "text"
      },
      "source": [
        "### Tensor Mean"
      ]
    },
    {
      "cell_type": "markdown",
      "metadata": {
        "id": "heIC5ZocA7lj",
        "colab_type": "text"
      },
      "source": [
        "- $1 + 2 + 3 + 4 + 5 + 6 + 7 + 8 + 9 + 10 = 55$\n",
        "- $mean = 55 /10 = 5.5$\n"
      ]
    },
    {
      "cell_type": "code",
      "metadata": {
        "id": "mo9ehL-qA7ll",
        "colab_type": "code",
        "colab": {
          "base_uri": "https://localhost:8080/",
          "height": 34
        },
        "outputId": "55b362f4-84c0-482d-feac-5731ba40f062"
      },
      "source": [
        "a = torch.Tensor([1, 2, 3, 4, 5, 6, 7, 8, 9, 10])\n",
        "a.size()"
      ],
      "execution_count": 60,
      "outputs": [
        {
          "output_type": "execute_result",
          "data": {
            "text/plain": [
              "torch.Size([10])"
            ]
          },
          "metadata": {
            "tags": []
          },
          "execution_count": 60
        }
      ]
    },
    {
      "cell_type": "code",
      "metadata": {
        "id": "I-hh3Gj8A7ls",
        "colab_type": "code",
        "colab": {
          "base_uri": "https://localhost:8080/",
          "height": 34
        },
        "outputId": "dd36cace-3c53-4bd9-a31e-7eb431bb3f63"
      },
      "source": [
        "a.mean(dim=0)"
      ],
      "execution_count": 61,
      "outputs": [
        {
          "output_type": "execute_result",
          "data": {
            "text/plain": [
              "tensor(5.5000)"
            ]
          },
          "metadata": {
            "tags": []
          },
          "execution_count": 61
        }
      ]
    },
    {
      "cell_type": "code",
      "metadata": {
        "id": "5xVNuW07A7lz",
        "colab_type": "code",
        "colab": {
          "base_uri": "https://localhost:8080/",
          "height": 163
        },
        "outputId": "f30f14db-7483-42b2-f3c1-d1c598377268"
      },
      "source": [
        "a.mean(dim=1)"
      ],
      "execution_count": 62,
      "outputs": [
        {
          "output_type": "error",
          "ename": "IndexError",
          "evalue": "ignored",
          "traceback": [
            "\u001b[0;31m---------------------------------------------------------------------------\u001b[0m",
            "\u001b[0;31mIndexError\u001b[0m                                Traceback (most recent call last)",
            "\u001b[0;32m<ipython-input-62-4c15dff00899>\u001b[0m in \u001b[0;36m<module>\u001b[0;34m()\u001b[0m\n\u001b[0;32m----> 1\u001b[0;31m \u001b[0ma\u001b[0m\u001b[0;34m.\u001b[0m\u001b[0mmean\u001b[0m\u001b[0;34m(\u001b[0m\u001b[0mdim\u001b[0m\u001b[0;34m=\u001b[0m\u001b[0;36m1\u001b[0m\u001b[0;34m)\u001b[0m\u001b[0;34m\u001b[0m\u001b[0;34m\u001b[0m\u001b[0m\n\u001b[0m",
            "\u001b[0;31mIndexError\u001b[0m: Dimension out of range (expected to be in range of [-1, 0], but got 1)"
          ]
        }
      ]
    },
    {
      "cell_type": "code",
      "metadata": {
        "id": "Es_v6UTsA7l1",
        "colab_type": "code",
        "colab": {}
      },
      "source": [
        "a = torch.Tensor([[1, 2, 3, 4, 5, 6, 7, 8, 9, 10], [1, 2, 3, 4, 5, 6, 7, 8, 9, 10]])"
      ],
      "execution_count": 0,
      "outputs": []
    },
    {
      "cell_type": "code",
      "metadata": {
        "id": "6P980bChA7l3",
        "colab_type": "code",
        "colab": {
          "base_uri": "https://localhost:8080/",
          "height": 34
        },
        "outputId": "56b421e7-4217-46a4-aafb-e54a8f2a520f"
      },
      "source": [
        "a.size()"
      ],
      "execution_count": 64,
      "outputs": [
        {
          "output_type": "execute_result",
          "data": {
            "text/plain": [
              "torch.Size([2, 10])"
            ]
          },
          "metadata": {
            "tags": []
          },
          "execution_count": 64
        }
      ]
    },
    {
      "cell_type": "code",
      "metadata": {
        "id": "zCc1aJSzA7l6",
        "colab_type": "code",
        "colab": {
          "base_uri": "https://localhost:8080/",
          "height": 34
        },
        "outputId": "d20eefb1-b5d6-456e-eb92-f7743ab2da07"
      },
      "source": [
        "a.mean(dim=1)"
      ],
      "execution_count": 65,
      "outputs": [
        {
          "output_type": "execute_result",
          "data": {
            "text/plain": [
              "tensor([5.5000, 5.5000])"
            ]
          },
          "metadata": {
            "tags": []
          },
          "execution_count": 65
        }
      ]
    },
    {
      "cell_type": "markdown",
      "metadata": {
        "id": "BMMwBpNjA7l9",
        "colab_type": "text"
      },
      "source": [
        "## Tensor Standard Deviation"
      ]
    },
    {
      "cell_type": "code",
      "metadata": {
        "id": "R_g3Ghj2A7l-",
        "colab_type": "code",
        "colab": {
          "base_uri": "https://localhost:8080/",
          "height": 34
        },
        "outputId": "4e6073e6-9fca-4a9a-e4f7-c622dd693d3d"
      },
      "source": [
        "a = torch.Tensor([1, 2, 3, 4, 5, 6, 7, 8, 9, 10])\n",
        "a.std(dim=0)"
      ],
      "execution_count": 66,
      "outputs": [
        {
          "output_type": "execute_result",
          "data": {
            "text/plain": [
              "tensor(3.0277)"
            ]
          },
          "metadata": {
            "tags": []
          },
          "execution_count": 66
        }
      ]
    },
    {
      "cell_type": "markdown",
      "metadata": {
        "id": "xMXmIHf1A7mE",
        "colab_type": "text"
      },
      "source": [
        "---\n",
        "# We've learnt to...\n",
        "1. Create Matrices\n",
        "2. Create Matrices with Default Initialization Values\n",
        "    - Zeros \n",
        "    - Ones\n",
        "3. Initialize Seeds for Reproducibility on GPU and CPU\n",
        "4. Convert Matrices: NumPy => Torch and Torch => NumPy\n",
        "5. Move Tensors: CPU => GPU and GPU => CPU\n",
        "6. Run Important Tensor Operations\n",
        "    - Element-wise addition, subtraction, multiplication and division\n",
        "    - Resize\n",
        "    - Calculate mean \n",
        "    - Calculate standard deviation"
      ]
    }
  ]
}