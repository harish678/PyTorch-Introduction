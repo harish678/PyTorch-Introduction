{
  "nbformat": 4,
  "nbformat_minor": 0,
  "metadata": {
    "anaconda-cloud": {},
    "kernelspec": {
      "display_name": "Python 3",
      "language": "python",
      "name": "python3"
    },
    "language_info": {
      "codemirror_mode": {
        "name": "ipython",
        "version": 3
      },
      "file_extension": ".py",
      "mimetype": "text/x-python",
      "name": "python",
      "nbconvert_exporter": "python",
      "pygments_lexer": "ipython3",
      "version": "3.5.5"
    },
    "colab": {
      "name": "pytorch_logistic_regression.ipynb",
      "provenance": []
    }
  },
  "cells": [
    {
      "cell_type": "markdown",
      "metadata": {
        "id": "oO9csi1PVHYv",
        "colab_type": "text"
      },
      "source": [
        "# Logistic Regression with PyTorch\n",
        "## 1. About Logistic Regression\n"
      ]
    },
    {
      "cell_type": "markdown",
      "metadata": {
        "collapsed": true,
        "id": "BEZeDdHXVHYz",
        "colab_type": "text"
      },
      "source": [
        "### 1.1 Logistic Regression Basics\n",
        "\n",
        "#### Classification algorithm\n",
        "- Example: Spam vs No Spam\n",
        "    - Input: Bunch of words\n",
        "    - Output: Probability spam or not\n",
        "\n",
        "#### Basic Comparison\n",
        "- **Linear regression**\n",
        "    - Output: numeric value given inputs\n",
        "- **Logistic regression**:\n",
        "    - Output: probability [0, 1] given input belonging to a class\n",
        "    \n",
        "    \n",
        "#### Input/Output Comparison\n",
        "- **Linear regression: Multiplication**\n",
        "    - Input: [1]\n",
        "        - Output: 2\n",
        "    - Input: [2]\n",
        "        - Output: 4\n",
        "    - Trying to model the relationship `y = 2x`\n",
        "- **Logistic regression: Spam**\n",
        "    - Input: \"Sign up to get 1 million dollars by tonight\"\n",
        "        - Output: p = 0.8\n",
        "    - Input: \"This is a receipt for your recent purchase with Amazon\"\n",
        "        - Output: p = 0.3\n",
        "    - **p: probability it is spam**\n",
        "        \n",
        "            "
      ]
    },
    {
      "cell_type": "markdown",
      "metadata": {
        "id": "ERw3HQGPVHY0",
        "colab_type": "text"
      },
      "source": [
        "### 1.2 Problems of Linear Regression\n",
        "- Example\n",
        "    - Fever\n",
        "    - **Input**: temperature\n",
        "    - **Output**: fever or no fever\n",
        "- Remember\n",
        "    - **Linear regression**: minimize error between points and line"
      ]
    },
    {
      "cell_type": "code",
      "metadata": {
        "id": "VZjXXTO6VHY2",
        "colab_type": "code",
        "colab": {
          "base_uri": "https://localhost:8080/",
          "height": 279
        },
        "outputId": "775ddd49-18d5-423a-b4cf-a4d6e09afcae"
      },
      "source": [
        "import numpy as np\n",
        "import matplotlib.pyplot as plt\n",
        "%matplotlib inline\n",
        "\n",
        "x = [1, 5, 10, 10, 25, 50, 70, 75, 100]\n",
        "y = [0, 0, 0, 0, 0, 1, 1, 1, 1]\n",
        "\n",
        "colors = np.random.rand(len(x))\n",
        "plt.plot(np.unique(x), np.poly1d(np.polyfit(x, y, 1))(np.unique(x)))\n",
        "plt.ylabel(\"Fever\")\n",
        "plt.xlabel(\"Temperature\")\n",
        "\n",
        "plt.scatter(x, y, c=colors, alpha=0.5)\n",
        "plt.show()"
      ],
      "execution_count": 1,
      "outputs": [
        {
          "output_type": "display_data",
          "data": {
            "image/png": "[encoded data removed]",
            "text/plain": [
              "<Figure size 432x288 with 1 Axes>"
            ]
          },
          "metadata": {
            "tags": []
          }
        }
      ]
    },
    {
      "cell_type": "markdown",
      "metadata": {
        "id": "dx3k7b50VHY9",
        "colab_type": "text"
      },
      "source": [
        "**Linear Regression Problem 1**\n",
        "<br> Fever value can go negative (below 0) and positive (above 1).\n"
      ]
    },
    {
      "cell_type": "code",
      "metadata": {
        "id": "XmUQFEu1VHY-",
        "colab_type": "code",
        "colab": {
          "base_uri": "https://localhost:8080/",
          "height": 279
        },
        "outputId": "d88d97c3-113c-4ca8-bd88-ff59427743b8"
      },
      "source": [
        "import numpy as np\n",
        "import matplotlib.pyplot as plt\n",
        "\n",
        "x = [1, 5, 10, 10, 25, 50, 70, 75, 300]\n",
        "y = [0, 0, 0, 0, 0, 1, 1, 1, 1]\n",
        "\n",
        "colors = np.random.rand(len(x))\n",
        "plt.plot(np.unique(x), np.poly1d(np.polyfit(x, y, 1))(np.unique(x)))\n",
        "plt.ylabel(\"Fever\")\n",
        "plt.xlabel(\"Temperature\")\n",
        "\n",
        "plt.scatter(x, y, c=colors, alpha=0.5)\n",
        "plt.show()"
      ],
      "execution_count": 2,
      "outputs": [
        {
          "output_type": "display_data",
          "data": {
            "image/png": "[encoded data removed]",
            "text/plain": [
              "<Figure size 432x288 with 1 Axes>"
            ]
          },
          "metadata": {
            "tags": []
          }
        }
      ]
    },
    {
      "cell_type": "markdown",
      "metadata": {
        "id": "0JmDkYtJVHZD",
        "colab_type": "text"
      },
      "source": [
        "**Linear Regression Problem 2**\n",
        "<br> Fever points not predicted with outliers."
      ]
    },
    {
      "cell_type": "markdown",
      "metadata": {
        "id": "BsPuLFxMVHZE",
        "colab_type": "text"
      },
      "source": [
        "### 1.3 Logistic Regression In-Depth\n",
        "\n",
        "#### Predicting Probability\n",
        "- Linear regression doesn't work\n",
        "- Instead of predicting direct values: **predict probability**\n",
        "\n",
        "<img src=\"https://github.com/ritchieng/deep-learning-wizard/blob/master/docs/deep_learning/practical_pytorch/images/cross_entropy_final_4.png?raw=1\" alt=\"deeplearningwizard\" style=\"width: 900px;\"/>\n",
        "\n",
        "#### Logistic Function $g()$ \n",
        "- Two-class logistic regression\n",
        "- $ y = A x + b$\n",
        "- $ g(y) = A x + b $\n",
        "- $g(y) = \\frac {1} {1 + e^{-y}} = \\frac {1} {1 + e^{-(A x + b)}}$\n",
        "- $g(y)$ = Estimated probability that $y = 1$ given $x$\n",
        "\n",
        "\n",
        "#### Softmax Function $g()$ \n",
        "- Multi-class logistic regression\n",
        "- Generalization of logistic function\n"
      ]
    },
    {
      "cell_type": "markdown",
      "metadata": {
        "id": "HxQWJw8KVHZG",
        "colab_type": "text"
      },
      "source": [
        "#### Cross Entropy Function $D()$\n",
        "- $D(S, L) = L log S - (1-L)log(1-S)$\n",
        "    - If L = 0 (label)\n",
        "        - $D(S, 0) = - log(1-S)$\n",
        "            - $- log(1-S)$: less positive if $S \\longrightarrow 0 $\n",
        "            - $- log(1-S)$: more positive if $S \\longrightarrow 1 $ (BIGGER LOSS)\n",
        "    - If L = 1 (label)\n",
        "        - $D(S, 1) = log S$\n",
        "            - $logS$: less negative if $S \\longrightarrow 1 $\n",
        "            - $logS$: more negative if $S \\longrightarrow 0 $ (BIGGER LOSS)"
      ]
    },
    {
      "cell_type": "code",
      "metadata": {
        "id": "bH-Qo8MZVHZL",
        "colab_type": "code",
        "colab": {
          "base_uri": "https://localhost:8080/",
          "height": 85
        },
        "outputId": "c3f77df0-74fc-4497-b8be-28626f08c91e"
      },
      "source": [
        "import math\n",
        "print(-math.log(1 - 0.00001))\n",
        "print(-math.log(1 - 0.99999))\n",
        "\n",
        "print(math.log(0.99999))\n",
        "print(math.log(0.00001))"
      ],
      "execution_count": 3,
      "outputs": [
        {
          "output_type": "stream",
          "text": [
            "1.0000050000287824e-05\n",
            "11.51292546497478\n",
            "-1.0000050000287824e-05\n",
            "-11.512925464970229\n"
          ],
          "name": "stdout"
        }
      ]
    },
    {
      "cell_type": "markdown",
      "metadata": {
        "id": "LXSsoKt8VHZS",
        "colab_type": "text"
      },
      "source": [
        "#### Cross Entropy Loss $L$\n",
        "- Goal: Minimizing Cross Entropy Loss\n",
        "- $ L = \\frac {1}{N} \\sum_i D(g(Ax_i + b), L_i)$"
      ]
    },
    {
      "cell_type": "markdown",
      "metadata": {
        "id": "GiX2TKygVHZT",
        "colab_type": "text"
      },
      "source": [
        "## 2. Building a Logistic Regression Model with PyTorch\n",
        "\n",
        "<img src=\"https://github.com/ritchieng/deep-learning-wizard/blob/master/docs/deep_learning/practical_pytorch/images/lr2.png?raw=1\" alt=\"deeplearningwizard\" style=\"width: 900px;\"/>\n",
        "\n",
        "### Steps\n",
        "- Step 1: Load Dataset\n",
        "- Step 2: Make Dataset Iterable\n",
        "- Step 3: Create Model Class\n",
        "- Step 4: Instantiate Model Class\n",
        "- Step 5: Instantiate Loss Class\n",
        "- Step 6: Instantiate Optimizer Class\n",
        "- Step 7: Train Model"
      ]
    },
    {
      "cell_type": "markdown",
      "metadata": {
        "id": "TPBAFPeTVHZV",
        "colab_type": "text"
      },
      "source": [
        "### Step 1a: Loading MNIST Train Dataset\n",
        "**Images from 1 to 9**"
      ]
    },
    {
      "cell_type": "code",
      "metadata": {
        "id": "VCBcfZ-QVHZW",
        "colab_type": "code",
        "colab": {}
      },
      "source": [
        "import torch\n",
        "import torch.nn as nn\n",
        "import torchvision.transforms as transforms\n",
        "import torchvision.datasets as dsets"
      ],
      "execution_count": 0,
      "outputs": []
    },
    {
      "cell_type": "code",
      "metadata": {
        "id": "h0iLZ5TOVHZa",
        "colab_type": "code",
        "colab": {}
      },
      "source": [
        "train_dataset = dsets.MNIST(root='./data', \n",
        "                            train=True, \n",
        "                            transform=transforms.ToTensor(),\n",
        "                            download=True)"
      ],
      "execution_count": 0,
      "outputs": []
    },
    {
      "cell_type": "code",
      "metadata": {
        "id": "cBaeUs_sVHZe",
        "colab_type": "code",
        "colab": {
          "base_uri": "https://localhost:8080/",
          "height": 34
        },
        "outputId": "cdde52fd-ac6b-45c5-a62d-697b6ec1cfd7"
      },
      "source": [
        "len(train_dataset)"
      ],
      "execution_count": 6,
      "outputs": [
        {
          "output_type": "execute_result",
          "data": {
            "text/plain": [
              "60000"
            ]
          },
          "metadata": {
            "tags": []
          },
          "execution_count": 6
        }
      ]
    },
    {
      "cell_type": "code",
      "metadata": {
        "id": "3Zm23JPHVHZm",
        "colab_type": "code",
        "colab": {
          "base_uri": "https://localhost:8080/",
          "height": 1000
        },
        "outputId": "647c6b66-e117-457b-c68d-63e366baa9a1"
      },
      "source": [
        "train_dataset[0]"
      ],
      "execution_count": 7,
      "outputs": [
        {
          "output_type": "execute_result",
          "data": {
            "text/plain": [
              "(tensor([[[0.0000, 0.0000, 0.0000, 0.0000, 0.0000, 0.0000, 0.0000, 0.0000,\n",
              "           0.0000, 0.0000, 0.0000, 0.0000, 0.0000, 0.0000, 0.0000, 0.0000,\n",
              "           0.0000, 0.0000, 0.0000, 0.0000, 0.0000, 0.0000, 0.0000, 0.0000,\n",
              "           0.0000, 0.0000, 0.0000, 0.0000],\n",
              "          [0.0000, 0.0000, 0.0000, 0.0000, 0.0000, 0.0000, 0.0000, 0.0000,\n",
              "           0.0000, 0.0000, 0.0000, 0.0000, 0.0000, 0.0000, 0.0000, 0.0000,\n",
              "           0.0000, 0.0000, 0.0000, 0.0000, 0.0000, 0.0000, 0.0000, 0.0000,\n",
              "           0.0000, 0.0000, 0.0000, 0.0000],\n",
              "          [0.0000, 0.0000, 0.0000, 0.0000, 0.0000, 0.0000, 0.0000, 0.0000,\n",
              "           0.0000, 0.0000, 0.0000, 0.0000, 0.0000, 0.0000, 0.0000, 0.0000,\n",
              "           0.0000, 0.0000, 0.0000, 0.0000, 0.0000, 0.0000, 0.0000, 0.0000,\n",
              "           0.0000, 0.0000, 0.0000, 0.0000],\n",
              "          [0.0000, 0.0000, 0.0000, 0.0000, 0.0000, 0.0000, 0.0000, 0.0000,\n",
              "           0.0000, 0.0000, 0.0000, 0.0000, 0.0000, 0.0000, 0.0000, 0.0000,\n",
              "           0.0000, 0.0000, 0.0000, 0.0000, 0.0000, 0.0000, 0.0000, 0.0000,\n",
              "           0.0000, 0.0000, 0.0000, 0.0000],\n",
              "          [0.0000, 0.0000, 0.0000, 0.0000, 0.0000, 0.0000, 0.0000, 0.0000,\n",
              "           0.0000, 0.0000, 0.0000, 0.0000, 0.0000, 0.0000, 0.0000, 0.0000,\n",
              "           0.0000, 0.0000, 0.0000, 0.0000, 0.0000, 0.0000, 0.0000, 0.0000,\n",
              "           0.0000, 0.0000, 0.0000, 0.0000],\n",
              "          [0.0000, 0.0000, 0.0000, 0.0000, 0.0000, 0.0000, 0.0000, 0.0000,\n",
              "           0.0000, 0.0000, 0.0000, 0.0000, 0.0118, 0.0706, 0.0706, 0.0706,\n",
              "           0.4941, 0.5333, 0.6863, 0.1020, 0.6510, 1.0000, 0.9686, 0.4980,\n",
              "           0.0000, 0.0000, 0.0000, 0.0000],\n",
              "          [0.0000, 0.0000, 0.0000, 0.0000, 0.0000, 0.0000, 0.0000, 0.0000,\n",
              "           0.1176, 0.1412, 0.3686, 0.6039, 0.6667, 0.9922, 0.9922, 0.9922,\n",
              "           0.9922, 0.9922, 0.8824, 0.6745, 0.9922, 0.9490, 0.7647, 0.2510,\n",
              "           0.0000, 0.0000, 0.0000, 0.0000],\n",
              "          [0.0000, 0.0000, 0.0000, 0.0000, 0.0000, 0.0000, 0.0000, 0.1922,\n",
              "           0.9333, 0.9922, 0.9922, 0.9922, 0.9922, 0.9922, 0.9922, 0.9922,\n",
              "           0.9922, 0.9843, 0.3647, 0.3216, 0.3216, 0.2196, 0.1529, 0.0000,\n",
              "           0.0000, 0.0000, 0.0000, 0.0000],\n",
              "          [0.0000, 0.0000, 0.0000, 0.0000, 0.0000, 0.0000, 0.0000, 0.0706,\n",
              "           0.8588, 0.9922, 0.9922, 0.9922, 0.9922, 0.9922, 0.7765, 0.7137,\n",
              "           0.9686, 0.9451, 0.0000, 0.0000, 0.0000, 0.0000, 0.0000, 0.0000,\n",
              "           0.0000, 0.0000, 0.0000, 0.0000],\n",
              "          [0.0000, 0.0000, 0.0000, 0.0000, 0.0000, 0.0000, 0.0000, 0.0000,\n",
              "           0.3137, 0.6118, 0.4196, 0.9922, 0.9922, 0.8039, 0.0431, 0.0000,\n",
              "           0.1686, 0.6039, 0.0000, 0.0000, 0.0000, 0.0000, 0.0000, 0.0000,\n",
              "           0.0000, 0.0000, 0.0000, 0.0000],\n",
              "          [0.0000, 0.0000, 0.0000, 0.0000, 0.0000, 0.0000, 0.0000, 0.0000,\n",
              "           0.0000, 0.0549, 0.0039, 0.6039, 0.9922, 0.3529, 0.0000, 0.0000,\n",
              "           0.0000, 0.0000, 0.0000, 0.0000, 0.0000, 0.0000, 0.0000, 0.0000,\n",
              "           0.0000, 0.0000, 0.0000, 0.0000],\n",
              "          [0.0000, 0.0000, 0.0000, 0.0000, 0.0000, 0.0000, 0.0000, 0.0000,\n",
              "           0.0000, 0.0000, 0.0000, 0.5451, 0.9922, 0.7451, 0.0078, 0.0000,\n",
              "           0.0000, 0.0000, 0.0000, 0.0000, 0.0000, 0.0000, 0.0000, 0.0000,\n",
              "           0.0000, 0.0000, 0.0000, 0.0000],\n",
              "          [0.0000, 0.0000, 0.0000, 0.0000, 0.0000, 0.0000, 0.0000, 0.0000,\n",
              "           0.0000, 0.0000, 0.0000, 0.0431, 0.7451, 0.9922, 0.2745, 0.0000,\n",
              "           0.0000, 0.0000, 0.0000, 0.0000, 0.0000, 0.0000, 0.0000, 0.0000,\n",
              "           0.0000, 0.0000, 0.0000, 0.0000],\n",
              "          [0.0000, 0.0000, 0.0000, 0.0000, 0.0000, 0.0000, 0.0000, 0.0000,\n",
              "           0.0000, 0.0000, 0.0000, 0.0000, 0.1373, 0.9451, 0.8824, 0.6275,\n",
              "           0.4235, 0.0039, 0.0000, 0.0000, 0.0000, 0.0000, 0.0000, 0.0000,\n",
              "           0.0000, 0.0000, 0.0000, 0.0000],\n",
              "          [0.0000, 0.0000, 0.0000, 0.0000, 0.0000, 0.0000, 0.0000, 0.0000,\n",
              "           0.0000, 0.0000, 0.0000, 0.0000, 0.0000, 0.3176, 0.9412, 0.9922,\n",
              "           0.9922, 0.4667, 0.0980, 0.0000, 0.0000, 0.0000, 0.0000, 0.0000,\n",
              "           0.0000, 0.0000, 0.0000, 0.0000],\n",
              "          [0.0000, 0.0000, 0.0000, 0.0000, 0.0000, 0.0000, 0.0000, 0.0000,\n",
              "           0.0000, 0.0000, 0.0000, 0.0000, 0.0000, 0.0000, 0.1765, 0.7294,\n",
              "           0.9922, 0.9922, 0.5882, 0.1059, 0.0000, 0.0000, 0.0000, 0.0000,\n",
              "           0.0000, 0.0000, 0.0000, 0.0000],\n",
              "          [0.0000, 0.0000, 0.0000, 0.0000, 0.0000, 0.0000, 0.0000, 0.0000,\n",
              "           0.0000, 0.0000, 0.0000, 0.0000, 0.0000, 0.0000, 0.0000, 0.0627,\n",
              "           0.3647, 0.9882, 0.9922, 0.7333, 0.0000, 0.0000, 0.0000, 0.0000,\n",
              "           0.0000, 0.0000, 0.0000, 0.0000],\n",
              "          [0.0000, 0.0000, 0.0000, 0.0000, 0.0000, 0.0000, 0.0000, 0.0000,\n",
              "           0.0000, 0.0000, 0.0000, 0.0000, 0.0000, 0.0000, 0.0000, 0.0000,\n",
              "           0.0000, 0.9765, 0.9922, 0.9765, 0.2510, 0.0000, 0.0000, 0.0000,\n",
              "           0.0000, 0.0000, 0.0000, 0.0000],\n",
              "          [0.0000, 0.0000, 0.0000, 0.0000, 0.0000, 0.0000, 0.0000, 0.0000,\n",
              "           0.0000, 0.0000, 0.0000, 0.0000, 0.0000, 0.0000, 0.1804, 0.5098,\n",
              "           0.7176, 0.9922, 0.9922, 0.8118, 0.0078, 0.0000, 0.0000, 0.0000,\n",
              "           0.0000, 0.0000, 0.0000, 0.0000],\n",
              "          [0.0000, 0.0000, 0.0000, 0.0000, 0.0000, 0.0000, 0.0000, 0.0000,\n",
              "           0.0000, 0.0000, 0.0000, 0.0000, 0.1529, 0.5804, 0.8980, 0.9922,\n",
              "           0.9922, 0.9922, 0.9804, 0.7137, 0.0000, 0.0000, 0.0000, 0.0000,\n",
              "           0.0000, 0.0000, 0.0000, 0.0000],\n",
              "          [0.0000, 0.0000, 0.0000, 0.0000, 0.0000, 0.0000, 0.0000, 0.0000,\n",
              "           0.0000, 0.0000, 0.0941, 0.4471, 0.8667, 0.9922, 0.9922, 0.9922,\n",
              "           0.9922, 0.7882, 0.3059, 0.0000, 0.0000, 0.0000, 0.0000, 0.0000,\n",
              "           0.0000, 0.0000, 0.0000, 0.0000],\n",
              "          [0.0000, 0.0000, 0.0000, 0.0000, 0.0000, 0.0000, 0.0000, 0.0000,\n",
              "           0.0902, 0.2588, 0.8353, 0.9922, 0.9922, 0.9922, 0.9922, 0.7765,\n",
              "           0.3176, 0.0078, 0.0000, 0.0000, 0.0000, 0.0000, 0.0000, 0.0000,\n",
              "           0.0000, 0.0000, 0.0000, 0.0000],\n",
              "          [0.0000, 0.0000, 0.0000, 0.0000, 0.0000, 0.0000, 0.0706, 0.6706,\n",
              "           0.8588, 0.9922, 0.9922, 0.9922, 0.9922, 0.7647, 0.3137, 0.0353,\n",
              "           0.0000, 0.0000, 0.0000, 0.0000, 0.0000, 0.0000, 0.0000, 0.0000,\n",
              "           0.0000, 0.0000, 0.0000, 0.0000],\n",
              "          [0.0000, 0.0000, 0.0000, 0.0000, 0.2157, 0.6745, 0.8863, 0.9922,\n",
              "           0.9922, 0.9922, 0.9922, 0.9569, 0.5216, 0.0431, 0.0000, 0.0000,\n",
              "           0.0000, 0.0000, 0.0000, 0.0000, 0.0000, 0.0000, 0.0000, 0.0000,\n",
              "           0.0000, 0.0000, 0.0000, 0.0000],\n",
              "          [0.0000, 0.0000, 0.0000, 0.0000, 0.5333, 0.9922, 0.9922, 0.9922,\n",
              "           0.8314, 0.5294, 0.5176, 0.0627, 0.0000, 0.0000, 0.0000, 0.0000,\n",
              "           0.0000, 0.0000, 0.0000, 0.0000, 0.0000, 0.0000, 0.0000, 0.0000,\n",
              "           0.0000, 0.0000, 0.0000, 0.0000],\n",
              "          [0.0000, 0.0000, 0.0000, 0.0000, 0.0000, 0.0000, 0.0000, 0.0000,\n",
              "           0.0000, 0.0000, 0.0000, 0.0000, 0.0000, 0.0000, 0.0000, 0.0000,\n",
              "           0.0000, 0.0000, 0.0000, 0.0000, 0.0000, 0.0000, 0.0000, 0.0000,\n",
              "           0.0000, 0.0000, 0.0000, 0.0000],\n",
              "          [0.0000, 0.0000, 0.0000, 0.0000, 0.0000, 0.0000, 0.0000, 0.0000,\n",
              "           0.0000, 0.0000, 0.0000, 0.0000, 0.0000, 0.0000, 0.0000, 0.0000,\n",
              "           0.0000, 0.0000, 0.0000, 0.0000, 0.0000, 0.0000, 0.0000, 0.0000,\n",
              "           0.0000, 0.0000, 0.0000, 0.0000],\n",
              "          [0.0000, 0.0000, 0.0000, 0.0000, 0.0000, 0.0000, 0.0000, 0.0000,\n",
              "           0.0000, 0.0000, 0.0000, 0.0000, 0.0000, 0.0000, 0.0000, 0.0000,\n",
              "           0.0000, 0.0000, 0.0000, 0.0000, 0.0000, 0.0000, 0.0000, 0.0000,\n",
              "           0.0000, 0.0000, 0.0000, 0.0000]]]), 5)"
            ]
          },
          "metadata": {
            "tags": []
          },
          "execution_count": 7
        }
      ]
    },
    {
      "cell_type": "code",
      "metadata": {
        "id": "tenm_nOOVHZq",
        "colab_type": "code",
        "colab": {
          "base_uri": "https://localhost:8080/",
          "height": 34
        },
        "outputId": "bc03090c-9939-4155-93a5-e1a990291ae8"
      },
      "source": [
        "type(train_dataset[0])"
      ],
      "execution_count": 8,
      "outputs": [
        {
          "output_type": "execute_result",
          "data": {
            "text/plain": [
              "tuple"
            ]
          },
          "metadata": {
            "tags": []
          },
          "execution_count": 8
        }
      ]
    },
    {
      "cell_type": "code",
      "metadata": {
        "id": "s7fSZPJxVHZv",
        "colab_type": "code",
        "colab": {
          "base_uri": "https://localhost:8080/",
          "height": 34
        },
        "outputId": "6735289e-3ac8-4a0b-e797-3f4d2aeff8e2"
      },
      "source": [
        "# Input Matrix\n",
        "train_dataset[0][0].size()"
      ],
      "execution_count": 9,
      "outputs": [
        {
          "output_type": "execute_result",
          "data": {
            "text/plain": [
              "torch.Size([1, 28, 28])"
            ]
          },
          "metadata": {
            "tags": []
          },
          "execution_count": 9
        }
      ]
    },
    {
      "cell_type": "code",
      "metadata": {
        "id": "KMo8rYqnVHZz",
        "colab_type": "code",
        "colab": {
          "base_uri": "https://localhost:8080/",
          "height": 34
        },
        "outputId": "95bab0e1-2216-42cd-8367-9bc968111093"
      },
      "source": [
        "# Label\n",
        "train_dataset[0][1]"
      ],
      "execution_count": 10,
      "outputs": [
        {
          "output_type": "execute_result",
          "data": {
            "text/plain": [
              "5"
            ]
          },
          "metadata": {
            "tags": []
          },
          "execution_count": 10
        }
      ]
    },
    {
      "cell_type": "markdown",
      "metadata": {
        "id": "y9MXmwMDVHZ3",
        "colab_type": "text"
      },
      "source": [
        "#### Displaying MNIST"
      ]
    },
    {
      "cell_type": "code",
      "metadata": {
        "id": "nE2Ff6jqVHZ4",
        "colab_type": "code",
        "colab": {}
      },
      "source": [
        "import matplotlib.pyplot as plt\n",
        "%matplotlib inline  \n",
        "import numpy as np"
      ],
      "execution_count": 0,
      "outputs": []
    },
    {
      "cell_type": "code",
      "metadata": {
        "id": "CfqVlA0YVHZ8",
        "colab_type": "code",
        "colab": {
          "base_uri": "https://localhost:8080/",
          "height": 34
        },
        "outputId": "2dffb48d-db9a-431d-e52f-57f8777671b6"
      },
      "source": [
        "train_dataset[0][0].numpy().shape"
      ],
      "execution_count": 12,
      "outputs": [
        {
          "output_type": "execute_result",
          "data": {
            "text/plain": [
              "(1, 28, 28)"
            ]
          },
          "metadata": {
            "tags": []
          },
          "execution_count": 12
        }
      ]
    },
    {
      "cell_type": "code",
      "metadata": {
        "id": "wVRbKT7dVHaB",
        "colab_type": "code",
        "colab": {}
      },
      "source": [
        "show_img = train_dataset[0][0].numpy().reshape(28, 28)"
      ],
      "execution_count": 0,
      "outputs": []
    },
    {
      "cell_type": "code",
      "metadata": {
        "id": "RzeozNM_VHaF",
        "colab_type": "code",
        "colab": {
          "base_uri": "https://localhost:8080/",
          "height": 282
        },
        "outputId": "f35e63cd-8116-438e-f385-4b770c8cae4c"
      },
      "source": [
        "plt.imshow(show_img, cmap='gray')"
      ],
      "execution_count": 14,
      "outputs": [
        {
          "output_type": "execute_result",
          "data": {
            "text/plain": [
              "<matplotlib.image.AxesImage at 0x7ff4849e5320>"
            ]
          },
          "metadata": {
            "tags": []
          },
          "execution_count": 14
        },
        {
          "output_type": "display_data",
          "data": {
            "image/png": "[encoded data removed]",
            "text/plain": [
              "<Figure size 432x288 with 1 Axes>"
            ]
          },
          "metadata": {
            "tags": []
          }
        }
      ]
    },
    {
      "cell_type": "code",
      "metadata": {
        "id": "7HqVnvyoVHaI",
        "colab_type": "code",
        "colab": {
          "base_uri": "https://localhost:8080/",
          "height": 34
        },
        "outputId": "f6b1b4b8-e7d9-4761-8d18-5ec3cbefac61"
      },
      "source": [
        "# Label\n",
        "train_dataset[0][1]"
      ],
      "execution_count": 15,
      "outputs": [
        {
          "output_type": "execute_result",
          "data": {
            "text/plain": [
              "5"
            ]
          },
          "metadata": {
            "tags": []
          },
          "execution_count": 15
        }
      ]
    },
    {
      "cell_type": "code",
      "metadata": {
        "id": "SLjFdss9VHaN",
        "colab_type": "code",
        "colab": {}
      },
      "source": [
        "show_img = train_dataset[1][0].numpy().reshape(28, 28)"
      ],
      "execution_count": 0,
      "outputs": []
    },
    {
      "cell_type": "code",
      "metadata": {
        "id": "j3Kx2At_VHaS",
        "colab_type": "code",
        "colab": {
          "base_uri": "https://localhost:8080/",
          "height": 282
        },
        "outputId": "d04b376a-3294-4141-beb7-a1832d5e3d4a"
      },
      "source": [
        "plt.imshow(show_img, cmap='gray')"
      ],
      "execution_count": 17,
      "outputs": [
        {
          "output_type": "execute_result",
          "data": {
            "text/plain": [
              "<matplotlib.image.AxesImage at 0x7ff4cc7a02b0>"
            ]
          },
          "metadata": {
            "tags": []
          },
          "execution_count": 17
        },
        {
          "output_type": "display_data",
          "data": {
            "image/png": "[encoded data removed]",
            "text/plain": [
              "<Figure size 432x288 with 1 Axes>"
            ]
          },
          "metadata": {
            "tags": []
          }
        }
      ]
    },
    {
      "cell_type": "code",
      "metadata": {
        "id": "liawzVYWVHaZ",
        "colab_type": "code",
        "colab": {
          "base_uri": "https://localhost:8080/",
          "height": 34
        },
        "outputId": "8cdc0c27-bc29-4e19-ac13-1eabfbf4e127"
      },
      "source": [
        "# Label\n",
        "train_dataset[1][1]"
      ],
      "execution_count": 18,
      "outputs": [
        {
          "output_type": "execute_result",
          "data": {
            "text/plain": [
              "0"
            ]
          },
          "metadata": {
            "tags": []
          },
          "execution_count": 18
        }
      ]
    },
    {
      "cell_type": "markdown",
      "metadata": {
        "id": "kyux9ufuVHai",
        "colab_type": "text"
      },
      "source": [
        "### Step 1b: Loading MNIST Test Dataset\n",
        "- Show our algorithm works beyond the data we have trained on.\n",
        "- Out-of-sample"
      ]
    },
    {
      "cell_type": "code",
      "metadata": {
        "id": "6vrZBessVHal",
        "colab_type": "code",
        "colab": {}
      },
      "source": [
        "test_dataset = dsets.MNIST(root='./data', \n",
        "                           train=False, \n",
        "                           transform=transforms.ToTensor())"
      ],
      "execution_count": 0,
      "outputs": []
    },
    {
      "cell_type": "code",
      "metadata": {
        "id": "6ZsWxPa1VHap",
        "colab_type": "code",
        "colab": {
          "base_uri": "https://localhost:8080/",
          "height": 34
        },
        "outputId": "4bac63e9-6f73-4526-a9f3-789bab834344"
      },
      "source": [
        "len(test_dataset)"
      ],
      "execution_count": 20,
      "outputs": [
        {
          "output_type": "execute_result",
          "data": {
            "text/plain": [
              "10000"
            ]
          },
          "metadata": {
            "tags": []
          },
          "execution_count": 20
        }
      ]
    },
    {
      "cell_type": "code",
      "metadata": {
        "id": "tlO007XjVHas",
        "colab_type": "code",
        "colab": {
          "base_uri": "https://localhost:8080/",
          "height": 34
        },
        "outputId": "bf8b90f3-05d4-4f4d-945f-5b093f754460"
      },
      "source": [
        "type(test_dataset[0])"
      ],
      "execution_count": 21,
      "outputs": [
        {
          "output_type": "execute_result",
          "data": {
            "text/plain": [
              "tuple"
            ]
          },
          "metadata": {
            "tags": []
          },
          "execution_count": 21
        }
      ]
    },
    {
      "cell_type": "code",
      "metadata": {
        "id": "7BvPcgupVHaw",
        "colab_type": "code",
        "colab": {
          "base_uri": "https://localhost:8080/",
          "height": 34
        },
        "outputId": "852b0364-e0e7-465c-f6de-dafdeffb7dae"
      },
      "source": [
        "# Image matrix\n",
        "test_dataset[0][0].size()"
      ],
      "execution_count": 22,
      "outputs": [
        {
          "output_type": "execute_result",
          "data": {
            "text/plain": [
              "torch.Size([1, 28, 28])"
            ]
          },
          "metadata": {
            "tags": []
          },
          "execution_count": 22
        }
      ]
    },
    {
      "cell_type": "code",
      "metadata": {
        "id": "ZK53R48uVHa0",
        "colab_type": "code",
        "colab": {
          "base_uri": "https://localhost:8080/",
          "height": 282
        },
        "outputId": "a4aa2415-5e1d-48ae-c6e5-44fa97ad545a"
      },
      "source": [
        "show_img = test_dataset[0][0].numpy().reshape(28, 28)\n",
        "plt.imshow(show_img, cmap='gray')"
      ],
      "execution_count": 23,
      "outputs": [
        {
          "output_type": "execute_result",
          "data": {
            "text/plain": [
              "<matplotlib.image.AxesImage at 0x7ff4cc852ba8>"
            ]
          },
          "metadata": {
            "tags": []
          },
          "execution_count": 23
        },
        {
          "output_type": "display_data",
          "data": {
            "image/png": "[encoded data removed]",
            "text/plain": [
              "<Figure size 432x288 with 1 Axes>"
            ]
          },
          "metadata": {
            "tags": []
          }
        }
      ]
    },
    {
      "cell_type": "code",
      "metadata": {
        "id": "nSWSOkYGVHa4",
        "colab_type": "code",
        "colab": {
          "base_uri": "https://localhost:8080/",
          "height": 34
        },
        "outputId": "0fc2cae9-5e80-4789-ca38-1533d78c2c41"
      },
      "source": [
        "# Label\n",
        "test_dataset[0][1]"
      ],
      "execution_count": 24,
      "outputs": [
        {
          "output_type": "execute_result",
          "data": {
            "text/plain": [
              "7"
            ]
          },
          "metadata": {
            "tags": []
          },
          "execution_count": 24
        }
      ]
    },
    {
      "cell_type": "markdown",
      "metadata": {
        "id": "6_jW5er2VHa7",
        "colab_type": "text"
      },
      "source": [
        "### Step 2: Make Dataset Iterable\n",
        "- Aim: make the dataset iterable\n",
        "- **totaldata**: 60000\n",
        "- **minibatch**: 100\n",
        "    - Number of examples in 1 iteration\n",
        "- **iterations**: 3000\n",
        "    - 1 iteration: one mini-batch forward & backward pass\n",
        "- **epochs**\n",
        "    - 1 epoch: running through the whole dataset once\n",
        "    - $epochs = iterations \\div \\frac{totaldata}{minibatch} = 3000 \\div \\frac{60000}{100} = 5 $\n",
        "    "
      ]
    },
    {
      "cell_type": "code",
      "metadata": {
        "id": "j2rC3yccVHa8",
        "colab_type": "code",
        "colab": {
          "base_uri": "https://localhost:8080/",
          "height": 34
        },
        "outputId": "0696771e-b71f-4628-b8dd-b9d3859f0959"
      },
      "source": [
        "len(train_dataset)"
      ],
      "execution_count": 25,
      "outputs": [
        {
          "output_type": "execute_result",
          "data": {
            "text/plain": [
              "60000"
            ]
          },
          "metadata": {
            "tags": []
          },
          "execution_count": 25
        }
      ]
    },
    {
      "cell_type": "code",
      "metadata": {
        "id": "Msfr1F0hVHa_",
        "colab_type": "code",
        "colab": {}
      },
      "source": [
        "batch_size = 100"
      ],
      "execution_count": 0,
      "outputs": []
    },
    {
      "cell_type": "code",
      "metadata": {
        "id": "1rqTeRs4VHbE",
        "colab_type": "code",
        "colab": {}
      },
      "source": [
        "n_iters = 3000"
      ],
      "execution_count": 0,
      "outputs": []
    },
    {
      "cell_type": "code",
      "metadata": {
        "id": "W3txsZ2lVHbJ",
        "colab_type": "code",
        "colab": {
          "base_uri": "https://localhost:8080/",
          "height": 34
        },
        "outputId": "026f8ead-efbc-4855-eade-763a7a8ea665"
      },
      "source": [
        "num_epochs = n_iters / (len(train_dataset) / batch_size)\n",
        "num_epochs = int(num_epochs)\n",
        "num_epochs"
      ],
      "execution_count": 28,
      "outputs": [
        {
          "output_type": "execute_result",
          "data": {
            "text/plain": [
              "5"
            ]
          },
          "metadata": {
            "tags": []
          },
          "execution_count": 28
        }
      ]
    },
    {
      "cell_type": "markdown",
      "metadata": {
        "id": "hIQundvZVHbQ",
        "colab_type": "text"
      },
      "source": [
        "#### Create Iterable Object: Training Dataset"
      ]
    },
    {
      "cell_type": "code",
      "metadata": {
        "id": "cf9RztohVHbR",
        "colab_type": "code",
        "colab": {}
      },
      "source": [
        "train_loader = torch.utils.data.DataLoader(dataset=train_dataset, \n",
        "                                           batch_size=batch_size, \n",
        "                                           shuffle=True)"
      ],
      "execution_count": 0,
      "outputs": []
    },
    {
      "cell_type": "markdown",
      "metadata": {
        "id": "Aw6_Q2G_VHbY",
        "colab_type": "text"
      },
      "source": [
        "#### Check Iterability"
      ]
    },
    {
      "cell_type": "code",
      "metadata": {
        "id": "jRTmMdOiVHbZ",
        "colab_type": "code",
        "colab": {
          "base_uri": "https://localhost:8080/",
          "height": 34
        },
        "outputId": "cae27b15-461a-4506-e6f8-c2d6e791ac0e"
      },
      "source": [
        "import collections\n",
        "isinstance(train_loader, collections.Iterable)"
      ],
      "execution_count": 30,
      "outputs": [
        {
          "output_type": "execute_result",
          "data": {
            "text/plain": [
              "True"
            ]
          },
          "metadata": {
            "tags": []
          },
          "execution_count": 30
        }
      ]
    },
    {
      "cell_type": "markdown",
      "metadata": {
        "id": "PZ8iv8iBVHbf",
        "colab_type": "text"
      },
      "source": [
        "#### Create Iterable Object: Testing Dataset"
      ]
    },
    {
      "cell_type": "code",
      "metadata": {
        "id": "fM4Iq-MYVHbg",
        "colab_type": "code",
        "colab": {}
      },
      "source": [
        "# Iterable object\n",
        "test_loader = torch.utils.data.DataLoader(dataset=test_dataset, \n",
        "                                          batch_size=batch_size, \n",
        "                                          shuffle=False)"
      ],
      "execution_count": 0,
      "outputs": []
    },
    {
      "cell_type": "markdown",
      "metadata": {
        "id": "RmK6mxWBVHbk",
        "colab_type": "text"
      },
      "source": [
        "#### Check Iterability"
      ]
    },
    {
      "cell_type": "code",
      "metadata": {
        "id": "FE8zIMMUVHbl",
        "colab_type": "code",
        "colab": {
          "base_uri": "https://localhost:8080/",
          "height": 34
        },
        "outputId": "ba1483e3-8b62-4a7c-abfe-449297e30310"
      },
      "source": [
        "isinstance(test_loader, collections.Iterable)"
      ],
      "execution_count": 32,
      "outputs": [
        {
          "output_type": "execute_result",
          "data": {
            "text/plain": [
              "True"
            ]
          },
          "metadata": {
            "tags": []
          },
          "execution_count": 32
        }
      ]
    },
    {
      "cell_type": "markdown",
      "metadata": {
        "id": "_-8sEFmaVHb1",
        "colab_type": "text"
      },
      "source": [
        "### Step 3: Building Model"
      ]
    },
    {
      "cell_type": "code",
      "metadata": {
        "id": "ZbUZl4muVHb1",
        "colab_type": "code",
        "colab": {}
      },
      "source": [
        "# Same as linear regression! \n",
        "class LogisticRegressionModel(nn.Module):\n",
        "    def __init__(self, input_dim, output_dim):\n",
        "        super(LogisticRegressionModel, self).__init__()\n",
        "        self.linear = nn.Linear(input_dim, output_dim)\n",
        "    \n",
        "    def forward(self, x):\n",
        "        out = self.linear(x)\n",
        "        return out"
      ],
      "execution_count": 0,
      "outputs": []
    },
    {
      "cell_type": "markdown",
      "metadata": {
        "id": "2vKBAnmIVHb4",
        "colab_type": "text"
      },
      "source": [
        "### Step 4: Instantiate Model Class\n",
        "- Input dimension: \n",
        "    - Size of image\n",
        "    - $28 \\times 28 = 784$\n",
        "- Output dimension: 10\n",
        "    - 0, 1, 2, 3, 4, 5, 6, 7, 8, 9"
      ]
    },
    {
      "cell_type": "code",
      "metadata": {
        "id": "Y-AxYc14VHb5",
        "colab_type": "code",
        "colab": {
          "base_uri": "https://localhost:8080/",
          "height": 34
        },
        "outputId": "7225477a-1f30-4772-ae39-7d67b28aa468"
      },
      "source": [
        "# Size of images\n",
        "train_dataset[0][0].size()"
      ],
      "execution_count": 34,
      "outputs": [
        {
          "output_type": "execute_result",
          "data": {
            "text/plain": [
              "torch.Size([1, 28, 28])"
            ]
          },
          "metadata": {
            "tags": []
          },
          "execution_count": 34
        }
      ]
    },
    {
      "cell_type": "code",
      "metadata": {
        "id": "jIpC46UbVHb7",
        "colab_type": "code",
        "colab": {}
      },
      "source": [
        "input_dim = 28*28\n",
        "output_dim = 10\n",
        "\n",
        "model = LogisticRegressionModel(input_dim, output_dim)"
      ],
      "execution_count": 0,
      "outputs": []
    },
    {
      "cell_type": "markdown",
      "metadata": {
        "id": "k75WbeHgVHb_",
        "colab_type": "text"
      },
      "source": [
        "### Step 5: Instantiate Loss Class\n",
        "- **Logistic Regression**: Cross Entropy Loss\n",
        "    - _Linear Regression: MSE_\n",
        "   "
      ]
    },
    {
      "cell_type": "code",
      "metadata": {
        "id": "FHWIcJymVHcA",
        "colab_type": "code",
        "colab": {}
      },
      "source": [
        "criterion = nn.CrossEntropyLoss()  "
      ],
      "execution_count": 0,
      "outputs": []
    },
    {
      "cell_type": "markdown",
      "metadata": {
        "id": "NKkQSrWdVHcH",
        "colab_type": "text"
      },
      "source": [
        "#### What happens in `nn.CrossEntropyLoss()`?\n",
        "- Computes softmax (logistic/softmax function)\n",
        "- Computes cross entropy\n",
        "\n",
        "<img src=\"https://github.com/ritchieng/deep-learning-wizard/blob/master/docs/deep_learning/practical_pytorch/images/cross_entropy_final_4.png?raw=1\" alt=\"deeplearningwizard\" style=\"width: 900px;\"/>"
      ]
    },
    {
      "cell_type": "markdown",
      "metadata": {
        "id": "MYKVPPDQVHcL",
        "colab_type": "text"
      },
      "source": [
        "### Step 6: Instantiate Optimizer Class\n",
        "- Simplified equation\n",
        "    - $\\theta = \\theta - \\eta \\cdot \\nabla_\\theta $\n",
        "        - $\\theta$: parameters (our variables)\n",
        "        - $\\eta$: learning rate (how fast we want to learn)\n",
        "        - $\\nabla_\\theta$: parameters' gradients\n",
        "- Even simplier equation\n",
        "    - `parameters = parameters - learning_rate * parameters_gradients`\n",
        "    - **At every iteration, we update our model's parameters**"
      ]
    },
    {
      "cell_type": "code",
      "metadata": {
        "id": "SXC9OlagVHcN",
        "colab_type": "code",
        "colab": {}
      },
      "source": [
        "learning_rate = 0.001\n",
        "\n",
        "optimizer = torch.optim.SGD(model.parameters(), lr=learning_rate)  "
      ],
      "execution_count": 0,
      "outputs": []
    },
    {
      "cell_type": "markdown",
      "metadata": {
        "id": "OlvmqqHRVHcR",
        "colab_type": "text"
      },
      "source": [
        "### Parameters In-Depth"
      ]
    },
    {
      "cell_type": "code",
      "metadata": {
        "scrolled": true,
        "id": "bxJQ8QgFVHcS",
        "colab_type": "code",
        "colab": {
          "base_uri": "https://localhost:8080/",
          "height": 85
        },
        "outputId": "e924e65a-d666-4cf8-909d-09d81a8e096d"
      },
      "source": [
        "print(model.parameters())\n",
        "\n",
        "print(len(list(model.parameters())))\n",
        "\n",
        "# FC 1 Parameters \n",
        "print(list(model.parameters())[0].size())\n",
        "\n",
        "# FC 1 Bias Parameters\n",
        "print(list(model.parameters())[1].size())"
      ],
      "execution_count": 38,
      "outputs": [
        {
          "output_type": "stream",
          "text": [
            "<generator object Module.parameters at 0x7ff4cc7f5eb8>\n",
            "2\n",
            "torch.Size([10, 784])\n",
            "torch.Size([10])\n"
          ],
          "name": "stdout"
        }
      ]
    },
    {
      "cell_type": "markdown",
      "metadata": {
        "id": "0qtzX5huVHcZ",
        "colab_type": "text"
      },
      "source": [
        "<img src=\"https://github.com/ritchieng/deep-learning-wizard/blob/master/docs/deep_learning/practical_pytorch/images/lr_params2.png?raw=1\" alt=\"deeplearningwizard\" style=\"width: 900px;\"/>"
      ]
    },
    {
      "cell_type": "markdown",
      "metadata": {
        "id": "vedXzI63VHcb",
        "colab_type": "text"
      },
      "source": [
        "### Step 7: Train Model\n",
        "- Process \n",
        "    1. Convert inputs/labels to variables\n",
        "    2. Clear gradient buffets\n",
        "    3. Get output given inputs \n",
        "    4. Get loss\n",
        "    5. Get gradients w.r.t. parameters\n",
        "    6. Update parameters using gradients\n",
        "        - `parameters = parameters - learning_rate * parameters_gradients`\n",
        "    7. REPEAT"
      ]
    },
    {
      "cell_type": "code",
      "metadata": {
        "id": "Y6SCPUcPVHcc",
        "colab_type": "code",
        "colab": {
          "base_uri": "https://localhost:8080/",
          "height": 119
        },
        "outputId": "f247784a-d4c2-4eb8-fdcd-f3ab53a5e59e"
      },
      "source": [
        "iter = 0\n",
        "for epoch in range(num_epochs):\n",
        "    for i, (images, labels) in enumerate(train_loader):\n",
        "        # Load images as Variable\n",
        "        images = images.view(-1, 28*28).requires_grad_()\n",
        "        labels = labels\n",
        "        \n",
        "        # Clear gradients w.r.t. parameters\n",
        "        optimizer.zero_grad()\n",
        "        \n",
        "        # Forward pass to get output/logits\n",
        "        outputs = model(images)\n",
        "        \n",
        "        # Calculate Loss: softmax --> cross entropy loss\n",
        "        loss = criterion(outputs, labels)\n",
        "        \n",
        "        # Getting gradients w.r.t. parameters\n",
        "        loss.backward()\n",
        "        \n",
        "        # Updating parameters\n",
        "        optimizer.step()\n",
        "        \n",
        "        iter += 1\n",
        "        \n",
        "        if iter % 500 == 0:\n",
        "            # Calculate Accuracy         \n",
        "            correct = 0\n",
        "            total = 0\n",
        "            # Iterate through test dataset\n",
        "            for images, labels in test_loader:\n",
        "                # Load images to a Torch Variable\n",
        "                images = images.view(-1, 28*28).requires_grad_()\n",
        "                \n",
        "                # Forward pass only to get logits/output\n",
        "                outputs = model(images)\n",
        "                \n",
        "                # Get predictions from the maximum value\n",
        "                _, predicted = torch.max(outputs.data, 1)\n",
        "                \n",
        "                # Total number of labels\n",
        "                total += labels.size(0)\n",
        "                \n",
        "                # Total correct predictions\n",
        "                correct += (predicted == labels).sum()\n",
        "            \n",
        "            accuracy = 100 * correct / total\n",
        "            \n",
        "            # Print Loss\n",
        "            print('Iteration: {}. Loss: {}. Accuracy: {}'.format(iter, loss.item(), accuracy))"
      ],
      "execution_count": 39,
      "outputs": [
        {
          "output_type": "stream",
          "text": [
            "Iteration: 500. Loss: 1.828819751739502. Accuracy: 66\n",
            "Iteration: 1000. Loss: 1.6164941787719727. Accuracy: 75\n",
            "Iteration: 1500. Loss: 1.3092541694641113. Accuracy: 78\n",
            "Iteration: 2000. Loss: 1.235580563545227. Accuracy: 80\n",
            "Iteration: 2500. Loss: 0.9882506728172302. Accuracy: 81\n",
            "Iteration: 3000. Loss: 1.0075889825820923. Accuracy: 82\n"
          ],
          "name": "stdout"
        }
      ]
    },
    {
      "cell_type": "markdown",
      "metadata": {
        "id": "NaWXR0tkVHch",
        "colab_type": "text"
      },
      "source": [
        "#### Break Down Accuracy Calculation"
      ]
    },
    {
      "cell_type": "code",
      "metadata": {
        "id": "8Hw7SVOrVHci",
        "colab_type": "code",
        "colab": {
          "base_uri": "https://localhost:8080/",
          "height": 1000
        },
        "outputId": "e794bfb5-f9fb-460d-b8c2-05720ba89638"
      },
      "source": [
        "iter_test = 0\n",
        "for images, labels in test_loader:\n",
        "    iter_test += 1\n",
        "    images = images.view(-1, 28*28).requires_grad_()\n",
        "    outputs = model(images)\n",
        "    if iter_test == 1:\n",
        "        print('OUTPUTS')\n",
        "        print(outputs)\n",
        "    _, predicted = torch.max(outputs.data, 1)"
      ],
      "execution_count": 40,
      "outputs": [
        {
          "output_type": "stream",
          "text": [
            "OUTPUTS\n",
            "tensor([[-5.3113e-01, -1.0376e+00, -4.6718e-01, -2.3832e-01,  3.9108e-02,\n",
            "         -4.3469e-01, -1.1110e+00,  3.0440e+00, -2.2426e-01,  8.3483e-01],\n",
            "        [ 4.1897e-02, -1.1547e-01,  1.2949e+00,  7.7148e-01, -1.9290e+00,\n",
            "          7.5300e-01,  9.5148e-01, -1.9187e+00,  2.1591e-01, -1.7475e+00],\n",
            "        [-9.0393e-01,  2.3381e+00,  1.5896e-01,  5.3337e-02, -6.1447e-01,\n",
            "         -3.3328e-01, -1.8178e-01, -1.2244e-01,  1.4468e-01, -4.6219e-01],\n",
            "        [ 2.8540e+00, -2.4054e+00, -2.6355e-01, -2.8588e-01, -9.9867e-01,\n",
            "          6.7822e-01,  9.9116e-01,  1.8958e-02, -6.0885e-01, -4.5325e-01],\n",
            "        [-7.9245e-02, -2.0860e+00,  3.7290e-01, -8.2314e-01,  1.7590e+00,\n",
            "         -4.1508e-01,  8.9320e-02,  4.0421e-01, -2.5733e-02,  7.9248e-01],\n",
            "        [-1.3684e+00,  2.8495e+00,  4.1509e-02,  1.3729e-01, -7.3053e-01,\n",
            "         -4.8295e-01, -7.0727e-01, -8.0229e-02,  3.9847e-01, -2.8356e-01],\n",
            "        [-1.2957e+00, -1.3127e+00, -7.5100e-01,  2.4548e-01,  1.3076e+00,\n",
            "          2.0604e-01, -6.8731e-01,  7.4534e-01,  4.3630e-01,  8.2052e-01],\n",
            "        [-1.1461e+00, -5.6629e-01, -4.2658e-01, -1.7540e-01,  8.3475e-01,\n",
            "          1.5495e-01,  7.7607e-02, -2.0263e-03, -1.2703e-01,  1.3261e+00],\n",
            "        [ 4.2949e-01, -3.9197e-01,  7.2994e-01, -1.3127e+00,  5.1676e-01,\n",
            "         -1.9679e-01,  4.8209e-01, -1.0798e+00, -1.3637e-01,  3.2254e-01],\n",
            "        [-7.5060e-01, -9.2630e-01, -1.3368e+00, -1.5177e+00,  1.1872e+00,\n",
            "         -3.1108e-01, -4.7040e-01,  1.7031e+00,  1.4198e-01,  1.6541e+00],\n",
            "        [ 3.1099e+00, -1.8002e+00,  3.5428e-01,  1.0650e+00, -6.6557e-01,\n",
            "          1.0280e+00, -5.1717e-01, -1.5448e+00,  5.9923e-01, -1.7993e+00],\n",
            "        [ 8.3283e-01, -6.3855e-01,  2.0096e-01, -2.1457e-01,  3.7877e-01,\n",
            "         -3.9525e-01,  7.3562e-01, -1.1614e+00,  1.9816e-01, -6.5100e-01],\n",
            "        [-9.5803e-01, -1.6289e+00, -8.5088e-01, -9.8120e-01,  1.2832e+00,\n",
            "         -1.5274e-01, -4.3097e-01,  1.1659e+00,  9.2926e-02,  2.1178e+00],\n",
            "        [ 2.8775e+00, -2.4248e+00, -4.1118e-01, -1.1368e-01, -4.3384e-01,\n",
            "          8.3455e-01, -3.7815e-01, -7.3446e-01,  5.4768e-01,  4.1546e-02],\n",
            "        [-1.2175e+00,  2.6106e+00, -1.9731e-01,  2.2539e-01, -1.0598e+00,\n",
            "         -2.3870e-01, -1.8308e-01, -2.4861e-01,  2.6064e-01, -3.5487e-01],\n",
            "        [ 5.2587e-01, -8.3350e-01, -7.5776e-02,  1.2623e+00, -5.6274e-01,\n",
            "          8.3538e-01, -1.6289e-01, -3.7244e-01,  4.6515e-01, -7.5468e-01],\n",
            "        [-3.8959e-01, -2.0722e+00, -4.0591e-02, -8.1327e-01,  1.3109e+00,\n",
            "         -6.4085e-01, -4.7625e-01,  8.4996e-01,  9.0607e-02,  1.5478e+00],\n",
            "        [ 9.5273e-02, -1.4225e+00, -5.9409e-01,  4.0885e-01, -2.7496e-01,\n",
            "         -2.4564e-01, -8.5176e-01,  2.7093e+00, -5.6430e-01,  5.2207e-01],\n",
            "        [-9.6307e-01, -5.7400e-01,  1.1329e-01,  8.1297e-01, -6.3083e-01,\n",
            "          2.1045e-01,  9.0353e-01, -4.6064e-01,  1.4319e-01, -4.8972e-01],\n",
            "        [-8.6823e-01, -1.4492e+00, -5.2573e-01, -2.8611e-01,  1.8872e+00,\n",
            "          2.2318e-02, -1.9214e-01,  9.0857e-02, -1.7176e-01,  1.3788e+00],\n",
            "        [-9.9484e-01, -4.0257e-01, -1.5253e+00, -1.1856e-01,  3.4172e-01,\n",
            "          2.0399e-01, -1.2713e+00,  1.7312e+00,  3.0233e-01,  1.3958e+00],\n",
            "        [-6.1215e-01, -1.8000e+00,  1.7926e-02,  2.4370e-01,  4.0231e-01,\n",
            "          6.1348e-01,  2.3184e+00, -1.4343e+00,  2.0827e-01,  1.7458e-01],\n",
            "        [ 3.1138e-03, -5.2870e-02,  2.1113e-01, -7.3994e-01,  9.8045e-01,\n",
            "         -1.1172e+00,  1.0314e+00, -8.2173e-02, -3.1404e-01,  1.0404e-02],\n",
            "        [-1.8580e-02, -9.6865e-01, -6.0917e-01,  3.4283e-01, -1.0135e-02,\n",
            "          1.0240e+00,  8.0495e-02, -1.0126e+00,  7.3365e-01,  5.8378e-02],\n",
            "        [-6.0157e-01, -1.0675e+00, -1.5977e-02, -2.5242e-01,  1.4252e+00,\n",
            "         -2.7267e-01, -1.7281e-01,  2.5799e-01, -2.6942e-01,  1.0065e+00],\n",
            "        [ 4.2050e+00, -2.7413e+00,  3.4827e-01, -1.0179e+00, -2.6162e-01,\n",
            "          1.0223e+00,  8.5936e-01, -1.3717e+00, -2.5911e-01, -1.3512e+00],\n",
            "        [-3.6489e-01, -1.2640e+00, -4.1553e-01, -1.2265e-01,  3.9449e-02,\n",
            "         -1.4064e-01, -6.9224e-01,  1.8637e+00, -3.4876e-01,  1.1035e+00],\n",
            "        [-2.7511e-01, -2.4125e+00, -1.0617e-01, -7.7633e-01,  2.2298e+00,\n",
            "          2.0454e-02, -3.5664e-02,  1.7023e-01,  8.4212e-02,  1.3962e+00],\n",
            "        [ 2.4416e+00, -2.3762e+00, -1.9566e-02,  1.0201e+00, -1.3068e+00,\n",
            "          8.4409e-01, -2.0256e-01, -8.5198e-01,  5.1290e-01, -7.6654e-01],\n",
            "        [-1.0181e+00,  1.2986e+00, -2.3786e-01,  2.0196e-01, -4.1078e-01,\n",
            "          1.3502e-01,  8.4105e-02, -1.2857e-01,  2.4688e-01, -4.2710e-01],\n",
            "        [-8.2235e-01, -1.6973e-01, -1.0495e+00,  2.0869e+00, -1.1952e+00,\n",
            "          7.4510e-01, -5.2332e-01,  4.2237e-01,  1.5847e-01, -1.0546e-01],\n",
            "        [-8.1763e-01,  1.1376e+00, -2.5744e-01,  2.6108e-01, -4.4142e-01,\n",
            "          1.0474e-02, -1.5629e-01,  1.8702e-02,  1.8218e-01,  1.4058e-02],\n",
            "        [-1.2111e+00, -7.7544e-01, -8.1707e-01,  2.4363e+00, -6.0611e-01,\n",
            "          1.2702e+00, -4.5367e-01, -1.0822e+00,  3.6203e-01, -2.9990e-01],\n",
            "        [ 1.7748e+00, -1.8871e+00,  7.3044e-01, -1.4410e+00,  7.5449e-01,\n",
            "          3.3176e-01,  1.3525e+00, -1.0944e+00, -3.1524e-01, -1.5726e-01],\n",
            "        [-9.0790e-01, -2.6080e-01,  7.4991e-01, -5.0420e-01, -2.2087e-01,\n",
            "         -5.3833e-01, -1.5351e+00,  1.6369e+00,  6.4881e-01,  2.9541e-01],\n",
            "        [ 4.3033e-01, -1.3108e+00,  2.5658e+00,  4.0274e-01, -8.4231e-01,\n",
            "          7.3122e-02,  4.7951e-01, -4.3744e-01,  4.0961e-01, -1.9935e+00],\n",
            "        [-6.0209e-01, -1.4659e+00,  1.4979e-01,  9.2321e-03, -1.0046e-01,\n",
            "         -5.4006e-01, -6.3510e-01,  2.1690e+00, -4.0981e-01,  1.0399e+00],\n",
            "        [-1.2195e+00,  2.0313e+00, -4.0184e-01,  7.4741e-02, -6.1280e-01,\n",
            "         -1.0250e-01, -1.3009e-01,  1.0239e-01,  3.9260e-01, -1.1168e-01],\n",
            "        [ 3.2143e-01,  3.8154e-01,  6.3670e-01,  1.2217e+00, -1.8455e+00,\n",
            "          3.5356e-01,  3.1762e-01, -1.2379e+00,  6.2020e-01, -1.2222e+00],\n",
            "        [-1.4532e+00,  2.8713e+00, -4.0190e-01,  2.7929e-01, -1.2509e+00,\n",
            "         -1.4740e-01, -2.5801e-01, -5.0572e-01,  5.7065e-01, -2.9030e-01],\n",
            "        [-5.8686e-01,  1.4856e+00, -4.3014e-02,  6.9470e-02, -5.1042e-01,\n",
            "         -2.1448e-01, -1.0069e-01, -6.8856e-02,  1.0261e-01, -1.9689e-01],\n",
            "        [-7.9035e-01, -7.1748e-01, -1.5084e-01, -5.6449e-01,  6.6336e-02,\n",
            "         -2.5174e-01, -6.6110e-01,  1.8816e+00, -3.2396e-01,  1.2505e+00],\n",
            "        [-1.9080e+00, -4.5311e-01, -3.4705e-01, -4.9931e-01,  2.1121e+00,\n",
            "         -6.8492e-01, -7.7893e-01,  7.5128e-01,  2.5211e-01,  1.6094e+00],\n",
            "        [-5.1666e-01,  9.3521e-01,  9.6801e-01,  3.3850e-02, -2.9622e-01,\n",
            "         -3.1107e-01,  2.3977e-01, -1.1458e+00,  3.1859e-01, -6.0891e-01],\n",
            "        [-1.1407e+00,  1.1057e-01, -4.1328e-02,  1.0667e+00, -6.0069e-01,\n",
            "          3.3916e-01,  2.8993e-01, -1.7928e-01, -3.6422e-02, -5.3410e-01],\n",
            "        [ 1.2950e-01, -1.3436e+00, -4.7520e-01,  1.6813e+00, -6.2773e-01,\n",
            "          1.0342e+00, -9.3391e-02, -1.4020e+00,  1.0516e+00, -3.4605e-01],\n",
            "        [-1.4271e+00,  3.1348e-01,  7.3504e-02,  6.5359e-01, -8.8226e-02,\n",
            "          2.3989e-01, -9.5899e-02, -1.0381e-01,  2.7980e-01, -7.9455e-02],\n",
            "        [-7.3944e-01, -4.6149e-01,  1.2131e+00, -5.4157e-01,  4.2430e-01,\n",
            "         -6.5324e-01,  6.3104e-01, -5.1980e-01,  7.6141e-02,  8.8819e-02],\n",
            "        [-1.0960e+00, -2.8008e+00, -1.2819e+00, -1.2949e-02,  2.6407e+00,\n",
            "          3.4496e-01, -7.1536e-01,  2.5105e-01,  6.7496e-01,  1.9596e+00],\n",
            "        [-4.4051e-01, -2.0442e+00,  5.2581e-01, -9.7647e-01,  2.3082e+00,\n",
            "         -1.0127e+00,  1.0267e-01,  4.4057e-01, -5.8707e-01,  9.3186e-01],\n",
            "        [-2.2779e-01, -1.2220e+00,  1.4346e-01,  1.1377e-01, -5.2830e-01,\n",
            "          4.0101e-01,  2.0920e+00, -1.3172e+00, -1.5445e-01, -4.8130e-01],\n",
            "        [-5.1012e-02, -1.0511e+00, -2.6217e-01,  1.5884e+00, -8.6059e-01,\n",
            "          6.9325e-01,  3.6722e-02, -4.2329e-01, -2.4931e-01, -2.8512e-01],\n",
            "        [ 5.2747e-01, -1.4428e+00, -1.4239e+00,  5.7831e-02,  5.7279e-01,\n",
            "          1.2315e+00, -2.5383e-01, -3.5512e-01, -1.0021e-01,  4.7386e-01],\n",
            "        [ 2.9704e-01, -9.6869e-01, -4.1347e-01,  9.7865e-01, -1.0446e-02,\n",
            "          6.6920e-01, -1.8290e-01, -4.3079e-01,  2.4228e-01, -3.8940e-01],\n",
            "        [-9.7129e-02, -6.6292e-01,  1.1040e+00, -4.9680e-01,  5.2958e-01,\n",
            "         -1.0789e+00,  6.4402e-01, -7.8092e-01, -9.3652e-02, -7.5253e-01],\n",
            "        [ 1.3201e+00, -2.4157e+00, -4.9843e-01,  4.8594e-01, -7.6110e-01,\n",
            "          1.1134e+00,  2.7663e-01, -9.9277e-01,  1.0842e+00, -3.0106e-01],\n",
            "        [ 6.2491e-02, -2.8827e+00, -1.8841e-01, -6.8632e-01,  2.5876e+00,\n",
            "         -8.1541e-02,  2.2097e-01, -2.6511e-01, -1.8406e-01,  9.0180e-01],\n",
            "        [-8.9791e-01,  2.4004e+00, -2.3521e-02,  2.0676e-01, -8.7252e-01,\n",
            "         -2.8998e-01, -5.9763e-01, -1.2615e-01,  2.7359e-01, -2.0695e-01],\n",
            "        [-3.2756e-01, -1.9068e+00, -9.7252e-01, -1.0227e+00,  1.5438e+00,\n",
            "         -3.2576e-01, -2.5103e-01,  1.0663e+00, -3.4897e-01,  2.0392e+00],\n",
            "        [ 1.5972e-02,  1.3670e-01, -5.3537e-01, -2.9248e-01,  1.2551e-01,\n",
            "          3.4299e-01, -2.8916e-01,  3.6115e-01,  6.6000e-03, -1.8261e-01],\n",
            "        [-1.8197e-01, -1.8052e+00, -5.1358e-01,  6.5077e-01, -1.7591e-02,\n",
            "         -1.4190e-01, -1.4628e-01,  2.0505e+00, -5.2364e-01,  3.7870e-01],\n",
            "        [-3.0429e-02, -9.6031e-01,  9.6058e-01, -1.5561e+00,  4.1186e-02,\n",
            "          1.6556e-01,  5.6780e-01, -1.0473e+00,  1.1863e+00,  7.0672e-02],\n",
            "        [-7.2291e-01, -8.3273e-01, -2.2755e-02, -2.9587e-01,  6.3249e-01,\n",
            "          8.5562e-02,  4.9905e-03, -2.5606e-01,  3.3936e-01,  8.8226e-01],\n",
            "        [-9.7236e-01, -7.6498e-02,  1.1185e+00,  5.7806e-01, -2.4218e-01,\n",
            "         -4.4727e-02, -3.6206e-01, -7.2743e-01,  3.7169e-01, -8.6197e-02],\n",
            "        [-9.9101e-01, -9.2037e-01, -4.5531e-02, -7.2839e-01,  6.1525e-01,\n",
            "         -7.1527e-01, -4.1728e-01,  1.6600e+00,  1.7248e-02,  3.6182e-01],\n",
            "        [-1.3179e+00, -6.1589e-01, -5.6989e-01,  4.2475e-01,  6.0906e-01,\n",
            "          3.9954e-01,  2.9842e-02, -4.0949e-01,  6.3016e-01,  7.1125e-01],\n",
            "        [ 6.8443e-01, -3.7715e-01,  6.1190e-01, -2.9842e-01,  4.2200e-01,\n",
            "         -6.3285e-01,  6.5514e-01, -1.1413e-01, -3.8400e-01, -6.5379e-01],\n",
            "        [-5.8921e-01, -1.4393e+00,  5.3476e-01, -1.0749e+00,  1.9676e+00,\n",
            "         -8.9989e-01, -3.4289e-01,  3.7683e-01,  9.5922e-02,  7.1267e-01],\n",
            "        [-1.5354e+00, -3.5187e-01, -5.6949e-01,  2.5547e+00, -6.3439e-01,\n",
            "          8.9714e-01, -1.0430e+00, -1.0007e+00,  8.9467e-01, -2.7372e-01],\n",
            "        [ 2.6463e+00, -1.2830e+00,  5.7536e-01, -5.7083e-01, -1.3064e+00,\n",
            "          4.9746e-01,  2.9781e-02, -3.4442e-01, -2.3361e-01, -6.3165e-01],\n",
            "        [ 3.3898e-01, -1.2821e+00, -7.9422e-01, -2.3339e-02, -1.1529e-01,\n",
            "         -4.3996e-01, -8.2607e-01,  2.8026e+00, -3.9425e-01,  4.7255e-01],\n",
            "        [ 4.4059e+00, -2.7535e+00,  7.5409e-01,  3.2182e-01, -8.6395e-01,\n",
            "          1.0201e+00, -1.1916e-01, -1.8368e+00,  3.4855e-01, -1.6968e+00],\n",
            "        [ 1.3885e+00, -1.1144e+00,  1.6021e+00,  1.1943e+00, -1.1371e+00,\n",
            "          1.5762e-01,  4.0186e-01, -9.1216e-01,  1.5929e-01, -2.1037e+00],\n",
            "        [-1.4796e+00,  6.8276e-01,  1.6546e-01, -2.3226e-01, -9.9596e-01,\n",
            "         -6.0140e-01, -9.1711e-01,  7.6401e-01,  1.2803e+00,  4.2915e-01],\n",
            "        [-1.2904e+00,  2.2314e+00, -5.0939e-01, -7.2642e-02, -8.2227e-01,\n",
            "         -1.0828e-01, -1.4079e-01, -9.6544e-02,  4.5238e-01, -1.9965e-01],\n",
            "        [-1.7175e+00,  3.6942e-01, -4.5062e-01, -4.4164e-01,  8.7026e-01,\n",
            "         -5.3531e-01, -8.0338e-01,  1.6696e+00, -2.7226e-03,  6.1750e-01],\n",
            "        [-3.4532e-01,  1.9069e-01, -4.4524e-01,  2.2986e+00, -1.1115e+00,\n",
            "          1.0428e+00, -5.6244e-01, -1.2277e+00,  5.8174e-01, -8.4226e-01],\n",
            "        [-8.1355e-01, -3.6013e-01,  7.0845e-01, -7.1406e-01, -1.5011e-01,\n",
            "         -6.5289e-01, -4.3224e-02,  1.6981e+00, -3.6180e-01,  5.5064e-01],\n",
            "        [-1.8076e+00,  9.6481e-01, -8.0931e-01,  2.4191e-02, -2.0128e-01,\n",
            "          2.8604e-02, -5.9507e-01,  1.5908e-01,  8.2933e-01,  5.5208e-01],\n",
            "        [-6.7201e-01, -5.8111e-01, -6.9594e-01, -1.1185e+00, -7.4198e-02,\n",
            "         -4.8338e-01, -1.4311e+00,  3.2616e+00,  2.5733e-01,  8.0840e-01],\n",
            "        [-4.7872e-01, -1.7142e+00, -9.6722e-01, -3.1702e-01,  7.7988e-01,\n",
            "          3.6662e-01, -3.2294e-01,  1.4802e+00, -5.6034e-01,  1.6624e+00],\n",
            "        [ 1.6003e-01, -2.0356e+00,  5.2765e-01, -5.2980e-01,  1.0883e-01,\n",
            "          1.7721e-01,  2.3781e+00, -5.5705e-01, -3.3607e-01,  4.1925e-02],\n",
            "        [-6.9092e-01, -1.1841e+00,  4.0209e+00, -1.6155e-01, -3.0590e-01,\n",
            "         -1.0606e+00,  8.4878e-01, -1.0540e+00,  4.5980e-01, -1.4277e+00],\n",
            "        [-5.4688e-01, -1.6254e+00, -6.6793e-01, -3.2951e-01,  6.6296e-01,\n",
            "         -1.2668e-01, -9.8177e-01,  2.1584e+00, -2.1866e-01,  1.4912e+00],\n",
            "        [-9.0167e-01, -9.8321e-02, -3.2717e-01, -4.9094e-01,  6.2512e-01,\n",
            "          3.8616e-01, -6.2863e-01, -6.9498e-01,  9.5818e-01,  6.8786e-01],\n",
            "        [-9.3103e-01, -2.5216e+00, -9.2466e-01,  1.5118e-03,  2.8220e+00,\n",
            "          1.5077e-02, -3.5007e-01, -3.5820e-01,  2.7636e-01,  1.3550e+00],\n",
            "        [-1.7981e+00,  6.1417e-01, -1.9466e-01, -7.9403e-01, -1.8880e-02,\n",
            "         -8.0831e-01, -1.1675e+00,  3.0494e+00,  1.8758e-01,  8.9256e-01],\n",
            "        [-7.9668e-03, -1.6842e+00, -1.1418e+00,  1.8055e+00, -4.5093e-01,\n",
            "          1.0232e+00,  5.8312e-01, -4.2853e-01,  7.9962e-02, -8.1180e-02],\n",
            "        [-7.3622e-02, -2.1725e+00,  7.8471e-01, -1.2323e+00,  1.0638e+00,\n",
            "         -5.7115e-01,  2.7022e+00, -9.0849e-02, -6.6805e-01,  3.1700e-01],\n",
            "        [-1.6093e+00,  3.0599e+00,  3.5089e-01,  1.3673e-02, -5.8518e-01,\n",
            "         -3.9025e-01, -2.5752e-01, -2.8974e-01,  4.6251e-01, -5.7385e-01],\n",
            "        [ 4.0157e-01, -6.7478e-01, -1.7568e-01,  2.8012e+00, -1.2047e+00,\n",
            "          6.7996e-01, -1.2858e+00, -5.7950e-01,  7.5460e-01, -7.2799e-01],\n",
            "        [-8.8018e-01, -8.5300e-01,  2.8411e-01, -6.4240e-01,  4.5206e-01,\n",
            "         -3.1829e-01,  2.7277e+00, -1.1819e+00,  6.9463e-02,  1.6659e-01],\n",
            "        [-9.5538e-01, -7.2354e-02,  4.1384e-02, -6.7228e-01,  4.3625e-01,\n",
            "         -2.3223e-01, -1.5221e-01, -2.4973e-01,  5.5565e-01,  3.9045e-01],\n",
            "        [-8.2391e-01, -5.6880e-01, -7.9159e-01,  2.4168e+00, -1.5581e+00,\n",
            "          1.0732e+00, -1.2384e+00,  4.2025e-01,  6.5662e-01, -1.4719e-01],\n",
            "        [-1.9401e+00,  1.7388e+00, -9.7568e-02,  1.3725e-01, -4.6187e-01,\n",
            "          3.3853e-02,  3.0020e-01, -3.3865e-01,  7.1834e-01, -2.4664e-01],\n",
            "        [-6.5489e-01, -3.0819e-01, -2.1847e-01, -1.3987e+00,  2.1783e+00,\n",
            "         -5.8718e-01,  3.3705e-01, -9.4047e-02, -2.1739e-01,  1.3558e+00],\n",
            "        [-9.0113e-01,  5.2723e-01, -3.6586e-01,  3.1965e-01, -1.4158e-01,\n",
            "          2.0621e-01, -2.6202e-01, -1.4693e-02,  3.4228e-01,  1.3597e-01],\n",
            "        [-1.9646e+00,  1.4782e+00, -6.6321e-01, -6.7602e-02, -2.5451e-01,\n",
            "         -3.5910e-01, -2.0881e-01,  9.1416e-01,  1.5900e-03,  4.8461e-01],\n",
            "        [ 1.0257e+00, -1.2750e+00,  7.8082e-01, -7.9823e-01, -2.4645e-01,\n",
            "          5.3688e-01,  1.8486e+00, -1.2049e+00, -8.3052e-02, -7.9917e-01],\n",
            "        [-1.1324e+00, -1.7585e+00,  1.0185e-01, -8.8069e-01,  1.5587e+00,\n",
            "         -1.0608e+00, -5.5262e-01,  8.6302e-01, -1.1806e-01,  2.1916e+00]],\n",
            "       grad_fn=<AddmmBackward>)\n"
          ],
          "name": "stdout"
        }
      ]
    },
    {
      "cell_type": "code",
      "metadata": {
        "id": "UyAjSJqlVHcn",
        "colab_type": "code",
        "colab": {
          "base_uri": "https://localhost:8080/",
          "height": 51
        },
        "outputId": "7ea8784a-0475-4296-a602-523e8bd257d5"
      },
      "source": [
        "iter_test = 0\n",
        "for images, labels in test_loader:\n",
        "    iter_test += 1\n",
        "    images = images.view(-1, 28*28).requires_grad_()\n",
        "    outputs = model(images)\n",
        "    if iter_test == 1:\n",
        "        print('OUTPUTS')\n",
        "        print(outputs.size())\n",
        "    _, predicted = torch.max(outputs.data, 1)"
      ],
      "execution_count": 41,
      "outputs": [
        {
          "output_type": "stream",
          "text": [
            "OUTPUTS\n",
            "torch.Size([100, 10])\n"
          ],
          "name": "stdout"
        }
      ]
    },
    {
      "cell_type": "code",
      "metadata": {
        "id": "bWNqQYf4VHcr",
        "colab_type": "code",
        "colab": {
          "base_uri": "https://localhost:8080/",
          "height": 68
        },
        "outputId": "e295e943-8a68-4dbf-8cba-e3e3b3f47b54"
      },
      "source": [
        "iter_test = 0\n",
        "for images, labels in test_loader:\n",
        "    iter_test += 1\n",
        "    images = images.view(-1, 28*28).requires_grad_()\n",
        "    outputs = model(images)\n",
        "    if iter_test == 1:\n",
        "        print('OUTPUTS')\n",
        "        print(outputs[0, :])\n",
        "    _, predicted = torch.max(outputs.data, 1)"
      ],
      "execution_count": 42,
      "outputs": [
        {
          "output_type": "stream",
          "text": [
            "OUTPUTS\n",
            "tensor([-0.5311, -1.0376, -0.4672, -0.2383,  0.0391, -0.4347, -1.1110,  3.0440,\n",
            "        -0.2243,  0.8348], grad_fn=<SliceBackward>)\n"
          ],
          "name": "stdout"
        }
      ]
    },
    {
      "cell_type": "code",
      "metadata": {
        "id": "WhXrpXJ-VHc6",
        "colab_type": "code",
        "colab": {
          "base_uri": "https://localhost:8080/",
          "height": 51
        },
        "outputId": "7d0e27cf-d4b7-4eff-c222-d597da39bb98"
      },
      "source": [
        "iter_test = 0\n",
        "for images, labels in test_loader:\n",
        "    iter_test += 1\n",
        "    images = images.view(-1, 28*28).requires_grad_()\n",
        "    outputs = model(images)\n",
        "    _, predicted = torch.max(outputs.data, 1)\n",
        "    if iter_test == 1:\n",
        "        print('PREDICTION')\n",
        "        print(predicted.size())"
      ],
      "execution_count": 43,
      "outputs": [
        {
          "output_type": "stream",
          "text": [
            "PREDICTION\n",
            "torch.Size([100])\n"
          ],
          "name": "stdout"
        }
      ]
    },
    {
      "cell_type": "code",
      "metadata": {
        "id": "AO7CJXFGVHc9",
        "colab_type": "code",
        "colab": {
          "base_uri": "https://localhost:8080/",
          "height": 51
        },
        "outputId": "e977df33-cd46-4b9c-9c1d-cabf6427effa"
      },
      "source": [
        "iter_test = 0\n",
        "for images, labels in test_loader:\n",
        "    iter_test += 1\n",
        "    images = images.view(-1, 28*28).requires_grad_()\n",
        "    outputs = model(images)\n",
        "    _, predicted = torch.max(outputs.data, 1)\n",
        "    if iter_test == 1:\n",
        "        print('PREDICTION')\n",
        "        print(predicted[0])"
      ],
      "execution_count": 44,
      "outputs": [
        {
          "output_type": "stream",
          "text": [
            "PREDICTION\n",
            "tensor(7)\n"
          ],
          "name": "stdout"
        }
      ]
    },
    {
      "cell_type": "code",
      "metadata": {
        "id": "J0cO2g0aVHdE",
        "colab_type": "code",
        "colab": {
          "base_uri": "https://localhost:8080/",
          "height": 119
        },
        "outputId": "df793542-7c8c-4982-abaa-5b0e345cbb83"
      },
      "source": [
        "iter_test = 0\n",
        "for images, labels in test_loader:\n",
        "    iter_test += 1\n",
        "    images = images.view(-1, 28*28).requires_grad_()\n",
        "    outputs = model(images)\n",
        "    _, predicted = torch.max(outputs.data, 1)\n",
        "    if iter_test == 1:\n",
        "        print('PREDICTION')\n",
        "        print(predicted[0])\n",
        "        \n",
        "        print('LABEL SIZE')\n",
        "        print(labels.size())\n",
        "        \n",
        "        print('LABEL FOR IMAGE 0')\n",
        "        print(labels[0])"
      ],
      "execution_count": 45,
      "outputs": [
        {
          "output_type": "stream",
          "text": [
            "PREDICTION\n",
            "tensor(7)\n",
            "LABEL SIZE\n",
            "torch.Size([100])\n",
            "LABEL FOR IMAGE 0\n",
            "tensor(7)\n"
          ],
          "name": "stdout"
        }
      ]
    },
    {
      "cell_type": "code",
      "metadata": {
        "id": "sm0WAGi2VHdL",
        "colab_type": "code",
        "colab": {
          "base_uri": "https://localhost:8080/",
          "height": 119
        },
        "outputId": "e8dcbff6-6b2b-4660-b3f0-574853661432"
      },
      "source": [
        "iter_test = 0\n",
        "for images, labels in test_loader:\n",
        "    iter_test += 1\n",
        "    images = images.view(-1, 28*28).requires_grad_()\n",
        "    outputs = model(images)\n",
        "    _, predicted = torch.max(outputs.data, 1)\n",
        "    \n",
        "    if iter_test == 1:\n",
        "        print('PREDICTION')\n",
        "        print(predicted[1])\n",
        "        \n",
        "        print('LABEL SIZE')\n",
        "        print(labels.size())\n",
        "        \n",
        "        print('LABEL FOR IMAGE 1')\n",
        "        print(labels[1])"
      ],
      "execution_count": 46,
      "outputs": [
        {
          "output_type": "stream",
          "text": [
            "PREDICTION\n",
            "tensor(2)\n",
            "LABEL SIZE\n",
            "torch.Size([100])\n",
            "LABEL FOR IMAGE 1\n",
            "tensor(2)\n"
          ],
          "name": "stdout"
        }
      ]
    },
    {
      "cell_type": "code",
      "metadata": {
        "id": "U0jLqYCKVHdR",
        "colab_type": "code",
        "colab": {
          "base_uri": "https://localhost:8080/",
          "height": 34
        },
        "outputId": "a991e1d6-e137-4b49-99ef-082c4a18dbe2"
      },
      "source": [
        "correct = 0\n",
        "total = 0\n",
        "iter_test = 0\n",
        "for images, labels in test_loader:\n",
        "    iter_test += 1\n",
        "    images = images.view(-1, 28*28).requires_grad_()\n",
        "    outputs = model(images)\n",
        "    _, predicted = torch.max(outputs.data, 1)\n",
        "    \n",
        "    # Total number of labels\n",
        "    total += labels.size(0)\n",
        "\n",
        "    # Total correct predictions\n",
        "    correct += (predicted == labels).sum()\n",
        "\n",
        "accuracy = 100 * (correct.item() / total)\n",
        "\n",
        "print(accuracy)"
      ],
      "execution_count": 47,
      "outputs": [
        {
          "output_type": "stream",
          "text": [
            "82.47\n"
          ],
          "name": "stdout"
        }
      ]
    },
    {
      "cell_type": "markdown",
      "metadata": {
        "id": "HA4t2dvpVHdZ",
        "colab_type": "text"
      },
      "source": [
        "#### Saving Model"
      ]
    },
    {
      "cell_type": "code",
      "metadata": {
        "id": "7RC8eLZAVHda",
        "colab_type": "code",
        "colab": {}
      },
      "source": [
        "save_model = False\n",
        "if save_model is True:\n",
        "    # Saves only parameters\n",
        "    torch.save(model.state_dict(), 'awesome_model.pkl')"
      ],
      "execution_count": 0,
      "outputs": []
    },
    {
      "cell_type": "markdown",
      "metadata": {
        "id": "L4Gq0_inVHdd",
        "colab_type": "text"
      },
      "source": [
        "## 3. Building a Logistic Regression Model with PyTorch (GPU)\n",
        "\n"
      ]
    },
    {
      "cell_type": "markdown",
      "metadata": {
        "id": "JxcDJ8B0VHde",
        "colab_type": "text"
      },
      "source": [
        "**CPU Version**"
      ]
    },
    {
      "cell_type": "code",
      "metadata": {
        "id": "tvQTUmpOVHdi",
        "colab_type": "code",
        "colab": {
          "base_uri": "https://localhost:8080/",
          "height": 119
        },
        "outputId": "0bddfefd-72e9-43b2-e7cd-40ef68021b2a"
      },
      "source": [
        "import torch\n",
        "import torch.nn as nn\n",
        "import torchvision.transforms as transforms\n",
        "import torchvision.datasets as dsets\n",
        "\n",
        "'''\n",
        "STEP 1: LOADING DATASET\n",
        "'''\n",
        "\n",
        "train_dataset = dsets.MNIST(root='./data', \n",
        "                            train=True, \n",
        "                            transform=transforms.ToTensor(),\n",
        "                            download=True)\n",
        "\n",
        "test_dataset = dsets.MNIST(root='./data', \n",
        "                           train=False, \n",
        "                           transform=transforms.ToTensor())\n",
        "\n",
        "'''\n",
        "STEP 2: MAKING DATASET ITERABLE\n",
        "'''\n",
        "\n",
        "batch_size = 100\n",
        "n_iters = 3000\n",
        "num_epochs = n_iters / (len(train_dataset) / batch_size)\n",
        "num_epochs = int(num_epochs)\n",
        "\n",
        "train_loader = torch.utils.data.DataLoader(dataset=train_dataset, \n",
        "                                           batch_size=batch_size, \n",
        "                                           shuffle=True)\n",
        "\n",
        "test_loader = torch.utils.data.DataLoader(dataset=test_dataset, \n",
        "                                          batch_size=batch_size, \n",
        "                                          shuffle=False)\n",
        "\n",
        "'''\n",
        "STEP 3: CREATE MODEL CLASS\n",
        "'''\n",
        "class LogisticRegressionModel(nn.Module):\n",
        "    def __init__(self, input_size, num_classes):\n",
        "        super(LogisticRegressionModel, self).__init__()\n",
        "        self.linear = nn.Linear(input_dim, output_dim)\n",
        "    \n",
        "    def forward(self, x):\n",
        "        out = self.linear(x)\n",
        "        return out\n",
        "\n",
        "'''\n",
        "STEP 4: INSTANTIATE MODEL CLASS\n",
        "'''\n",
        "input_dim = 28*28\n",
        "output_dim = 10\n",
        "\n",
        "model = LogisticRegressionModel(input_dim, output_dim)\n",
        "\n",
        "'''\n",
        "STEP 5: INSTANTIATE LOSS CLASS\n",
        "'''\n",
        "criterion = nn.CrossEntropyLoss()\n",
        "\n",
        "\n",
        "'''\n",
        "STEP 6: INSTANTIATE OPTIMIZER CLASS\n",
        "'''\n",
        "learning_rate = 0.001\n",
        "\n",
        "optimizer = torch.optim.SGD(model.parameters(), lr=learning_rate)\n",
        "\n",
        "'''\n",
        "STEP 7: TRAIN THE MODEL\n",
        "'''\n",
        "iter = 0\n",
        "for epoch in range(num_epochs):\n",
        "    for i, (images, labels) in enumerate(train_loader):\n",
        "        # Load images as Variable\n",
        "        images = images.view(-1, 28*28).requires_grad_()\n",
        "        labels = labels\n",
        "        \n",
        "        # Clear gradients w.r.t. parameters\n",
        "        optimizer.zero_grad()\n",
        "        \n",
        "        # Forward pass to get output/logits\n",
        "        # 100 x 10\n",
        "        outputs = model(images)\n",
        "        \n",
        "        # Calculate Loss: softmax --> cross entropy loss\n",
        "        loss = criterion(outputs, labels)\n",
        "        \n",
        "        # Getting gradients w.r.t. parameters\n",
        "        loss.backward()\n",
        "        \n",
        "        # Updating parameters\n",
        "        optimizer.step()\n",
        "        \n",
        "        iter += 1\n",
        "        \n",
        "        if iter % 500 == 0:\n",
        "            # Calculate Accuracy         \n",
        "            correct = 0\n",
        "            total = 0\n",
        "            # Iterate through test dataset\n",
        "            for images, labels in test_loader:\n",
        "                # Load images to a Torch Variable\n",
        "                images = images.view(-1, 28*28).requires_grad_()\n",
        "                \n",
        "                # Forward pass only to get logits/output\n",
        "                outputs = model(images)\n",
        "                \n",
        "                # Get predictions from the maximum value\n",
        "                # 100 x 1\n",
        "                _, predicted = torch.max(outputs.data, 1)\n",
        "                \n",
        "                # Total number of labels\n",
        "                total += labels.size(0)\n",
        "                \n",
        "                # Total correct predictions\n",
        "                correct += (predicted == labels).sum()\n",
        "            \n",
        "            accuracy = 100 * correct.item() / total\n",
        "            \n",
        "            # Print Loss\n",
        "            print('Iteration: {}. Loss: {}. Accuracy: {}'.format(iter, loss.item(), accuracy))"
      ],
      "execution_count": 49,
      "outputs": [
        {
          "output_type": "stream",
          "text": [
            "Iteration: 500. Loss: 1.8585511445999146. Accuracy: 67.13\n",
            "Iteration: 1000. Loss: 1.5915520191192627. Accuracy: 76.49\n",
            "Iteration: 1500. Loss: 1.3948060274124146. Accuracy: 79.9\n",
            "Iteration: 2000. Loss: 1.2040984630584717. Accuracy: 81.25\n",
            "Iteration: 2500. Loss: 1.131636619567871. Accuracy: 82.36\n",
            "Iteration: 3000. Loss: 0.9151694774627686. Accuracy: 83.13\n"
          ],
          "name": "stdout"
        }
      ]
    },
    {
      "cell_type": "markdown",
      "metadata": {
        "id": "aPK_-vMuVHdp",
        "colab_type": "text"
      },
      "source": [
        "GPU: 2 things must be on GPU\n",
        "- `model`\n",
        "- `variables`"
      ]
    },
    {
      "cell_type": "code",
      "metadata": {
        "id": "-Sp9Ngv5VHdq",
        "colab_type": "code",
        "colab": {
          "base_uri": "https://localhost:8080/",
          "height": 119
        },
        "outputId": "cb33cc5c-4e04-4743-8d19-bdd9585d6b47"
      },
      "source": [
        "import torch\n",
        "import torch.nn as nn\n",
        "import torchvision.transforms as transforms\n",
        "import torchvision.datasets as dsets\n",
        "\n",
        "'''\n",
        "STEP 1: LOADING DATASET\n",
        "'''\n",
        "\n",
        "train_dataset = dsets.MNIST(root='./data', \n",
        "                            train=True, \n",
        "                            transform=transforms.ToTensor(),\n",
        "                            download=True)\n",
        "\n",
        "test_dataset = dsets.MNIST(root='./data', \n",
        "                           train=False, \n",
        "                           transform=transforms.ToTensor())\n",
        "\n",
        "'''\n",
        "STEP 2: MAKING DATASET ITERABLE\n",
        "'''\n",
        "\n",
        "batch_size = 100\n",
        "n_iters = 3000\n",
        "num_epochs = n_iters / (len(train_dataset) / batch_size)\n",
        "num_epochs = int(num_epochs)\n",
        "\n",
        "train_loader = torch.utils.data.DataLoader(dataset=train_dataset, \n",
        "                                           batch_size=batch_size, \n",
        "                                           shuffle=True)\n",
        "\n",
        "test_loader = torch.utils.data.DataLoader(dataset=test_dataset, \n",
        "                                          batch_size=batch_size, \n",
        "                                          shuffle=False)\n",
        "\n",
        "'''\n",
        "STEP 3: CREATE MODEL CLASS\n",
        "'''\n",
        "class LogisticRegressionModel(nn.Module):\n",
        "    def __init__(self, input_size, num_classes):\n",
        "        super(LogisticRegressionModel, self).__init__()\n",
        "        self.linear = nn.Linear(input_dim, output_dim)\n",
        "    \n",
        "    def forward(self, x):\n",
        "        out = self.linear(x)\n",
        "        return out\n",
        "\n",
        "'''\n",
        "STEP 4: INSTANTIATE MODEL CLASS\n",
        "'''\n",
        "input_dim = 28*28\n",
        "output_dim = 10\n",
        "\n",
        "model = LogisticRegressionModel(input_dim, output_dim)\n",
        "\n",
        "#######################\n",
        "#  USE GPU FOR MODEL  #\n",
        "#######################\n",
        "\n",
        "device = torch.device(\"cuda:0\" if torch.cuda.is_available() else \"cpu\")\n",
        "model.to(device)\n",
        "\n",
        "'''\n",
        "STEP 5: INSTANTIATE LOSS CLASS\n",
        "'''\n",
        "criterion = nn.CrossEntropyLoss()\n",
        "\n",
        "\n",
        "'''\n",
        "STEP 6: INSTANTIATE OPTIMIZER CLASS\n",
        "'''\n",
        "learning_rate = 0.001\n",
        "\n",
        "optimizer = torch.optim.SGD(model.parameters(), lr=learning_rate)\n",
        "\n",
        "'''\n",
        "STEP 7: TRAIN THE MODEL\n",
        "'''\n",
        "iter = 0\n",
        "for epoch in range(num_epochs):\n",
        "    for i, (images, labels) in enumerate(train_loader):\n",
        "        \n",
        "        #######################\n",
        "        #  USE GPU FOR MODEL  #\n",
        "        #######################\n",
        "        images = images.view(-1, 28*28).requires_grad_().to(device)\n",
        "        labels = labels.to(device)\n",
        "        \n",
        "        # Clear gradients w.r.t. parameters\n",
        "        optimizer.zero_grad()\n",
        "        \n",
        "        # Forward pass to get output/logits\n",
        "        outputs = model(images)\n",
        "        \n",
        "        # Calculate Loss: softmax --> cross entropy loss\n",
        "        loss = criterion(outputs, labels)\n",
        "        \n",
        "        # Getting gradients w.r.t. parameters\n",
        "        loss.backward()\n",
        "        \n",
        "        # Updating parameters\n",
        "        optimizer.step()\n",
        "        \n",
        "        iter += 1\n",
        "        \n",
        "        if iter % 500 == 0:\n",
        "            # Calculate Accuracy         \n",
        "            correct = 0\n",
        "            total = 0\n",
        "            # Iterate through test dataset\n",
        "            for images, labels in test_loader:\n",
        "                #######################\n",
        "                #  USE GPU FOR MODEL  #\n",
        "                #######################\n",
        "                images = images.view(-1, 28*28).to(device)\n",
        "                \n",
        "                # Forward pass only to get logits/output\n",
        "                outputs = model(images)\n",
        "                \n",
        "                # Get predictions from the maximum value\n",
        "                _, predicted = torch.max(outputs.data, 1)\n",
        "                \n",
        "                # Total number of labels\n",
        "                total += labels.size(0)\n",
        "                \n",
        "                #######################\n",
        "                #  USE GPU FOR MODEL  #\n",
        "                #######################\n",
        "                # Total correct predictions\n",
        "                if torch.cuda.is_available():\n",
        "                    correct += (predicted.cpu() == labels.cpu()).sum()\n",
        "                else:\n",
        "                    correct += (predicted == labels).sum()\n",
        "            \n",
        "            accuracy = 100 * correct.item() / total\n",
        "            \n",
        "            # Print Loss\n",
        "            print('Iteration: {}. Loss: {}. Accuracy: {}'.format(iter, loss.item(), accuracy))"
      ],
      "execution_count": 50,
      "outputs": [
        {
          "output_type": "stream",
          "text": [
            "Iteration: 500. Loss: 1.8681875467300415. Accuracy: 69.52\n",
            "Iteration: 1000. Loss: 1.5914909839630127. Accuracy: 76.78\n",
            "Iteration: 1500. Loss: 1.4236671924591064. Accuracy: 79.06\n",
            "Iteration: 2000. Loss: 1.0975348949432373. Accuracy: 80.97\n",
            "Iteration: 2500. Loss: 1.0723942518234253. Accuracy: 82.21\n",
            "Iteration: 3000. Loss: 0.9762925505638123. Accuracy: 83.08\n"
          ],
          "name": "stdout"
        }
      ]
    },
    {
      "cell_type": "markdown",
      "metadata": {
        "id": "QxoVuiIlVHds",
        "colab_type": "text"
      },
      "source": [
        "# Summary"
      ]
    },
    {
      "cell_type": "markdown",
      "metadata": {
        "id": "mQ5zofngVHds",
        "colab_type": "text"
      },
      "source": [
        "- **Logistic regression** basics\n",
        "- **Problems** of **linear regression**\n",
        "- **In-depth** Logistic Regression\n",
        "    1. Get logits\n",
        "    2. Get softmax\n",
        "    3. Get cross-entropy loss\n",
        "- **Aim**: reduce cross-entropy loss\n",
        "- Built a **logistic regression model** in **CPU and GPU**\n",
        "    - Step 1: Load Dataset\n",
        "    - Step 2: Make Dataset Iterable\n",
        "    - Step 3: Create Model Class\n",
        "    - Step 4: Instantiate Model Class\n",
        "    - Step 5: Instantiate Loss Class\n",
        "    - Step 6: Instantiate Optimizer Class\n",
        "    - Step 7: Train Model\n",
        "- Important things to be on **GPU**\n",
        "    - `model`\n",
        "    - `tensors with gradients`"
      ]
    }
  ]
}